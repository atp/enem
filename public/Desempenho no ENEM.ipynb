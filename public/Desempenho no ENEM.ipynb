{
 "cells": [
  {
   "cell_type": "code",
   "execution_count": 1,
   "id": "405802df-bc6d-48c0-b479-6719d7422466",
   "metadata": {},
   "outputs": [],
   "source": [
    "import numpy as np\n",
    "import pandas as pd\n",
    "import seaborn as sns\n",
    "import matplotlib.pyplot as plt\n",
    "import ipywidgets as widgets\n",
    "from ipywidgets import interact, interactive, fixed, interact_manual\n",
    "\n",
    "import sys, os\n",
    "\n",
    "%load_ext autoreload\n",
    "%autoreload 2\n",
    "\n",
    "sys.path.append('..')\n",
    "from util import provas,load_padr, score_inep, load_sample"
   ]
  },
  {
   "cell_type": "markdown",
   "id": "9aa94278-a72a-44ae-9633-c85e8a6225dc",
   "metadata": {},
   "source": [
    "# Microdados do ENEM\n",
    "Antes de participar do ENEM os candidatos respondem algumas perguntas sobre sua família, a escola que frequentaram e outras questões \"contextuais\". "
   ]
  },
  {
   "cell_type": "code",
   "execution_count": 2,
   "id": "11678ed5-3718-4aef-9998-e21da9f12c53",
   "metadata": {},
   "outputs": [
    {
     "data": {
      "application/vnd.jupyter.widget-view+json": {
       "model_id": "6a42bf38def540cab0d92de212324527",
       "version_major": 2,
       "version_minor": 0
      },
      "text/plain": [
       "interactive(children=(Dropdown(description='Ano:', index=13, options=(2009, 2010, 2011, 2012, 2013, 2014, 2015…"
      ]
     },
     "metadata": {},
     "output_type": "display_data"
    }
   ],
   "source": [
    "sns.set_theme()\n",
    "def enemfig(ano=2022,area='MT',N=3000,col='',showdata=False):\n",
    "\n",
    "    amostra = load_sample(ano,N)\n",
    "      \n",
    "    q2map = {'A':'Nunca estudou',\n",
    "        'B':'Não completou o 5º ano do EF ',\n",
    "        'C':'Completou o 5º ano do EF.',\n",
    "        'D':'Completou o 9º ano do EF',\n",
    "        'E':'Completou o Ensino Médio.',\n",
    "        'F':'Completou a Faculdade.',\n",
    "        'G':'Completou a Pós-graduação.',\n",
    "        'H':'Não sei.'}\n",
    "      \n",
    "    \n",
    "    amostra['Q002'] = amostra['Q002'].map(q2map)\n",
    "    amostra['Q002']\n",
    "    \n",
    "    ho = q2map.values()\n",
    "    if col:   \n",
    "        g = sns.catplot(amostra,kind='box',x='Q002',y=f'NU_NOTA_{area}',order=ho,hue=col,height=6,aspect=2)\n",
    "    else:\n",
    "        g = sns.catplot(amostra,kind='box',x='Q002',y=f'NU_NOTA_{area}',order=ho,height=6,aspect=2)\n",
    "    if showdata:\n",
    "        g.map(sns.stripplot,'Q002','NU_NOTA_MT',color='grey',order=ho,alpha=0.3)\n",
    "    g.fig.subplots_adjust(top=0.85)\n",
    "    g.fig.suptitle(f\"Nota ENEM {ano} Matemática\\npor {col} e educação da mãe\")\n",
    "    g.set_xticklabels(rotation=45,ha='right')\n",
    "    g.set(xlabel=None)\n",
    "    g.set(ylim=(300,1000))\n",
    "\n",
    "anowidg = widgets.Dropdown(\n",
    "    options=range(2009,2023),\n",
    "    value=2022,\n",
    "    description='Ano:',\n",
    ")\n",
    "\n",
    "areawidg = widgets.Dropdown(\n",
    "    options=['CN','CH','MT'],\n",
    "    value='MT',\n",
    "    description='Área:',\n",
    ")\n",
    "\n",
    "colwidg = widgets.Dropdown(\n",
    "    options=['','TP_SEXO','TP_ESCOLA','TP_COR_RACA'],\n",
    "    value='TP_SEXO',\n",
    "    description='Por:',\n",
    ")\n",
    "\n",
    "nwidg = widgets.IntText(\n",
    "    value=3000,\n",
    "    description='Amostra:',\n",
    "    disabled=False\n",
    ")\n",
    "\n",
    "\n",
    "\n",
    "\n",
    "interact(enemfig,ano=anowidg,area=areawidg,N=nwidg,col=colwidg);"
   ]
  },
  {
   "cell_type": "code",
   "execution_count": null,
   "id": "7d759c92-f5da-44b8-995e-bbd8bf3cdd3f",
   "metadata": {},
   "outputs": [],
   "source": []
  }
 ],
 "metadata": {
  "kernelspec": {
   "display_name": "Python 3 (ipykernel)",
   "language": "python",
   "name": "python3"
  },
  "language_info": {
   "codemirror_mode": {
    "name": "ipython",
    "version": 3
   },
   "file_extension": ".py",
   "mimetype": "text/x-python",
   "name": "python",
   "nbconvert_exporter": "python",
   "pygments_lexer": "ipython3",
   "version": "3.9.15"
  }
 },
 "nbformat": 4,
 "nbformat_minor": 5
}
