{
 "cells": [
  {
   "cell_type": "code",
   "execution_count": 1,
   "id": "f0fc7c49-06fd-4261-ab1e-00a9a32d28a8",
   "metadata": {
    "editable": true,
    "slideshow": {
     "slide_type": ""
    },
    "tags": [
     "hide-input"
    ]
   },
   "outputs": [],
   "source": [
    "import numpy as np\n",
    "import pandas as pd\n",
    "import seaborn as sns\n",
    "import matplotlib.pyplot as plt\n",
    "import random\n",
    "import scipy\n",
    "from scipy.stats import norm\n",
    "\n",
    "import ipywidgets as widgets\n",
    "from ipywidgets import interact, interactive, fixed, interact_manual\n"
   ]
  },
  {
   "cell_type": "code",
   "execution_count": 2,
   "id": "08591852-1e27-4288-bb86-dc199f0ee43b",
   "metadata": {
    "editable": true,
    "slideshow": {
     "slide_type": ""
    },
    "tags": [
     "hide-input"
    ]
   },
   "outputs": [],
   "source": [
    "import sys\n",
    "\n",
    "sys.path.append('/home/ewout/enem_atp/')\n",
    "from util import load_sample, load_acertos,provas,score_inep,load_padr,item_info_inep, params_inep, scalecalparams\n",
    "%load_ext autoreload\n",
    "%autoreload 2"
   ]
  },
  {
   "cell_type": "markdown",
   "id": "73e380e3-2ae0-4571-8922-993311baa356",
   "metadata": {
    "editable": true,
    "slideshow": {
     "slide_type": ""
    },
    "tags": []
   },
   "source": [
    "# Como funciona TRI\n",
    "A teoria de resposta ao item é uma metodologia para calcular notas a partir de padrões de respostas a \"itens\" (questões). Vamos começar com um exemplo, carregando uma amostra de alguns dos milhões de candidatos que fizeram a prova de 2023.\n",
    "\n",
    "```{admonition} Microdados\n",
    "Para este projeto baixamos [os microdados do ENEM](https://www.gov.br/inep/pt-br/acesso-a-informacao/dados-abertos/microdados) disponibilizados pelo INEP. Para ver o nosso *pipeline* de processamento de dados e as funções que usamos abaixo, veja o nosso repositório de código: https://github.com/atp/enem\n",
    "```\n"
   ]
  },
  {
   "cell_type": "code",
   "execution_count": 3,
   "id": "fd494d5b-f292-43b5-a3f4-c712d5cb02a7",
   "metadata": {
    "editable": true,
    "slideshow": {
     "slide_type": ""
    },
    "tags": []
   },
   "outputs": [
    {
     "data": {
      "text/html": [
       "<div>\n",
       "<style scoped>\n",
       "    .dataframe tbody tr th:only-of-type {\n",
       "        vertical-align: middle;\n",
       "    }\n",
       "\n",
       "    .dataframe tbody tr th {\n",
       "        vertical-align: top;\n",
       "    }\n",
       "\n",
       "    .dataframe thead th {\n",
       "        text-align: right;\n",
       "    }\n",
       "</style>\n",
       "<table border=\"1\" class=\"dataframe\">\n",
       "  <thead>\n",
       "    <tr style=\"text-align: right;\">\n",
       "      <th></th>\n",
       "      <th>NU_INSCRICAO</th>\n",
       "      <th>NU_ANO</th>\n",
       "      <th>TP_FAIXA_ETARIA</th>\n",
       "      <th>TP_SEXO</th>\n",
       "      <th>TP_ESTADO_CIVIL</th>\n",
       "      <th>TP_COR_RACA</th>\n",
       "      <th>TP_NACIONALIDADE</th>\n",
       "      <th>TP_ST_CONCLUSAO</th>\n",
       "      <th>TP_ANO_CONCLUIU</th>\n",
       "      <th>TP_ESCOLA</th>\n",
       "      <th>...</th>\n",
       "      <th>Q016</th>\n",
       "      <th>Q017</th>\n",
       "      <th>Q018</th>\n",
       "      <th>Q019</th>\n",
       "      <th>Q020</th>\n",
       "      <th>Q021</th>\n",
       "      <th>Q022</th>\n",
       "      <th>Q023</th>\n",
       "      <th>Q024</th>\n",
       "      <th>Q025</th>\n",
       "    </tr>\n",
       "  </thead>\n",
       "  <tbody>\n",
       "    <tr>\n",
       "      <th>12327</th>\n",
       "      <td>210060353681</td>\n",
       "      <td>2023</td>\n",
       "      <td>7</td>\n",
       "      <td>F</td>\n",
       "      <td>1</td>\n",
       "      <td>1</td>\n",
       "      <td>1</td>\n",
       "      <td>1</td>\n",
       "      <td>0</td>\n",
       "      <td>1</td>\n",
       "      <td>...</td>\n",
       "      <td>B</td>\n",
       "      <td>A</td>\n",
       "      <td>B</td>\n",
       "      <td>A</td>\n",
       "      <td>A</td>\n",
       "      <td>A</td>\n",
       "      <td>C</td>\n",
       "      <td>A</td>\n",
       "      <td>A</td>\n",
       "      <td>B</td>\n",
       "    </tr>\n",
       "    <tr>\n",
       "      <th>20293</th>\n",
       "      <td>210059819675</td>\n",
       "      <td>2023</td>\n",
       "      <td>5</td>\n",
       "      <td>M</td>\n",
       "      <td>1</td>\n",
       "      <td>3</td>\n",
       "      <td>1</td>\n",
       "      <td>2</td>\n",
       "      <td>0</td>\n",
       "      <td>2</td>\n",
       "      <td>...</td>\n",
       "      <td>B</td>\n",
       "      <td>A</td>\n",
       "      <td>A</td>\n",
       "      <td>B</td>\n",
       "      <td>A</td>\n",
       "      <td>B</td>\n",
       "      <td>D</td>\n",
       "      <td>A</td>\n",
       "      <td>B</td>\n",
       "      <td>B</td>\n",
       "    </tr>\n",
       "    <tr>\n",
       "      <th>19664</th>\n",
       "      <td>210058903854</td>\n",
       "      <td>2023</td>\n",
       "      <td>9</td>\n",
       "      <td>M</td>\n",
       "      <td>1</td>\n",
       "      <td>0</td>\n",
       "      <td>1</td>\n",
       "      <td>1</td>\n",
       "      <td>5</td>\n",
       "      <td>1</td>\n",
       "      <td>...</td>\n",
       "      <td>A</td>\n",
       "      <td>A</td>\n",
       "      <td>A</td>\n",
       "      <td>B</td>\n",
       "      <td>A</td>\n",
       "      <td>A</td>\n",
       "      <td>B</td>\n",
       "      <td>A</td>\n",
       "      <td>A</td>\n",
       "      <td>A</td>\n",
       "    </tr>\n",
       "    <tr>\n",
       "      <th>3186</th>\n",
       "      <td>210059340678</td>\n",
       "      <td>2023</td>\n",
       "      <td>12</td>\n",
       "      <td>M</td>\n",
       "      <td>3</td>\n",
       "      <td>3</td>\n",
       "      <td>1</td>\n",
       "      <td>1</td>\n",
       "      <td>0</td>\n",
       "      <td>1</td>\n",
       "      <td>...</td>\n",
       "      <td>B</td>\n",
       "      <td>A</td>\n",
       "      <td>A</td>\n",
       "      <td>B</td>\n",
       "      <td>A</td>\n",
       "      <td>A</td>\n",
       "      <td>B</td>\n",
       "      <td>A</td>\n",
       "      <td>A</td>\n",
       "      <td>B</td>\n",
       "    </tr>\n",
       "    <tr>\n",
       "      <th>3779</th>\n",
       "      <td>210059748153</td>\n",
       "      <td>2023</td>\n",
       "      <td>11</td>\n",
       "      <td>M</td>\n",
       "      <td>1</td>\n",
       "      <td>1</td>\n",
       "      <td>1</td>\n",
       "      <td>1</td>\n",
       "      <td>8</td>\n",
       "      <td>1</td>\n",
       "      <td>...</td>\n",
       "      <td>A</td>\n",
       "      <td>A</td>\n",
       "      <td>A</td>\n",
       "      <td>A</td>\n",
       "      <td>A</td>\n",
       "      <td>A</td>\n",
       "      <td>B</td>\n",
       "      <td>A</td>\n",
       "      <td>A</td>\n",
       "      <td>B</td>\n",
       "    </tr>\n",
       "  </tbody>\n",
       "</table>\n",
       "<p>5 rows × 76 columns</p>\n",
       "</div>"
      ],
      "text/plain": [
       "       NU_INSCRICAO  NU_ANO  TP_FAIXA_ETARIA TP_SEXO  TP_ESTADO_CIVIL  \\\n",
       "12327  210060353681    2023                7       F                1   \n",
       "20293  210059819675    2023                5       M                1   \n",
       "19664  210058903854    2023                9       M                1   \n",
       "3186   210059340678    2023               12       M                3   \n",
       "3779   210059748153    2023               11       M                1   \n",
       "\n",
       "       TP_COR_RACA  TP_NACIONALIDADE  TP_ST_CONCLUSAO  TP_ANO_CONCLUIU  \\\n",
       "12327            1                 1                1                0   \n",
       "20293            3                 1                2                0   \n",
       "19664            0                 1                1                5   \n",
       "3186             3                 1                1                0   \n",
       "3779             1                 1                1                8   \n",
       "\n",
       "       TP_ESCOLA  ...  Q016  Q017  Q018 Q019  Q020 Q021  Q022  Q023  Q024  \\\n",
       "12327          1  ...     B     A     B    A     A    A     C     A     A   \n",
       "20293          2  ...     B     A     A    B     A    B     D     A     B   \n",
       "19664          1  ...     A     A     A    B     A    A     B     A     A   \n",
       "3186           1  ...     B     A     A    B     A    A     B     A     A   \n",
       "3779           1  ...     A     A     A    A     A    A     B     A     A   \n",
       "\n",
       "       Q025  \n",
       "12327     B  \n",
       "20293     B  \n",
       "19664     A  \n",
       "3186      B  \n",
       "3779      B  \n",
       "\n",
       "[5 rows x 76 columns]"
      ]
     },
     "execution_count": 3,
     "metadata": {},
     "output_type": "execute_result"
    }
   ],
   "source": [
    "load_sample(2023,5)"
   ]
  },
  {
   "cell_type": "markdown",
   "id": "c8f02dc2-d916-4abc-903e-d8433be75d56",
   "metadata": {},
   "source": [
    "Vemos que para cada candidato há informaçoes contextuais (autoreportado, na hora de fazer a inscrição do ENEM) sobre idade, sexo, cor/raça e outros variáveis. Nesta base também constam os padrões de resposta e a nota ENEM determinado pelo INEP. Transformamos estes dados numa outra tabela para facilitar as análises que vamos fazer:"
   ]
  },
  {
   "cell_type": "code",
   "execution_count": 4,
   "id": "a6c21019-9684-42d6-9207-2147bb8c99d6",
   "metadata": {},
   "outputs": [
    {
     "data": {
      "text/html": [
       "<div>\n",
       "<style scoped>\n",
       "    .dataframe tbody tr th:only-of-type {\n",
       "        vertical-align: middle;\n",
       "    }\n",
       "\n",
       "    .dataframe tbody tr th {\n",
       "        vertical-align: top;\n",
       "    }\n",
       "\n",
       "    .dataframe thead th {\n",
       "        text-align: right;\n",
       "    }\n",
       "</style>\n",
       "<table border=\"1\" class=\"dataframe\">\n",
       "  <thead>\n",
       "    <tr style=\"text-align: right;\">\n",
       "      <th></th>\n",
       "      <th>40724</th>\n",
       "      <th>60332</th>\n",
       "      <th>126604</th>\n",
       "      <th>117631</th>\n",
       "      <th>43890</th>\n",
       "      <th>85436</th>\n",
       "      <th>26042</th>\n",
       "      <th>83558</th>\n",
       "      <th>64023</th>\n",
       "      <th>87989</th>\n",
       "      <th>...</th>\n",
       "      <th>111665</th>\n",
       "      <th>84422</th>\n",
       "      <th>83378</th>\n",
       "      <th>117887</th>\n",
       "      <th>66330</th>\n",
       "      <th>48492</th>\n",
       "      <th>63155</th>\n",
       "      <th>acertos</th>\n",
       "      <th>caderno</th>\n",
       "      <th>nota_inep</th>\n",
       "    </tr>\n",
       "    <tr>\n",
       "      <th>candidato</th>\n",
       "      <th></th>\n",
       "      <th></th>\n",
       "      <th></th>\n",
       "      <th></th>\n",
       "      <th></th>\n",
       "      <th></th>\n",
       "      <th></th>\n",
       "      <th></th>\n",
       "      <th></th>\n",
       "      <th></th>\n",
       "      <th></th>\n",
       "      <th></th>\n",
       "      <th></th>\n",
       "      <th></th>\n",
       "      <th></th>\n",
       "      <th></th>\n",
       "      <th></th>\n",
       "      <th></th>\n",
       "      <th></th>\n",
       "      <th></th>\n",
       "      <th></th>\n",
       "    </tr>\n",
       "  </thead>\n",
       "  <tbody>\n",
       "    <tr>\n",
       "      <th>210059329337</th>\n",
       "      <td>1</td>\n",
       "      <td>0</td>\n",
       "      <td>1</td>\n",
       "      <td>1</td>\n",
       "      <td>0</td>\n",
       "      <td>0</td>\n",
       "      <td>0</td>\n",
       "      <td>1</td>\n",
       "      <td>0</td>\n",
       "      <td>0</td>\n",
       "      <td>...</td>\n",
       "      <td>0</td>\n",
       "      <td>1</td>\n",
       "      <td>1</td>\n",
       "      <td>1</td>\n",
       "      <td>1</td>\n",
       "      <td>0</td>\n",
       "      <td>0</td>\n",
       "      <td>15</td>\n",
       "      <td>1223</td>\n",
       "      <td>555.8</td>\n",
       "    </tr>\n",
       "    <tr>\n",
       "      <th>210059657070</th>\n",
       "      <td>0</td>\n",
       "      <td>0</td>\n",
       "      <td>0</td>\n",
       "      <td>0</td>\n",
       "      <td>1</td>\n",
       "      <td>0</td>\n",
       "      <td>0</td>\n",
       "      <td>0</td>\n",
       "      <td>0</td>\n",
       "      <td>0</td>\n",
       "      <td>...</td>\n",
       "      <td>0</td>\n",
       "      <td>0</td>\n",
       "      <td>1</td>\n",
       "      <td>0</td>\n",
       "      <td>0</td>\n",
       "      <td>0</td>\n",
       "      <td>0</td>\n",
       "      <td>8</td>\n",
       "      <td>1223</td>\n",
       "      <td>375.2</td>\n",
       "    </tr>\n",
       "    <tr>\n",
       "      <th>210060851728</th>\n",
       "      <td>1</td>\n",
       "      <td>0</td>\n",
       "      <td>1</td>\n",
       "      <td>1</td>\n",
       "      <td>1</td>\n",
       "      <td>0</td>\n",
       "      <td>0</td>\n",
       "      <td>1</td>\n",
       "      <td>0</td>\n",
       "      <td>1</td>\n",
       "      <td>...</td>\n",
       "      <td>0</td>\n",
       "      <td>1</td>\n",
       "      <td>1</td>\n",
       "      <td>1</td>\n",
       "      <td>0</td>\n",
       "      <td>0</td>\n",
       "      <td>0</td>\n",
       "      <td>17</td>\n",
       "      <td>1224</td>\n",
       "      <td>591.5</td>\n",
       "    </tr>\n",
       "    <tr>\n",
       "      <th>210060638195</th>\n",
       "      <td>1</td>\n",
       "      <td>0</td>\n",
       "      <td>0</td>\n",
       "      <td>1</td>\n",
       "      <td>1</td>\n",
       "      <td>0</td>\n",
       "      <td>0</td>\n",
       "      <td>0</td>\n",
       "      <td>0</td>\n",
       "      <td>1</td>\n",
       "      <td>...</td>\n",
       "      <td>0</td>\n",
       "      <td>0</td>\n",
       "      <td>1</td>\n",
       "      <td>1</td>\n",
       "      <td>0</td>\n",
       "      <td>1</td>\n",
       "      <td>0</td>\n",
       "      <td>11</td>\n",
       "      <td>1221</td>\n",
       "      <td>488.0</td>\n",
       "    </tr>\n",
       "    <tr>\n",
       "      <th>210061451899</th>\n",
       "      <td>1</td>\n",
       "      <td>0</td>\n",
       "      <td>1</td>\n",
       "      <td>0</td>\n",
       "      <td>0</td>\n",
       "      <td>0</td>\n",
       "      <td>1</td>\n",
       "      <td>1</td>\n",
       "      <td>0</td>\n",
       "      <td>1</td>\n",
       "      <td>...</td>\n",
       "      <td>0</td>\n",
       "      <td>0</td>\n",
       "      <td>1</td>\n",
       "      <td>0</td>\n",
       "      <td>0</td>\n",
       "      <td>1</td>\n",
       "      <td>0</td>\n",
       "      <td>13</td>\n",
       "      <td>1221</td>\n",
       "      <td>499.2</td>\n",
       "    </tr>\n",
       "  </tbody>\n",
       "</table>\n",
       "<p>5 rows × 48 columns</p>\n",
       "</div>"
      ],
      "text/plain": [
       "              40724  60332  126604  117631  43890  85436  26042  83558  64023  \\\n",
       "candidato                                                                       \n",
       "210059329337      1      0       1       1      0      0      0      1      0   \n",
       "210059657070      0      0       0       0      1      0      0      0      0   \n",
       "210060851728      1      0       1       1      1      0      0      1      0   \n",
       "210060638195      1      0       0       1      1      0      0      0      0   \n",
       "210061451899      1      0       1       0      0      0      1      1      0   \n",
       "\n",
       "              87989  ...  111665  84422  83378  117887  66330  48492  63155  \\\n",
       "candidato            ...                                                      \n",
       "210059329337      0  ...       0      1      1       1      1      0      0   \n",
       "210059657070      0  ...       0      0      1       0      0      0      0   \n",
       "210060851728      1  ...       0      1      1       1      0      0      0   \n",
       "210060638195      1  ...       0      0      1       1      0      1      0   \n",
       "210061451899      1  ...       0      0      1       0      0      1      0   \n",
       "\n",
       "              acertos  caderno  nota_inep  \n",
       "candidato                                  \n",
       "210059329337       15     1223      555.8  \n",
       "210059657070        8     1223      375.2  \n",
       "210060851728       17     1224      591.5  \n",
       "210060638195       11     1221      488.0  \n",
       "210061451899       13     1221      499.2  \n",
       "\n",
       "[5 rows x 48 columns]"
      ]
     },
     "execution_count": 4,
     "metadata": {},
     "output_type": "execute_result"
    }
   ],
   "source": [
    "load_acertos(2023,'CN',5)"
   ]
  },
  {
   "cell_type": "markdown",
   "id": "668d9a28-e343-4399-b92b-263ca95ebbb4",
   "metadata": {
    "editable": true,
    "slideshow": {
     "slide_type": ""
    },
    "tags": []
   },
   "source": [
    "## A nota TRI é bem diferente do que o número de acertos\n",
    "Primeiro, mostramos o que todo mundo que já fez o ENEM sabe: dois candidatos com o mesmo número de acertos podem ter notas ENEM bem diferentes. Não é somente o número de acertos que conta, é também o padrão de respostas que é levado em conta:"
   ]
  },
  {
   "cell_type": "code",
   "execution_count": 5,
   "id": "09cde245-5579-49cc-a176-4205caa4f951",
   "metadata": {},
   "outputs": [
    {
     "data": {
      "text/plain": [
       "<Axes: xlabel='acertos', ylabel='nota_inep'>"
      ]
     },
     "execution_count": 5,
     "metadata": {},
     "output_type": "execute_result"
    },
    {
     "data": {
      "image/png": "[encoded data removed]",
      "text/plain": [
       "<Figure size 640x480 with 1 Axes>"
      ]
     },
     "metadata": {},
     "output_type": "display_data"
    }
   ],
   "source": [
    "caderno = 1222\n",
    "df = load_acertos(2023,'CN',5000,prova=caderno)\n",
    "ax = df.plot(kind='scatter',x='acertos',y='nota_inep')\n",
    "df.query(\"acertos == 9\").plot(kind='scatter',x='acertos',y='nota_inep', color='r',ax=ax)\n",
    "df.query(\"nota_inep > 499 & nota_inep < 501\").plot(kind='scatter',x='acertos',y='nota_inep', color='k',ax=ax)"
   ]
  },
  {
   "cell_type": "markdown",
   "id": "9febdf4e-1e1d-4459-9bcf-2cb42dc29731",
   "metadata": {},
   "source": [
    "Vemos que para pessoas com 9 acertos a nota ENEM pode variar de 330 até 530, dependendo quais questões acertaram. E, para quem tirou uma nota ENEM de 500, o número de acertos pode ter sido entre 9 e 16."
   ]
  },
  {
   "cell_type": "markdown",
   "id": "93a236a4-6103-405c-9159-e9684fa718f3",
   "metadata": {
    "editable": true,
    "slideshow": {
     "slide_type": ""
    },
    "tags": []
   },
   "source": [
    "O que explica esta diferença é o padrão de respostas dos candidatos. De uma forma geral, quem acerta de forma mais consistente ganha uma nota maior. Mas, contrário ao senso comum, não é verdade que questões mais difíceis \"pesam mais\" e levam a uma nota maior. Talvez surpreendentemente, dado um certo número de acertos, é melhor acertar itens fáceis do que acertar itens difícil. Podemos mostrar isso com candidatos reais."
   ]
  },
  {
   "cell_type": "markdown",
   "id": "30cbdfd2-21dd-43f7-9de2-41626b9c6ec5",
   "metadata": {
    "editable": true,
    "slideshow": {
     "slide_type": ""
    },
    "tags": []
   },
   "source": [
    "O INEP fornece os parâmetros dos itens, as características das questões determinadas durante o processo de testagem. O parâmetro $a$ representa a \"discriminação\" do item, $b$ é a dificuldade e $c$ a probabilidade de acerto por acaso. Mais abaixo explicamaremos melhor como interpretar estes parâmetros."
   ]
  },
  {
   "cell_type": "code",
   "execution_count": 6,
   "id": "3d8729d1-70e9-4a50-ad0c-06af0dbc88e4",
   "metadata": {},
   "outputs": [
    {
     "data": {
      "text/html": [
       "<div>\n",
       "<style scoped>\n",
       "    .dataframe tbody tr th:only-of-type {\n",
       "        vertical-align: middle;\n",
       "    }\n",
       "\n",
       "    .dataframe tbody tr th {\n",
       "        vertical-align: top;\n",
       "    }\n",
       "\n",
       "    .dataframe thead th {\n",
       "        text-align: right;\n",
       "    }\n",
       "</style>\n",
       "<table border=\"1\" class=\"dataframe\">\n",
       "  <thead>\n",
       "    <tr style=\"text-align: right;\">\n",
       "      <th></th>\n",
       "      <th>a_inep</th>\n",
       "      <th>b_inep</th>\n",
       "      <th>c_inep</th>\n",
       "      <th>u</th>\n",
       "    </tr>\n",
       "    <tr>\n",
       "      <th>CO_ITEM</th>\n",
       "      <th></th>\n",
       "      <th></th>\n",
       "      <th></th>\n",
       "      <th></th>\n",
       "    </tr>\n",
       "  </thead>\n",
       "  <tbody>\n",
       "    <tr>\n",
       "      <th>12018</th>\n",
       "      <td>1.82986</td>\n",
       "      <td>1.82071</td>\n",
       "      <td>0.19864</td>\n",
       "      <td>1</td>\n",
       "    </tr>\n",
       "    <tr>\n",
       "      <th>26042</th>\n",
       "      <td>3.98650</td>\n",
       "      <td>1.63479</td>\n",
       "      <td>0.19026</td>\n",
       "      <td>1</td>\n",
       "    </tr>\n",
       "    <tr>\n",
       "      <th>40724</th>\n",
       "      <td>1.87231</td>\n",
       "      <td>-0.45616</td>\n",
       "      <td>0.19791</td>\n",
       "      <td>1</td>\n",
       "    </tr>\n",
       "    <tr>\n",
       "      <th>43890</th>\n",
       "      <td>3.63689</td>\n",
       "      <td>1.43988</td>\n",
       "      <td>0.18360</td>\n",
       "      <td>1</td>\n",
       "    </tr>\n",
       "    <tr>\n",
       "      <th>47231</th>\n",
       "      <td>5.93670</td>\n",
       "      <td>2.33396</td>\n",
       "      <td>0.11437</td>\n",
       "      <td>1</td>\n",
       "    </tr>\n",
       "  </tbody>\n",
       "</table>\n",
       "</div>"
      ],
      "text/plain": [
       "          a_inep   b_inep   c_inep  u\n",
       "CO_ITEM                              \n",
       "12018    1.82986  1.82071  0.19864  1\n",
       "26042    3.98650  1.63479  0.19026  1\n",
       "40724    1.87231 -0.45616  0.19791  1\n",
       "43890    3.63689  1.43988  0.18360  1\n",
       "47231    5.93670  2.33396  0.11437  1"
      ]
     },
     "execution_count": 6,
     "metadata": {},
     "output_type": "execute_result"
    }
   ],
   "source": [
    "params = params_inep(caderno)\n",
    "params[:5]"
   ]
  },
  {
   "cell_type": "markdown",
   "id": "6398268e-365e-42d7-8162-0ee0d34c9ece",
   "metadata": {
    "editable": true,
    "slideshow": {
     "slide_type": ""
    },
    "tags": []
   },
   "source": [
    "Com algumas manobras, podemos mostrar a diferença entre as padrões de resposta de dois candidatos com o mesmo número de acertos. Observe que a nota alta é obtida para quem acerto as questões mais fáceis. O padrão com acertos em itens difíceis mas erros em itens fáceis é pouco provável e o algoritmo TRI associa uma nota baixa. "
   ]
  },
  {
   "cell_type": "code",
   "execution_count": 7,
   "id": "e5d84bb0-7d8f-46ee-9d72-1075977ff9d8",
   "metadata": {
    "editable": true,
    "slideshow": {
     "slide_type": ""
    },
    "tags": [
     "hide-input"
    ]
   },
   "outputs": [
    {
     "data": {
      "application/vnd.jupyter.widget-view+json": {
       "model_id": "b8886ff798794780b3aa6050dfad966a",
       "version_major": 2,
       "version_minor": 0
      },
      "text/plain": [
       "interactive(children=(IntText(value=9, description='Acertos:'), Output()), _dom_classes=('widget-interact',))"
      ]
     },
     "metadata": {},
     "output_type": "display_data"
    },
    {
     "data": {
      "text/plain": [
       "<function __main__.compare_padr(nacertos=9)>"
      ]
     },
     "execution_count": 7,
     "metadata": {},
     "output_type": "execute_result"
    }
   ],
   "source": [
    "itens_a = pd.qcut(params['a_inep'],3,labels=['Baixa','Média','Alta'])\n",
    "itens_b = pd.qcut(params['b_inep'],3,labels=['Baixa','Média','Alta'])\n",
    "itens = pd.concat([itens_a,itens_b],axis=1)\n",
    "itens.columns = ['discriminação','dificuldade']\n",
    "itens[:5]\n",
    "\n",
    "def compare_padr(nacertos=9):\n",
    "    padrmin = df.loc[df.query(\"acertos == @nacertos\")['nota_inep'].idxmin()]\n",
    "    padrmax = df.loc[df.query(\"acertos == @nacertos\")['nota_inep'].idxmax()]\n",
    "    notamin,notamax = padrmin['nota_inep'], padrmax['nota_inep']\n",
    "    padrmin = padrmin[:-3]; padrmax = padrmax[:-3]\n",
    "    padrmin.index = padrmin.index.astype(int);padrmax.index = padrmax.index.astype(int)\n",
    "    result = params.join(itens).join(padrmin).join(padrmax)\n",
    "    result.columns = ['a','b','c','u','discriminação','dificuldade','nota_baixa','nota_alta']\n",
    "    result = result.sort_values(['b'],ascending=False).query(\"nota_baixa == 1 or nota_alta == 1\")\n",
    "    result.columns = ['a','b','c','u','discriminação','dificuldade',f'nota = {notamin}',f'nota = {notamax}']\n",
    "    return result\n",
    "\n",
    "iw = widgets.IntText(\n",
    "    value=9,\n",
    "    description='Acertos:',\n",
    ")\n",
    "interact(compare_padr, nacertos=iw)"
   ]
  },
  {
   "cell_type": "code",
   "execution_count": 8,
   "id": "6684283e-9f3a-4862-866d-f7b2a745c223",
   "metadata": {},
   "outputs": [
    {
     "data": {
      "application/vnd.jupyter.widget-view+json": {
       "model_id": "57cf717066bb4a728cc4bc0334667d93",
       "version_major": 2,
       "version_minor": 0
      },
      "text/plain": [
       "IntText(value=9, description='Acertos:')"
      ]
     },
     "execution_count": 8,
     "metadata": {},
     "output_type": "execute_result"
    }
   ],
   "source": [
    "iw"
   ]
  },
  {
   "cell_type": "markdown",
   "id": "7882f54a-ee61-4c30-99c0-cbdcb2b82cfe",
   "metadata": {
    "editable": true,
    "slideshow": {
     "slide_type": ""
    },
    "tags": []
   },
   "source": [
    "## O \"peso\" da questão não é sua dificuldade"
   ]
  },
  {
   "cell_type": "markdown",
   "id": "1d126e52-38f6-45fb-8490-974a0f96d00f",
   "metadata": {
    "editable": true,
    "slideshow": {
     "slide_type": ""
    },
    "tags": []
   },
   "source": [
    "Podemos comparar também dois candidatos com notas parecidas do ENEM. Vemos na figura acima que candidatos com uma nota de 500 podem ter acertado entre 6 e 15 itens. Qual é a diferença entre os padrões de resposta deste dois candidatos?\n",
    "\n",
    "Veja abaixo como o padrão de resposta é diferente para dois candidatos com essencialmente a mesma nota ENEM. O primeiro, com poucos acertos, acertou quase todas as questões fáceis. O segundo também acertou uma fração das questões fáceis, mas errou alguns. Apesar de ter acertadas itens difíceis, não adiantou. Acertar uma questão difícil sem acertar as fáceis não leva a notas maiores no TRI. "
   ]
  },
  {
   "cell_type": "code",
   "execution_count": 32,
   "id": "da0ec542-53c7-46b9-ae7d-721a29811b27",
   "metadata": {
    "editable": true,
    "slideshow": {
     "slide_type": ""
    },
    "tags": [
     "hide-input"
    ]
   },
   "outputs": [
    {
     "data": {
      "text/html": [
       "<div>\n",
       "<style scoped>\n",
       "    .dataframe tbody tr th:only-of-type {\n",
       "        vertical-align: middle;\n",
       "    }\n",
       "\n",
       "    .dataframe tbody tr th {\n",
       "        vertical-align: top;\n",
       "    }\n",
       "\n",
       "    .dataframe thead th {\n",
       "        text-align: right;\n",
       "    }\n",
       "</style>\n",
       "<table border=\"1\" class=\"dataframe\">\n",
       "  <thead>\n",
       "    <tr style=\"text-align: right;\">\n",
       "      <th></th>\n",
       "      <th>discriminação</th>\n",
       "      <th>dificuldade</th>\n",
       "      <th>acertos: 8.0, nota: 500.5</th>\n",
       "      <th>acertos: 16.0, nota = 499.4</th>\n",
       "    </tr>\n",
       "    <tr>\n",
       "      <th>CO_ITEM</th>\n",
       "      <th></th>\n",
       "      <th></th>\n",
       "      <th></th>\n",
       "      <th></th>\n",
       "    </tr>\n",
       "  </thead>\n",
       "  <tbody>\n",
       "    <tr>\n",
       "      <th>82446</th>\n",
       "      <td>Média</td>\n",
       "      <td>Alta</td>\n",
       "      <td>1.0</td>\n",
       "      <td>0.0</td>\n",
       "    </tr>\n",
       "    <tr>\n",
       "      <th>54162</th>\n",
       "      <td>Baixa</td>\n",
       "      <td>Alta</td>\n",
       "      <td>0.0</td>\n",
       "      <td>1.0</td>\n",
       "    </tr>\n",
       "    <tr>\n",
       "      <th>111466</th>\n",
       "      <td>Alta</td>\n",
       "      <td>Alta</td>\n",
       "      <td>0.0</td>\n",
       "      <td>1.0</td>\n",
       "    </tr>\n",
       "    <tr>\n",
       "      <th>78578</th>\n",
       "      <td>Alta</td>\n",
       "      <td>Alta</td>\n",
       "      <td>0.0</td>\n",
       "      <td>1.0</td>\n",
       "    </tr>\n",
       "    <tr>\n",
       "      <th>82333</th>\n",
       "      <td>Média</td>\n",
       "      <td>Alta</td>\n",
       "      <td>0.0</td>\n",
       "      <td>1.0</td>\n",
       "    </tr>\n",
       "    <tr>\n",
       "      <th>60037</th>\n",
       "      <td>Média</td>\n",
       "      <td>Alta</td>\n",
       "      <td>1.0</td>\n",
       "      <td>1.0</td>\n",
       "    </tr>\n",
       "    <tr>\n",
       "      <th>85436</th>\n",
       "      <td>Baixa</td>\n",
       "      <td>Média</td>\n",
       "      <td>0.0</td>\n",
       "      <td>1.0</td>\n",
       "    </tr>\n",
       "    <tr>\n",
       "      <th>26042</th>\n",
       "      <td>Alta</td>\n",
       "      <td>Média</td>\n",
       "      <td>0.0</td>\n",
       "      <td>1.0</td>\n",
       "    </tr>\n",
       "    <tr>\n",
       "      <th>83552</th>\n",
       "      <td>Média</td>\n",
       "      <td>Média</td>\n",
       "      <td>0.0</td>\n",
       "      <td>1.0</td>\n",
       "    </tr>\n",
       "    <tr>\n",
       "      <th>60978</th>\n",
       "      <td>Baixa</td>\n",
       "      <td>Média</td>\n",
       "      <td>0.0</td>\n",
       "      <td>1.0</td>\n",
       "    </tr>\n",
       "    <tr>\n",
       "      <th>60689</th>\n",
       "      <td>Alta</td>\n",
       "      <td>Média</td>\n",
       "      <td>0.0</td>\n",
       "      <td>1.0</td>\n",
       "    </tr>\n",
       "    <tr>\n",
       "      <th>64023</th>\n",
       "      <td>Baixa</td>\n",
       "      <td>Média</td>\n",
       "      <td>0.0</td>\n",
       "      <td>1.0</td>\n",
       "    </tr>\n",
       "    <tr>\n",
       "      <th>47317</th>\n",
       "      <td>Média</td>\n",
       "      <td>Baixa</td>\n",
       "      <td>0.0</td>\n",
       "      <td>1.0</td>\n",
       "    </tr>\n",
       "    <tr>\n",
       "      <th>66259</th>\n",
       "      <td>Média</td>\n",
       "      <td>Baixa</td>\n",
       "      <td>1.0</td>\n",
       "      <td>0.0</td>\n",
       "    </tr>\n",
       "    <tr>\n",
       "      <th>83558</th>\n",
       "      <td>Baixa</td>\n",
       "      <td>Baixa</td>\n",
       "      <td>0.0</td>\n",
       "      <td>1.0</td>\n",
       "    </tr>\n",
       "    <tr>\n",
       "      <th>117631</th>\n",
       "      <td>Baixa</td>\n",
       "      <td>Baixa</td>\n",
       "      <td>1.0</td>\n",
       "      <td>0.0</td>\n",
       "    </tr>\n",
       "    <tr>\n",
       "      <th>117887</th>\n",
       "      <td>Média</td>\n",
       "      <td>Baixa</td>\n",
       "      <td>1.0</td>\n",
       "      <td>0.0</td>\n",
       "    </tr>\n",
       "    <tr>\n",
       "      <th>126604</th>\n",
       "      <td>Alta</td>\n",
       "      <td>Baixa</td>\n",
       "      <td>1.0</td>\n",
       "      <td>0.0</td>\n",
       "    </tr>\n",
       "    <tr>\n",
       "      <th>84422</th>\n",
       "      <td>Baixa</td>\n",
       "      <td>Baixa</td>\n",
       "      <td>0.0</td>\n",
       "      <td>1.0</td>\n",
       "    </tr>\n",
       "    <tr>\n",
       "      <th>40724</th>\n",
       "      <td>Baixa</td>\n",
       "      <td>Baixa</td>\n",
       "      <td>1.0</td>\n",
       "      <td>1.0</td>\n",
       "    </tr>\n",
       "    <tr>\n",
       "      <th>83378</th>\n",
       "      <td>Baixa</td>\n",
       "      <td>Baixa</td>\n",
       "      <td>1.0</td>\n",
       "      <td>1.0</td>\n",
       "    </tr>\n",
       "  </tbody>\n",
       "</table>\n",
       "</div>"
      ],
      "text/plain": [
       "        discriminação dificuldade  acertos: 8.0, nota: 500.5  \\\n",
       "CO_ITEM                                                        \n",
       "82446           Média        Alta                        1.0   \n",
       "54162           Baixa        Alta                        0.0   \n",
       "111466           Alta        Alta                        0.0   \n",
       "78578            Alta        Alta                        0.0   \n",
       "82333           Média        Alta                        0.0   \n",
       "60037           Média        Alta                        1.0   \n",
       "85436           Baixa       Média                        0.0   \n",
       "26042            Alta       Média                        0.0   \n",
       "83552           Média       Média                        0.0   \n",
       "60978           Baixa       Média                        0.0   \n",
       "60689            Alta       Média                        0.0   \n",
       "64023           Baixa       Média                        0.0   \n",
       "47317           Média       Baixa                        0.0   \n",
       "66259           Média       Baixa                        1.0   \n",
       "83558           Baixa       Baixa                        0.0   \n",
       "117631          Baixa       Baixa                        1.0   \n",
       "117887          Média       Baixa                        1.0   \n",
       "126604           Alta       Baixa                        1.0   \n",
       "84422           Baixa       Baixa                        0.0   \n",
       "40724           Baixa       Baixa                        1.0   \n",
       "83378           Baixa       Baixa                        1.0   \n",
       "\n",
       "         acertos: 16.0, nota = 499.4  \n",
       "CO_ITEM                               \n",
       "82446                            0.0  \n",
       "54162                            1.0  \n",
       "111466                           1.0  \n",
       "78578                            1.0  \n",
       "82333                            1.0  \n",
       "60037                            1.0  \n",
       "85436                            1.0  \n",
       "26042                            1.0  \n",
       "83552                            1.0  \n",
       "60978                            1.0  \n",
       "60689                            1.0  \n",
       "64023                            1.0  \n",
       "47317                            1.0  \n",
       "66259                            0.0  \n",
       "83558                            1.0  \n",
       "117631                           0.0  \n",
       "117887                           0.0  \n",
       "126604                           0.0  \n",
       "84422                            1.0  \n",
       "40724                            1.0  \n",
       "83378                            1.0  "
      ]
     },
     "execution_count": 32,
     "metadata": {},
     "output_type": "execute_result"
    }
   ],
   "source": [
    "nota1, nota2 = 499,501\n",
    "dfn = df.query(\"nota_inep <= @nota2 and nota_inep > @nota1\")\n",
    "padrmin = dfn.loc[dfn['acertos'].idxmin()]\n",
    "padrmax = dfn.loc[dfn['acertos'].idxmax()]\n",
    "notamin,notamax = padrmin['nota_inep'], padrmax['nota_inep']\n",
    "acertosmin,acertosmax = padrmin['acertos'], padrmax['acertos']\n",
    "padrmin = padrmin[:-3]; padrmax = padrmax[:-3]\n",
    "padrmin.index = padrmin.index.astype(int);padrmax.index = padrmax.index.astype(int)\n",
    "result = params.join(itens).join(padrmin).join(padrmax)\n",
    "result.columns = ['a','b','c','u','discriminação','dificuldade','nota_baixa','nota_alta']\n",
    "result = result.sort_values(['b'],ascending=False).query(\"nota_baixa == 1 or nota_alta == 1\")\n",
    "result.columns = ['a','b','c','u','discriminação','dificuldade',f'acertos: {acertosmin}, nota: {notamin}',f'acertos: {acertosmax}, nota = {notamax}']\n",
    "result = result.drop(columns=['a','b','c','u'])\n",
    "result"
   ]
  },
  {
   "cell_type": "markdown",
   "id": "1262a31f-6ec6-4ee3-8838-6774840050de",
   "metadata": {
    "editable": true,
    "slideshow": {
     "slide_type": ""
    },
    "tags": []
   },
   "source": [
    "## O modelo TRI determina a probabilidade dos padrões de resposta\n",
    "A teoria de resposta ao item faz uma modelagem probabilística para as respostas de um candidato às questões da prova. Vamos chamar a habilidade (presuposto uma quantidade unidimensional nos modelos simples) $\\theta$ e os padrões de resposta $x_i = 0$ (errou) ou $1$ (acertou) para $i=1\\ldots 45$. Então o model TRI postula que um candidato com habilidade $\\theta$ tem uma certa probabilidade $P_i(x_i = 1|\\theta;a_i,b_i,c_i)$ que o candidato acertar a questão $i$. É esta \"habilidade\" $\\theta$ que vai virar a nota do ENEM.\n",
    "\n",
    "Vemos que a probabilidade de acertar depende da habilidade do candidato e das características das questões (parametrizado acima com três parâmetros, mas pode haver outros modelos para as características das questões). Qualquer modelo razoável vai dar uma probabilidade maior de acerto para habilidades $\\theta$ maiores. Da mesma forma, a probabilidade de acerto deve diminuir para questões mais difíceis (para uma determinada habilidade fixa). Grande parte do problema técnica da TRI é estimar, baseado em muitas padrões de resposta a provas como estas que vimos acima, as características das questões. Por agora vamos supor que esta calibração das características das questões foi feito e que conhecemos os parâmetros das questões e portanto a função $P_i$. Agora vamos se perguntar: dado uma certa habilidade, quais serão as padrões de resposta mais prováveis? Uma vez que temos um modelo para esta pergunta, vamos inverter a questão e perguntar: dado um certo padrão de resposta, qual é a habilidade correspondente mais provável?\n",
    "\n",
    "A probabilidade de um determinado padrão de respostas $\\{x_1, x_2 \\ldots x_{45}\\} = \\{x_i\\} = \\vec{x}$, dado uma certa habilidade é\n",
    "\n",
    "$$ \\text{prob}(\\vec{x}|\\theta)= \\prod_{i=1}^{45} P_i(\\theta)^{x_i} (1-P_i(\\theta))^{1-x_{i}} $$\n",
    "\n",
    "Isso parece uma expressão complicada, mas é possível de entender. Estamos supondo que as probabilidades de acertar questões são todas independentes. Neste caso, as leis da probabilidade dizem que precisamos multiplicar as probabilidades de acerto para todas as 45 questões da prova. Vamos supor que queremos saber a probabilidade de um determinado padrão de resposta, digamos $\\{0,1,1,0\\ldots\\}$. A probabilidade de *errar* a primeira questão é $(1-P_1)$, a probabilidade de *acertar* a segunda questão é $P_2$, a terceira $P_3$, a de *errar* a quarta $(1-P_4)$, e assim até a última questão e precisamos multiplicar todas estas probabilidades. Observe que os expoentes $P_i^{x_1}$ na expressao acima é só notação que escolha $P$ para um acerto ($x_i = 1)$ e $(1-P)$ para um erro ($x_i = 0)$. \n",
    "\n",
    "A expressão acima para as $2^{45}$ probabilidades, um para cada padrão de respostas possível, é o *modelo* da TRI. Se não fixamos uma habilidade, cada probabilidade de cada padrão de resposta pode ser considerada uma função da habilidade $\\theta$. Há duas formas de \"inverter\" a expressão acima se conhecemos o padrão de resposta mas agora queremos saber a habilidade $\\theta$. Primeiro o método tradiconal em estastística, \"máxima verossimilhança\". Segundo, o método Bayesiano.\n",
    "\n",
    "\n",
    "### Estimar $\\theta$ por meio do método de máxima verossimilhança\n",
    "Para demonstrar como a inferência da habilidade $\\theta$ funciona, dado um padrão de respostas, vamos analisar um modelo concreto. Precisamos especificar as características das questões (as funções $P_i$) e como exemplo vamos analisar um dos $2^{45}$ padrões de resposta possível: 45 cinco respostas (acertos ou erros para cada uma das questões): $\\{0,1,1,0\\ldots\\}$. \n",
    "\n",
    "Veja as probalidades de acerto que vamos usar (só vamos usar alguns, a título de exemplo):"
   ]
  },
  {
   "cell_type": "code",
   "execution_count": 33,
   "id": "e01cdd56-7343-4d8b-b2c2-2a525fca50e2",
   "metadata": {},
   "outputs": [
    {
     "data": {
      "image/png": "[encoded data removed]",
      "text/plain": [
       "<Figure size 640x480 with 1 Axes>"
      ]
     },
     "metadata": {},
     "output_type": "display_data"
    }
   ],
   "source": [
    "theta = np.arange(-3,3,0.01)\n",
    "sns.set_context('paper',font_scale=1.4)\n",
    "def P(theta,a=1,b=0,c=0):\n",
    "    return c + (1-c)*1/(1+np.exp(a*(b-theta)))\n",
    "colors = ['k','r','b'];i=0\n",
    "for b in [-1,0,1]:\n",
    "    for a in [1,2]:\n",
    "        color = colors[i//2];i +=1\n",
    "        alpha = 1/a\n",
    "        sns.lineplot(x=theta,y=P(theta,a,b),color=color, alpha = alpha, label=f\"$P_{i}$: a={a}, b={b}\")\n",
    "ax = plt.gca()\n",
    "ax.set_xlabel(r\"$\\theta$\");ax.set_ylabel(r\"$P_i(\\theta)$\");"
   ]
  },
  {
   "cell_type": "markdown",
   "id": "81d81916-2f3c-4c65-992d-d537db690c2c",
   "metadata": {},
   "source": [
    "Vamos inicialmente imaginar que só temos informação sobre o acerto ou erro da primeira questão. No nosso exemplo, o candidato errou e $x_1 = 0$. Por enquanto, o nosso modelo diz:\n",
    "\n",
    "$$ \\text{prob}(x_1 = 0|\\theta) = P_1(\\theta)^{0} (1-P_1(\\theta)^{1-0} = 1-P_1(\\theta)$$\n"
   ]
  },
  {
   "cell_type": "code",
   "execution_count": 34,
   "id": "e02f1641-0457-4a50-81a0-4ce0813a9637",
   "metadata": {},
   "outputs": [
    {
     "data": {
      "image/png": "[encoded data removed]",
      "text/plain": [
       "<Figure size 640x480 with 1 Axes>"
      ]
     },
     "metadata": {},
     "output_type": "display_data"
    }
   ],
   "source": [
    "ax = sns.lineplot(x=theta,y=1-P(theta,a=1,b=-1), label=f\"$1-P_{1}$\");\n",
    "ax.set_xlabel(r\"$\\theta$\");ax.set_ylabel(r\"$\\mathrm{prob}(x_1=0|\\theta)$\");"
   ]
  },
  {
   "cell_type": "markdown",
   "id": "11cee108-dc71-45f2-8643-10dc913350a3",
   "metadata": {},
   "source": [
    "Não dá, ainda, para dizer muito sobre a provável habilidade. No método de \"máxima verossimilhança\" ou ML, com somente a informação sobre o erro na primeira questão, a única coisa para dizer é que é mais provável que a habilidade é baixa. Veremos abaixo que no método Bayesiano, que leva em conta mais informação do que somente os acertos às questões, poderíamos dizer um pouco mais. Vamos à próxima questão, era um acerto: $x_2 =1$. Agora a probabilidade desta padrão de resposta é\n",
    "\n",
    "$$\\text{prob}(x_1 = 0, x_2 = 0|\\theta) = (1-P_1(\\theta))(P_2(\\theta))$$\n",
    "\n",
    "e podemos novamente fazer um gráfico da probabilidade desta \"padrão de resposta\" de agora duas respostas:"
   ]
  },
  {
   "cell_type": "code",
   "execution_count": 35,
   "id": "4b6ad325-7784-49c1-a093-1eac2dce120c",
   "metadata": {},
   "outputs": [
    {
     "data": {
      "image/png": "[encoded data removed]",
      "text/plain": [
       "<Figure size 640x480 with 1 Axes>"
      ]
     },
     "metadata": {},
     "output_type": "display_data"
    }
   ],
   "source": [
    "ax = sns.lineplot(x=theta,y=(1-P(theta,a=1,b=-1))*P(theta,a=2,b=-1), label=f\"$(1-P_{1})*P_2$\");\n",
    "ax.set_xlabel(r\"$\\theta$\");ax.set_ylabel(r\"$\\mathrm{prob}(x_1=0,x_2=1|\\theta$)\");"
   ]
  },
  {
   "cell_type": "markdown",
   "id": "3ac546c6-b781-48df-9fa1-c525aa758d82",
   "metadata": {},
   "source": [
    "Vemos que com duas repostas, um erro e outro acerto, já podemos fazer inferências com um pouco mais de confiança. O método de \"máxima verossimilhança\" agora estima uma habilidade próximo de -1. Vamos, para finalizar o exemplo, analisar o padrão de resposta $\\{0,1,1,0\\}$. "
   ]
  },
  {
   "cell_type": "code",
   "execution_count": 36,
   "id": "c1414486-bdbe-4e8d-8bc4-14d4bcd8a8b2",
   "metadata": {},
   "outputs": [
    {
     "data": {
      "image/png": "[encoded data removed]",
      "text/plain": [
       "<Figure size 640x480 with 1 Axes>"
      ]
     },
     "metadata": {},
     "output_type": "display_data"
    }
   ],
   "source": [
    "ax = sns.lineplot(x=theta,y=(1-P(theta,a=1,b=-1))*P(theta,a=2,b=-1)*P(theta,a=1,b=0)*(1-P(theta,a=2,b=0)), label=f\"$(1-P_{1})*P_2*P_3*(1-P_4)$\");\n",
    "ax.set_xlabel(r\"$\\theta$\");ax.set_ylabel(r\"$\\mathrm{prob}(x_1=0,x_2=1,x_3=1,x_4=0|\\theta$)\");"
   ]
  },
  {
   "cell_type": "markdown",
   "id": "aea954ed-b138-4657-9987-5c7307cabc5a",
   "metadata": {},
   "source": [
    "Podemos concluir "
   ]
  },
  {
   "cell_type": "markdown",
   "id": "ef01406b-0a91-4f48-aea3-8520ad0f9ccb",
   "metadata": {
    "editable": true,
    "slideshow": {
     "slide_type": ""
    },
    "tags": []
   },
   "source": [
    "\n",
    "### Estimar $\\theta$ por métodos Bayesianos\n",
    "XXX"
   ]
  },
  {
   "cell_type": "code",
   "execution_count": 37,
   "id": "2343cb7b-dd4f-44dc-ae21-aadf0b0ac704",
   "metadata": {},
   "outputs": [],
   "source": [
    "prova = provas(2022, 'MT')[0]"
   ]
  },
  {
   "cell_type": "code",
   "execution_count": 38,
   "id": "4b037e16-a4f0-44ce-abb6-720ba53b00e0",
   "metadata": {},
   "outputs": [
    {
     "ename": "NameError",
     "evalue": "name 'padr' is not defined",
     "output_type": "error",
     "traceback": [
      "\u001b[0;31m---------------------------------------------------------------------------\u001b[0m",
      "\u001b[0;31mNameError\u001b[0m                                 Traceback (most recent call last)",
      "Cell \u001b[0;32mIn[38], line 1\u001b[0m\n\u001b[0;32m----> 1\u001b[0m \u001b[43mpadr\u001b[49m\u001b[38;5;241m.\u001b[39mindex[\u001b[38;5;241m0\u001b[39m]\n",
      "\u001b[0;31mNameError\u001b[0m: name 'padr' is not defined"
     ]
    }
   ],
   "source": [
    "padr.index[0]"
   ]
  },
  {
   "cell_type": "code",
   "execution_count": 39,
   "id": "82e0a3a7-05c0-438f-a03c-7d19e06b622f",
   "metadata": {
    "editable": true,
    "slideshow": {
     "slide_type": ""
    },
    "tags": []
   },
   "outputs": [
    {
     "ename": "AssertionError",
     "evalue": "",
     "output_type": "error",
     "traceback": [
      "\u001b[0;31m---------------------------------------------------------------------------\u001b[0m",
      "\u001b[0;31mAssertionError\u001b[0m                            Traceback (most recent call last)",
      "Cell \u001b[0;32mIn[39], line 42\u001b[0m\n\u001b[1;32m     39\u001b[0m     params[\u001b[38;5;124m'\u001b[39m\u001b[38;5;124macertou\u001b[39m\u001b[38;5;124m'\u001b[39m] \u001b[38;5;241m=\u001b[39m padr\n\u001b[1;32m     40\u001b[0m     \u001b[38;5;28;01mreturn\u001b[39;00m params\n\u001b[0;32m---> 42\u001b[0m params \u001b[38;5;241m=\u001b[39m \u001b[43mescolhe_padr\u001b[49m\u001b[43m(\u001b[49m\u001b[43mano\u001b[49m\u001b[38;5;241;43m=\u001b[39;49m\u001b[43m \u001b[49m\u001b[43manowidg\u001b[49m\u001b[43m,\u001b[49m\u001b[43marea\u001b[49m\u001b[38;5;241;43m=\u001b[39;49m\u001b[43mareawidg\u001b[49m\u001b[43m,\u001b[49m\u001b[43mfaixa\u001b[49m\u001b[38;5;241;43m=\u001b[39;49m\u001b[43mfaixawdg\u001b[49m\u001b[43m)\u001b[49m\n",
      "Cell \u001b[0;32mIn[39], line 21\u001b[0m, in \u001b[0;36mescolhe_padr\u001b[0;34m(ano, area, faixa)\u001b[0m\n\u001b[1;32m     20\u001b[0m \u001b[38;5;28;01mdef\u001b[39;00m \u001b[38;5;21mescolhe_padr\u001b[39m(ano\u001b[38;5;241m=\u001b[39m\u001b[38;5;241m2022\u001b[39m,area\u001b[38;5;241m=\u001b[39m\u001b[38;5;124m'\u001b[39m\u001b[38;5;124mCN\u001b[39m\u001b[38;5;124m'\u001b[39m,faixa\u001b[38;5;241m=\u001b[39m\u001b[38;5;241m0\u001b[39m):\n\u001b[0;32m---> 21\u001b[0m     prova \u001b[38;5;241m=\u001b[39m \u001b[43mprovas\u001b[49m\u001b[43m(\u001b[49m\u001b[43mano\u001b[49m\u001b[43m,\u001b[49m\u001b[43m \u001b[49m\u001b[43marea\u001b[49m\u001b[43m)\u001b[49m[\u001b[38;5;241m0\u001b[39m]\n\u001b[1;32m     22\u001b[0m     padr, nota_inep \u001b[38;5;241m=\u001b[39m load_padr(prova,\u001b[38;5;241m3000\u001b[39m,\u001b[38;5;28;01mTrue\u001b[39;00m)\n\u001b[1;32m     23\u001b[0m     nota \u001b[38;5;241m=\u001b[39m \u001b[38;5;241m500\u001b[39m\u001b[38;5;241m+\u001b[39mfaixa\u001b[38;5;241m*\u001b[39m\u001b[38;5;241m100\u001b[39m\n",
      "File \u001b[0;32m~/enem_atp/util.py:159\u001b[0m, in \u001b[0;36mprovas\u001b[0;34m(ano, area)\u001b[0m\n\u001b[1;32m    156\u001b[0m \u001b[38;5;28;01mdef\u001b[39;00m \u001b[38;5;21mprovas\u001b[39m(ano,area):\n\u001b[1;32m    157\u001b[0m     \u001b[38;5;124m'\u001b[39m\u001b[38;5;124mretorna as provas (cadernos) em nossas amostras de um determinado ano / area\u001b[39m\u001b[38;5;124m'\u001b[39m\n\u001b[0;32m--> 159\u001b[0m     amostra \u001b[38;5;241m=\u001b[39m \u001b[43mload_acertos\u001b[49m\u001b[43m(\u001b[49m\u001b[43mano\u001b[49m\u001b[43m,\u001b[49m\u001b[43marea\u001b[49m\u001b[43m,\u001b[49m\u001b[38;5;241;43m10000\u001b[39;49m\u001b[43m)\u001b[49m\n\u001b[1;32m    160\u001b[0m     \u001b[38;5;28;01mreturn\u001b[39;00m amostra[\u001b[38;5;124m'\u001b[39m\u001b[38;5;124mcaderno\u001b[39m\u001b[38;5;124m'\u001b[39m]\u001b[38;5;241m.\u001b[39munique()\n",
      "File \u001b[0;32m~/enem_atp/util.py:41\u001b[0m, in \u001b[0;36mload_acertos\u001b[0;34m(ano, area, n, remove_abandonados, prova)\u001b[0m\n\u001b[1;32m     40\u001b[0m \u001b[38;5;28;01mdef\u001b[39;00m \u001b[38;5;21mload_acertos\u001b[39m(ano,area,n,remove_abandonados\u001b[38;5;241m=\u001b[39m\u001b[38;5;28;01mTrue\u001b[39;00m,prova\u001b[38;5;241m=\u001b[39m\u001b[38;5;28;01mNone\u001b[39;00m):\n\u001b[0;32m---> 41\u001b[0m     \u001b[38;5;28;01massert\u001b[39;00m ano \u001b[38;5;129;01min\u001b[39;00m \u001b[38;5;28mrange\u001b[39m(\u001b[38;5;241m2009\u001b[39m,\u001b[38;5;241m2024\u001b[39m)\n\u001b[1;32m     42\u001b[0m     \u001b[38;5;28;01massert\u001b[39;00m area \u001b[38;5;129;01min\u001b[39;00m [\u001b[38;5;124m'\u001b[39m\u001b[38;5;124mCN\u001b[39m\u001b[38;5;124m'\u001b[39m,\u001b[38;5;124m'\u001b[39m\u001b[38;5;124mCH\u001b[39m\u001b[38;5;124m'\u001b[39m,\u001b[38;5;124m'\u001b[39m\u001b[38;5;124mMT\u001b[39m\u001b[38;5;124m'\u001b[39m]\n\u001b[1;32m     43\u001b[0m     perc \u001b[38;5;241m=\u001b[39m \u001b[38;5;241m1\u001b[39m \u001b[38;5;66;03m#TODO: generalizar para quando temos outras porcentagens\u001b[39;00m\n",
      "\u001b[0;31mAssertionError\u001b[0m: "
     ]
    }
   ],
   "source": [
    "areawidg = widgets.Dropdown(\n",
    "    options=['CN','CH','MT'],\n",
    "    value='CN',\n",
    "    description='Area:',\n",
    ")\n",
    "anowidg = widgets.Dropdown(\n",
    "    options=range(2023,2008,-1),\n",
    "    value=2022,\n",
    "    description='Ano:',\n",
    ")\n",
    "faixawdg = widgets.BoundedFloatText(\n",
    "    value=1,\n",
    "    min=-1.2,\n",
    "    max=3,\n",
    "    step=0.1,\n",
    "    description='Nota:',\n",
    "    disabled=False\n",
    ")\n",
    "\n",
    "def escolhe_padr(ano=2022,area='CN',faixa=0):\n",
    "    prova = provas(ano, area)[0]\n",
    "    padr, nota_inep = load_padr(prova,3000,True)\n",
    "    nota = 500+faixa*100\n",
    "    nota_inep = nota_inep.query(\"nota_inep > @nota and nota_inep < @nota + 5\")\n",
    "    nota_inep = nota_inep.sample(1)\n",
    "    nota = nota_inep['nota_inep'].iloc[0];acertos = nota_inep['acertos'].iloc[0]\n",
    "    print(f\"Acertos = {acertos}, nota INEP = {nota}\" )\n",
    "    padr = padr.loc[nota_inep.index[0]]\n",
    "    score_mirt_ml = score_inep(padr,prova,method=\"ML\",enemscale=False)\n",
    "    nota_mirt_ml = score_mirt_ml['nota'].iloc[0]\n",
    "    se_mirt_ml = score_mirt_ml['se'].iloc[0]\n",
    "    score_mirt_eap = score_inep(padr,prova,method=\"EAP\",enemscale=False)\n",
    "    nota_mirt_eap = score_mirt_eap['nota'].iloc[0]\n",
    "    se_mirt_eap = score_mirt_eap['se'].iloc[0]\n",
    "\n",
    "    print(f\"Nota ML do mirt = {nota_mirt_ml:.2f} ± {se_mirt_ml:.2f}\")\n",
    "    print(f\"Nota EAP do mirt = {nota_mirt_eap:.2f} ± {se_mirt_eap:.2f}\")\n",
    "    params = params_inep(prova)\n",
    "    params['acertou'] = padr\n",
    "    return params\n",
    "\n",
    "params = escolhe_padr(ano= anowidg,area=areawidg,faixa=faixawdg)"
   ]
  },
  {
   "cell_type": "code",
   "execution_count": 40,
   "id": "7fca1b92-3057-42f6-9e6e-8f6fc56096bb",
   "metadata": {
    "editable": true,
    "slideshow": {
     "slide_type": ""
    },
    "tags": []
   },
   "outputs": [
    {
     "ename": "SyntaxError",
     "evalue": "invalid syntax. Perhaps you forgot a comma? (3461250930.py, line 50)",
     "output_type": "error",
     "traceback": [
      "\u001b[0;36m  Cell \u001b[0;32mIn[40], line 50\u001b[0;36m\u001b[0m\n\u001b[0;31m    interact(vero,fixed(params)ordem_dificuldade=True,calculate_until=range(0,46))\u001b[0m\n\u001b[0m                  ^\u001b[0m\n\u001b[0;31mSyntaxError\u001b[0m\u001b[0;31m:\u001b[0m invalid syntax. Perhaps you forgot a comma?\n"
     ]
    }
   ],
   "source": [
    "\n",
    "\n",
    "def vero(ano=2022,area='CN',faixa=0,ordem_dificuldade=True,calculate_until=45):\n",
    "\n",
    "    params = escolhe_padr(ano,area,faixa=faixa)\n",
    "    params = params.sort_values('b_inep',ascending=ordem_dificuldade)\n",
    "    i=0\n",
    "\n",
    "    theta = np.arange(-3,3,0.01)\n",
    "    lh = np.ones(len(theta))\n",
    "    \n",
    "    for item,value in params.iterrows():\n",
    "    \n",
    "        if i == calculate_until: \n",
    "            print(f\"stopped at item {i}\")\n",
    "            break\n",
    "        i += 1\n",
    "    \n",
    "        acertou = int(value['acertou'])\n",
    "        if acertou:\n",
    "            lh = lh*P(theta,a=value['a_inep'],b=value['b_inep'],c=value['c_inep'])\n",
    "        else:\n",
    "            lh = lh*(1-P(theta,a=value['a_inep'],b=value['b_inep'],c=value['c_inep']))\n",
    "\n",
    "    nota_ml = (-3+lh.argmax()*0.01)\n",
    "    posterior = lh*norm.pdf(theta)\n",
    "    nota_eap = np.average(theta, weights=posterior)\n",
    "    def check(s):\n",
    "        if s: return '✅'\n",
    "        else: return '❌'\n",
    "    params['acertou'] = params['acertou'].apply(check)\n",
    "    params = params.drop(columns=['a_inep','u','c_inep'])\n",
    "    params = params.transpose()\n",
    "    params.insert(i,column = '🛑',value=['|>','|>'])\n",
    "    pd.options.display.float_format = '{:.2f}'.format\n",
    "    pd.set_option('display.max_columns', 500)\n",
    "    display(params)\n",
    "    with sns.axes_style(\"whitegrid\"):\n",
    "        fig,axs = plt.subplots(1,2,sharex=True,figsize = (16,6))\n",
    "        ax1 = axs[0]; ax2 = axs[1]\n",
    "        sns.lineplot(x=theta,y=lh,ax=ax1);\n",
    "        ax1.set_xlabel(r\"$\\theta$\");ax.set_ylabel(r\"$\\mathrm{prob}(\\vec{x_i}|\\theta)$\");\n",
    "        ax1.set_title(f\"Máxima verossimilhança: nota = {nota_ml:.3f}\");\n",
    "        sns.lineplot(x=theta,y=posterior,ax=ax2);\n",
    "        ax2.set_xlabel(r\"$\\theta$\");ax.set_ylabel(r\"Posterior\");\n",
    "        ax2.set_title(f\"Expected a Posteriori: nota = {nota_eap:.3f}\");\n",
    "        \n",
    "        plt.grid(axis='y')\n",
    "    return\n",
    "\n",
    "\n",
    "interact(vero,fixed(params)ordem_dificuldade=True,calculate_until=range(0,46))"
   ]
  },
  {
   "cell_type": "code",
   "execution_count": 41,
   "id": "9737993a-8465-4851-9847-9434ef885398",
   "metadata": {},
   "outputs": [
    {
     "data": {
      "text/plain": [
       "[]"
      ]
     },
     "execution_count": 41,
     "metadata": {},
     "output_type": "execute_result"
    }
   ],
   "source": [
    "list()"
   ]
  },
  {
   "cell_type": "code",
   "execution_count": null,
   "id": "15412d7e-4b86-4cac-a1d0-3563b7e1f2f5",
   "metadata": {},
   "outputs": [],
   "source": []
  }
 ],
 "metadata": {
  "kernelspec": {
   "display_name": "Python 3 (ipykernel)",
   "language": "python",
   "name": "python3"
  },
  "language_info": {
   "codemirror_mode": {
    "name": "ipython",
    "version": 3
   },
   "file_extension": ".py",
   "mimetype": "text/x-python",
   "name": "python",
   "nbconvert_exporter": "python",
   "pygments_lexer": "ipython3",
   "version": "3.11.2"
  }
 },
 "nbformat": 4,
 "nbformat_minor": 5
}
