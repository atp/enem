{
 "cells": [
  {
   "cell_type": "markdown",
   "id": "68ddc53a-c067-4285-9b36-287f36e7454d",
   "metadata": {},
   "source": [
    "# Relatório semestral Inicição científica\n"
   ]
  },
  {
   "cell_type": "markdown",
   "id": "49a9f90f-3ad3-4fa6-8bac-9738b40a9a66",
   "metadata": {},
   "source": [
    "## Identificação"
   ]
  },
  {
   "cell_type": "markdown",
   "id": "f990452f-c469-4c93-be7b-19e67169d016",
   "metadata": {},
   "source": [
    "Código do projeto: 2023-430\n",
    "\n",
    "Período: 26/09/2023 a 25/09/2024\n",
    "\n",
    "Orientador: Prof. Dr. Ewout Ter Haar\n",
    "\n",
    "Aluno: Luis Felipe Betinassi Martins de Souza\n",
    "\n",
    "Projeto: Os limites e possibilidades de testes padronizadas em larga escala para fins de processos de seleção para o ensino superior\n"
   ]
  },
  {
   "cell_type": "markdown",
   "id": "0ad9b0cb-70ac-4e57-bd20-1970bcd85760",
   "metadata": {},
   "source": [
    "## Objetivo do projeto"
   ]
  },
  {
   "cell_type": "markdown",
   "id": "0fde4f31-ed7e-40b0-a451-6142d69de066",
   "metadata": {},
   "source": [
    "Neste projeto buscamos entender o funcionamento da Teoria de Resposta ao Item (TRI) do ENEM. Aliado a isso também houve análises \n",
    "socioeconômicas dos candidatos. Focamos bastante em mostrar que há também uma incerteza no ENEM que não é levada em conta ao calcular\n",
    "as notas."
   ]
  },
  {
   "cell_type": "markdown",
   "id": "f01ed845-f40b-4cdf-8a5b-92ad7b7dac5a",
   "metadata": {},
   "source": [
    "## Métodos"
   ]
  },
  {
   "cell_type": "markdown",
   "id": "ea248205-e040-47db-ae92-e2bb959c00f0",
   "metadata": {},
   "source": [
    "Para fazer as análises foram usados os microdados do ENEM. Com eles fizemos análises usando o ambiente virtual do Jypiter notebook \n",
    "o servidor da Universidade de São Paulo. No ambiente virtual do jupyter usamos a linguagem do python, principalmente as biclitoecas de análise de dados como pandas, matplotlib dentro outras.\n",
    "*Colocar fotos dos ambientes\n",
    "Além também foi usado o principio de ciências aberta, hoenveo divulgação em todo processo, ou seja, qualquer um poderia verificar os trabalho que estávamos fazendo.\n",
    "Para a análise foi feito um filtro com os candidatos que realmente interessavem para a análise. FOram tirados os candidatos que não fizeram todas as provas, cadidatos que zeraram em alguma das provas e aqueles que faltaram em algum dos dias.\n",
    "*Colocar filtro aqui."
   ]
  },
  {
   "cell_type": "code",
   "execution_count": null,
   "id": "c965b1a3-96a7-46f1-a6cd-1f117c6f8625",
   "metadata": {},
   "outputs": [],
   "source": []
  }
 ],
 "metadata": {
  "kernelspec": {
   "display_name": "Python 3 (ipykernel)",
   "language": "python",
   "name": "python3"
  },
  "language_info": {
   "codemirror_mode": {
    "name": "ipython",
    "version": 3
   },
   "file_extension": ".py",
   "mimetype": "text/x-python",
   "name": "python",
   "nbconvert_exporter": "python",
   "pygments_lexer": "ipython3",
   "version": "3.9.15"
  }
 },
 "nbformat": 4,
 "nbformat_minor": 5
}
