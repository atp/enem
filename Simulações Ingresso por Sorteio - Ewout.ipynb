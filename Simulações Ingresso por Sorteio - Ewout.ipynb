{
 "cells": [
  {
   "cell_type": "markdown",
   "id": "bef0f23c-8879-4396-b60c-0c9a2a69d312",
   "metadata": {},
   "source": [
    "# Processos seletivos com um componente aleatório "
   ]
  },
  {
   "cell_type": "markdown",
   "id": "dd395ff2-aa81-47c4-b873-5f2093ce9875",
   "metadata": {},
   "source": [
    "Uma vez que a nota ENEM não é mais visto como um indicador objetivo com validade absoluta para fins de processos classificatórios, porque mostramos que mesmo admitindo a validade nos seus próprios termos, há ainda um monte de incertezas na nota por causa de fatores essencialmente arbitrárias, então talvez conseguimos abrir espaço imaginário para outros tipo de processos de seleção.\n",
    "\n",
    "O fato que a nota do ENEM tem incertezas levanta a questão: seria até mais justo de incluir um componente aleatório no processo seletivo também? Levantamos alguns exemplos internacionais desta ideia [neste sub-pasta do nosso grupo no Zotero](https://www.zotero.org/groups/5170411/enem_atp/collections/B9XESF2T)\n",
    "\n",
    "Uma consideração outra importante no Brasil e no mundo é inclusão, a ideia que há valor para os discentes e a própria instituição que as turmas de ingressantes (e egressos) refletem aproximademente o perfil da sociedade como um todo. \n",
    "\n",
    "\n"
   ]
  },
  {
   "cell_type": "markdown",
   "id": "c00a0344-e398-4be8-aa1f-b7462920af76",
   "metadata": {},
   "source": [
    "## Uma proposta de duas fases\n",
    "Fase 1: selecione os candidatos aptos, com algum critério mínimo de aptidão\n",
    "\n",
    "Fase 2: selecione por loteria com pesos, de modo a atender seus objetivos de inclusão\n",
    "\n",
    "Investigar como a incerteza na nota poderia entrar nos pesos."
   ]
  },
  {
   "cell_type": "markdown",
   "id": "0027bedc-3eec-4efe-b28d-0fd86eeda37b",
   "metadata": {},
   "source": [
    "## Outras propostas\n",
    "Podemos simular outras formas de seleção e investigar os efeitos sobre a diversidade do corpo de ingressantes."
   ]
  }
 ],
 "metadata": {
  "kernelspec": {
   "display_name": "Python 3 (ipykernel)",
   "language": "python",
   "name": "python3"
  },
  "language_info": {
   "codemirror_mode": {
    "name": "ipython",
    "version": 3
   },
   "file_extension": ".py",
   "mimetype": "text/x-python",
   "name": "python",
   "nbconvert_exporter": "python",
   "pygments_lexer": "ipython3",
   "version": "3.9.15"
  }
 },
 "nbformat": 4,
 "nbformat_minor": 5
}
