{
 "cells": [
  {
   "cell_type": "code",
   "execution_count": 1,
   "id": "d6482468-9ca0-4467-9437-b1c134fecebf",
   "metadata": {},
   "outputs": [],
   "source": [
    "import numpy as np\n",
    "import pandas as pd\n",
    "import seaborn as sns\n",
    "import matplotlib as mpl\n",
    "import random"
   ]
  },
  {
   "cell_type": "markdown",
   "id": "7c3794a1-72c3-4cc9-8a12-9903d3523dd9",
   "metadata": {},
   "source": [
    "Selecionar aleatoriamente 1% dos candidatos"
   ]
  },
  {
   "cell_type": "markdown",
   "id": "e8e41274-52e8-49ba-be93-a6087050878f",
   "metadata": {},
   "source": [
    "def skip(i,fraction=0.01):\n",
    "    if i == 0:\n",
    "        return False  # precisamos manter o row=0 para ter o header\n",
    "    else:\n",
    "        return random.random() > fraction\n",
    "\n",
    "[skip(i) for i in range(10)]"
   ]
  },
  {
   "cell_type": "markdown",
   "id": "6867f13f-9473-4d9c-af50-4c820f880b79",
   "metadata": {},
   "source": [
    "Limpar dados de alunos nao uteis"
   ]
  },
  {
   "cell_type": "markdown",
   "id": "8fd7f8c2-68ec-4b39-a594-95b4fe553539",
   "metadata": {
    "jupyter": {
     "outputs_hidden": true
    },
    "tags": []
   },
   "source": [
    "\n",
    "def filterdf(df):\n",
    "    df = df[df[\"TP_PRESENCA_CN\"] == 1] #presente nas 4 provas\n",
    "    df = df[df[\"TP_PRESENCA_CH\"] == 1]\n",
    "    df = df[df[\"TP_PRESENCA_LC\"] == 1]\n",
    "    df = df[df[\"TP_PRESENCA_MT\"] == 1]\n",
    "    df = df[df[\"IN_TREINEIRO\"] == 0] # não é treineiro\n",
    "    df = df[df[\"TP_ST_CONCLUSAO\"].isin([1,2])] #afirma que concluiu ou vai concluir EM em 2019\n",
    "    # não queremos as notas == 0\n",
    "    df = df.query(\"NU_NOTA_CH != 0 and NU_NOTA_CN != 0 and NU_NOTA_LC != 0 and NU_NOTA_MT != 0\") \n",
    "    return df\n",
    "\n",
    "dff = filterdf(df)\n",
    "dff"
   ]
  },
  {
   "cell_type": "markdown",
   "id": "74581e1f-a681-4359-9527-8e92d40175e4",
   "metadata": {},
   "source": [
    "Selecionar apenas colunas desejadas"
   ]
  },
  {
   "cell_type": "code",
   "execution_count": null,
   "id": "246792c1-6d99-44d2-9183-c6b209dfd8c2",
   "metadata": {},
   "outputs": [],
   "source": [
    "def selecao(df,df_selecao):\n",
    "    df_selecao = df[\n",
    "    "
   ]
  }
 ],
 "metadata": {
  "kernelspec": {
   "display_name": "Python 3 (ipykernel)",
   "language": "python",
   "name": "python3"
  },
  "language_info": {
   "codemirror_mode": {
    "name": "ipython",
    "version": 3
   },
   "file_extension": ".py",
   "mimetype": "text/x-python",
   "name": "python",
   "nbconvert_exporter": "python",
   "pygments_lexer": "ipython3",
   "version": "3.9.15"
  }
 },
 "nbformat": 4,
 "nbformat_minor": 5
}
