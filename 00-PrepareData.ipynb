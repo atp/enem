{
 "cells": [
  {
   "cell_type": "code",
   "execution_count": 256,
   "id": "f5900624-58b2-46c3-a018-55853ecf5d8d",
   "metadata": {},
   "outputs": [],
   "source": [
    "import numpy as np\n",
    "import pandas as pd\n",
    "import seaborn as sns\n",
    "import matplotlib as mpl\n",
    "import random\n",
    "import os"
   ]
  },
  {
   "cell_type": "code",
   "execution_count": 257,
   "id": "eb12acc8-084e-4ed9-a7dd-ad7a061da360",
   "metadata": {},
   "outputs": [
    {
     "data": {
      "text/plain": [
       "'1.4.4'"
      ]
     },
     "execution_count": 257,
     "metadata": {},
     "output_type": "execute_result"
    }
   ],
   "source": [
    "pd.__version__"
   ]
  },
  {
   "cell_type": "markdown",
   "id": "b02f687e-9263-4772-bb35-6e85d7630515",
   "metadata": {},
   "source": [
    "Se a gente lê o arquivo de 3GB inteiro, vai dar problema. Aqui tem uma receita para ler somente x%: https://www.kaggle.com/questions-and-answers/53925 "
   ]
  },
  {
   "cell_type": "markdown",
   "id": "b2c3ab48-e176-467d-95d7-f2058856c977",
   "metadata": {
    "tags": []
   },
   "source": [
    "## Selecionar apenas uma amostra aleatória de 1% dos alunos"
   ]
  },
  {
   "cell_type": "code",
   "execution_count": 258,
   "id": "9f88346e-dada-4c5a-be4b-9385515b545b",
   "metadata": {},
   "outputs": [
    {
     "data": {
      "text/plain": [
       "[False, True, True, True, True, True, True, True, True, True]"
      ]
     },
     "execution_count": 258,
     "metadata": {},
     "output_type": "execute_result"
    }
   ],
   "source": [
    "def skip(i,fraction=0.01):\n",
    "    if i == 0:\n",
    "        return False  # precisamos manter o row=0 para ter o header\n",
    "    else:\n",
    "        return random.random() > fraction\n",
    "\n",
    "[skip(i) for i in range(10)]"
   ]
  },
  {
   "cell_type": "code",
   "execution_count": null,
   "id": "b5b91cb9-7ffc-446e-b026-429f1554c59b",
   "metadata": {
    "tags": []
   },
   "outputs": [],
   "source": [
    "%time df = pd.read_csv('../inep/enem/2019/DADOS/MICRODADOS_ENEM_2019.csv',skiprows = skip, encoding='latin1',sep=\";\")"
   ]
  },
  {
   "cell_type": "code",
   "execution_count": null,
   "id": "e68d3b81-3a7f-41f6-afda-53ef0cb38c04",
   "metadata": {
    "tags": []
   },
   "outputs": [],
   "source": [
    "for col in df.columns:\n",
    "    print(col)"
   ]
  },
  {
   "cell_type": "code",
   "execution_count": null,
   "id": "66a713dd-6e11-450b-94fe-21235815a830",
   "metadata": {},
   "outputs": [],
   "source": [
    "df"
   ]
  },
  {
   "cell_type": "code",
   "execution_count": null,
   "id": "f09441cb-77d4-4c2c-bc74-f001e1cf362b",
   "metadata": {},
   "outputs": [],
   "source": [
    "#df.describe()"
   ]
  },
  {
   "cell_type": "code",
   "execution_count": null,
   "id": "0f29e40d-ba57-4a32-a18f-8d389221f0c3",
   "metadata": {},
   "outputs": [],
   "source": [
    "#df.sample(5)"
   ]
  },
  {
   "cell_type": "code",
   "execution_count": null,
   "id": "2b363577-b651-48f7-8576-a50382cc9ea4",
   "metadata": {},
   "outputs": [],
   "source": [
    "df[\"TP_PRESENCA_CN\"].value_counts()"
   ]
  },
  {
   "cell_type": "markdown",
   "id": "e5dc9b87-7463-4520-bda0-b5d50e07c9d6",
   "metadata": {
    "tags": []
   },
   "source": [
    "## Limpeza dos dados, selecionando apenas alunos que não faltaram na prova"
   ]
  },
  {
   "cell_type": "code",
   "execution_count": null,
   "id": "7e3d3eea-e1d0-4eba-9a91-1ce9c5cc145a",
   "metadata": {},
   "outputs": [],
   "source": [
    "\n",
    "def filterdf(df):\n",
    "    if \"IN_TREINEIRO\" in df.columns:\n",
    "        df = df[df[\"TP_PRESENCA_CN\"] == 1]  # presente nas 4 provas\n",
    "        df = df[df[\"TP_PRESENCA_CH\"] == 1]\n",
    "        df = df[df[\"TP_PRESENCA_LC\"] == 1]\n",
    "        df = df[df[\"TP_PRESENCA_MT\"] == 1]\n",
    "        df = df[(df[\"IN_TREINEIRO\"] == 0) | (df[\"IN_TREINEIRO\"].isna())]  # não é treineiro ou não existe \n",
    "        df = df[df[\"TP_ST_CONCLUSAO\"].isin([1, 2])]  # afirma que concluiu ou vai concluir EM em 2019\n",
    "        # não queremos as notas == 0\n",
    "        df = df.query(\"NU_NOTA_CH != 0 and NU_NOTA_CN != 0 and NU_NOTA_LC != 0 and NU_NOTA_MT != 0\") \n",
    "    return df\n",
    "\n",
    "dff = filterdf(df)\n",
    "dff"
   ]
  },
  {
   "cell_type": "code",
   "execution_count": null,
   "id": "0a74cbe2-44db-4702-b34e-e3de9cf767a3",
   "metadata": {},
   "outputs": [],
   "source": [
    "import inspect\n",
    "filter_conditions = inspect.getsource(filterdf)\n",
    "print(filter_conditions)"
   ]
  },
  {
   "cell_type": "markdown",
   "id": "d92153aa-84cd-4c0e-95ef-d4aeb654b57d",
   "metadata": {
    "tags": []
   },
   "source": [
    "## Salvar a amostra filtrada em disco"
   ]
  },
  {
   "cell_type": "code",
   "execution_count": null,
   "id": "036c6dc0-bf90-4508-94be-28c8e01f9096",
   "metadata": {},
   "outputs": [],
   "source": [
    "\n",
    "fn = \"data/enem19-1perc\"\n",
    "dff.to_csv(f'{fn}.csv',index=False)\n",
    "with open(fn+'-filter_conditions.txt','w') as f:\n",
    "    f.write(filter_conditions)"
   ]
  },
  {
   "cell_type": "markdown",
   "id": "f062d537-9777-4ab6-8a78-7a6506db1275",
   "metadata": {
    "tags": []
   },
   "source": [
    "## Selecionar apenas as colunas que desejamos trabalhar"
   ]
  },
  {
   "cell_type": "code",
   "execution_count": 265,
   "id": "0e17cc6c-4b76-4d69-b701-70397a5aef02",
   "metadata": {},
   "outputs": [],
   "source": [
    "\n",
    "def selecao(dff):\n",
    "    df_selecao = dff[[\"NU_INSCRICAO\",\"NU_ANO\",\"CO_MUNICIPIO_RESIDENCIA\",\"NO_MUNICIPIO_RESIDENCIA\",\"CO_UF_RESIDENCIA\",\"SG_UF_RESIDENCIA\",\"TP_COR_RACA\",\"TP_SEXO\",\"NU_IDADE\",\"TP_ENSINO\",\"TP_ESCOLA\",\"NU_NOTA_CN\",\"NU_NOTA_CH\",\"NU_NOTA_MT\",\"NU_NOTA_LC\",\"NU_NOTA_REDACAO\"]]\n",
    "    return df_selecao\n",
    "\n",
    "    "
   ]
  },
  {
   "cell_type": "markdown",
   "id": "802a42cd-ee6f-43e4-a31e-57fcba523a65",
   "metadata": {},
   "source": [
    " Tentativa da função co loc\n",
    "def selecao(dff):\n",
    "    df_selecao = dff.loc[:,[\"NU_INSCRICAO\",\"NU_ANO\",\"CO_MUNICIPIO_RESIDENCIA\",\"NO_MUNICIPIO_RESIDENCIA\",\"CO_UF_RESIDENCIA\",\"SG_UF_RESIDENCIA\",\"TP_COR_RACA\",\"TP_SEXO\",\"NU_IDADE\",\"TP_ENSINO\",\"TP_ESCOLA\",\"NU_NOTA_CN\",\"NU_NOTA_CH\",\"NU_NOTA_MT\",\"NU_NOTA_LC\",\"NU_NOTA_REDACAO\"]]"
   ]
  },
  {
   "cell_type": "code",
   "execution_count": 254,
   "id": "e70af3a7-10f9-4338-87ee-86148e92e710",
   "metadata": {
    "collapsed": true,
    "jupyter": {
     "outputs_hidden": true
    },
    "tags": []
   },
   "outputs": [
    {
     "ename": "KeyError",
     "evalue": "\"['CO_MUNICIPIO_RESIDENCIA', 'NO_MUNICIPIO_RESIDENCIA', 'CO_UF_RESIDENCIA', 'SG_UF_RESIDENCIA', 'NU_IDADE', 'TP_ESCOLA'] not in index\"",
     "output_type": "error",
     "traceback": [
      "\u001b[0;31m---------------------------------------------------------------------------\u001b[0m",
      "\u001b[0;31mKeyError\u001b[0m                                  Traceback (most recent call last)",
      "Cell \u001b[0;32mIn[254], line 1\u001b[0m\n\u001b[0;32m----> 1\u001b[0m df_selecionado \u001b[38;5;241m=\u001b[39m \u001b[43mselecao\u001b[49m\u001b[43m(\u001b[49m\u001b[43mdf\u001b[49m\u001b[43m)\u001b[49m\n\u001b[1;32m      2\u001b[0m df_selecionado\n",
      "Cell \u001b[0;32mIn[253], line 2\u001b[0m, in \u001b[0;36mselecao\u001b[0;34m(dff)\u001b[0m\n\u001b[1;32m      1\u001b[0m \u001b[38;5;28;01mdef\u001b[39;00m \u001b[38;5;21mselecao\u001b[39m(dff):\n\u001b[0;32m----> 2\u001b[0m     df_selecao \u001b[38;5;241m=\u001b[39m \u001b[43mdff\u001b[49m\u001b[43m[\u001b[49m\u001b[43m[\u001b[49m\u001b[38;5;124;43m\"\u001b[39;49m\u001b[38;5;124;43mNU_INSCRICAO\u001b[39;49m\u001b[38;5;124;43m\"\u001b[39;49m\u001b[43m,\u001b[49m\u001b[38;5;124;43m\"\u001b[39;49m\u001b[38;5;124;43mNU_ANO\u001b[39;49m\u001b[38;5;124;43m\"\u001b[39;49m\u001b[43m,\u001b[49m\u001b[38;5;124;43m\"\u001b[39;49m\u001b[38;5;124;43mCO_MUNICIPIO_RESIDENCIA\u001b[39;49m\u001b[38;5;124;43m\"\u001b[39;49m\u001b[43m,\u001b[49m\u001b[38;5;124;43m\"\u001b[39;49m\u001b[38;5;124;43mNO_MUNICIPIO_RESIDENCIA\u001b[39;49m\u001b[38;5;124;43m\"\u001b[39;49m\u001b[43m,\u001b[49m\u001b[38;5;124;43m\"\u001b[39;49m\u001b[38;5;124;43mCO_UF_RESIDENCIA\u001b[39;49m\u001b[38;5;124;43m\"\u001b[39;49m\u001b[43m,\u001b[49m\u001b[38;5;124;43m\"\u001b[39;49m\u001b[38;5;124;43mSG_UF_RESIDENCIA\u001b[39;49m\u001b[38;5;124;43m\"\u001b[39;49m\u001b[43m,\u001b[49m\u001b[38;5;124;43m\"\u001b[39;49m\u001b[38;5;124;43mTP_COR_RACA\u001b[39;49m\u001b[38;5;124;43m\"\u001b[39;49m\u001b[43m,\u001b[49m\u001b[38;5;124;43m\"\u001b[39;49m\u001b[38;5;124;43mTP_SEXO\u001b[39;49m\u001b[38;5;124;43m\"\u001b[39;49m\u001b[43m,\u001b[49m\u001b[38;5;124;43m\"\u001b[39;49m\u001b[38;5;124;43mNU_IDADE\u001b[39;49m\u001b[38;5;124;43m\"\u001b[39;49m\u001b[43m,\u001b[49m\u001b[38;5;124;43m\"\u001b[39;49m\u001b[38;5;124;43mTP_ENSINO\u001b[39;49m\u001b[38;5;124;43m\"\u001b[39;49m\u001b[43m,\u001b[49m\u001b[38;5;124;43m\"\u001b[39;49m\u001b[38;5;124;43mTP_ESCOLA\u001b[39;49m\u001b[38;5;124;43m\"\u001b[39;49m\u001b[43m,\u001b[49m\u001b[38;5;124;43m\"\u001b[39;49m\u001b[38;5;124;43mNU_NOTA_CN\u001b[39;49m\u001b[38;5;124;43m\"\u001b[39;49m\u001b[43m,\u001b[49m\u001b[38;5;124;43m\"\u001b[39;49m\u001b[38;5;124;43mNU_NOTA_CH\u001b[39;49m\u001b[38;5;124;43m\"\u001b[39;49m\u001b[43m,\u001b[49m\u001b[38;5;124;43m\"\u001b[39;49m\u001b[38;5;124;43mNU_NOTA_MT\u001b[39;49m\u001b[38;5;124;43m\"\u001b[39;49m\u001b[43m,\u001b[49m\u001b[38;5;124;43m\"\u001b[39;49m\u001b[38;5;124;43mNU_NOTA_LC\u001b[39;49m\u001b[38;5;124;43m\"\u001b[39;49m\u001b[43m,\u001b[49m\u001b[38;5;124;43m\"\u001b[39;49m\u001b[38;5;124;43mNU_NOTA_REDACAO\u001b[39;49m\u001b[38;5;124;43m\"\u001b[39;49m\u001b[43m]\u001b[49m\u001b[43m]\u001b[49m\n\u001b[1;32m      3\u001b[0m     \u001b[38;5;28;01mreturn\u001b[39;00m df_selecao\n",
      "File \u001b[0;32m/opt/miniconda3/lib/python3.9/site-packages/pandas/core/frame.py:3511\u001b[0m, in \u001b[0;36mDataFrame.__getitem__\u001b[0;34m(self, key)\u001b[0m\n\u001b[1;32m   3509\u001b[0m     \u001b[38;5;28;01mif\u001b[39;00m is_iterator(key):\n\u001b[1;32m   3510\u001b[0m         key \u001b[38;5;241m=\u001b[39m \u001b[38;5;28mlist\u001b[39m(key)\n\u001b[0;32m-> 3511\u001b[0m     indexer \u001b[38;5;241m=\u001b[39m \u001b[38;5;28;43mself\u001b[39;49m\u001b[38;5;241;43m.\u001b[39;49m\u001b[43mcolumns\u001b[49m\u001b[38;5;241;43m.\u001b[39;49m\u001b[43m_get_indexer_strict\u001b[49m\u001b[43m(\u001b[49m\u001b[43mkey\u001b[49m\u001b[43m,\u001b[49m\u001b[43m \u001b[49m\u001b[38;5;124;43m\"\u001b[39;49m\u001b[38;5;124;43mcolumns\u001b[39;49m\u001b[38;5;124;43m\"\u001b[39;49m\u001b[43m)\u001b[49m[\u001b[38;5;241m1\u001b[39m]\n\u001b[1;32m   3513\u001b[0m \u001b[38;5;66;03m# take() does not accept boolean indexers\u001b[39;00m\n\u001b[1;32m   3514\u001b[0m \u001b[38;5;28;01mif\u001b[39;00m \u001b[38;5;28mgetattr\u001b[39m(indexer, \u001b[38;5;124m\"\u001b[39m\u001b[38;5;124mdtype\u001b[39m\u001b[38;5;124m\"\u001b[39m, \u001b[38;5;28;01mNone\u001b[39;00m) \u001b[38;5;241m==\u001b[39m \u001b[38;5;28mbool\u001b[39m:\n",
      "File \u001b[0;32m/opt/miniconda3/lib/python3.9/site-packages/pandas/core/indexes/base.py:5796\u001b[0m, in \u001b[0;36mIndex._get_indexer_strict\u001b[0;34m(self, key, axis_name)\u001b[0m\n\u001b[1;32m   5793\u001b[0m \u001b[38;5;28;01melse\u001b[39;00m:\n\u001b[1;32m   5794\u001b[0m     keyarr, indexer, new_indexer \u001b[38;5;241m=\u001b[39m \u001b[38;5;28mself\u001b[39m\u001b[38;5;241m.\u001b[39m_reindex_non_unique(keyarr)\n\u001b[0;32m-> 5796\u001b[0m \u001b[38;5;28;43mself\u001b[39;49m\u001b[38;5;241;43m.\u001b[39;49m\u001b[43m_raise_if_missing\u001b[49m\u001b[43m(\u001b[49m\u001b[43mkeyarr\u001b[49m\u001b[43m,\u001b[49m\u001b[43m \u001b[49m\u001b[43mindexer\u001b[49m\u001b[43m,\u001b[49m\u001b[43m \u001b[49m\u001b[43maxis_name\u001b[49m\u001b[43m)\u001b[49m\n\u001b[1;32m   5798\u001b[0m keyarr \u001b[38;5;241m=\u001b[39m \u001b[38;5;28mself\u001b[39m\u001b[38;5;241m.\u001b[39mtake(indexer)\n\u001b[1;32m   5799\u001b[0m \u001b[38;5;28;01mif\u001b[39;00m \u001b[38;5;28misinstance\u001b[39m(key, Index):\n\u001b[1;32m   5800\u001b[0m     \u001b[38;5;66;03m# GH 42790 - Preserve name from an Index\u001b[39;00m\n",
      "File \u001b[0;32m/opt/miniconda3/lib/python3.9/site-packages/pandas/core/indexes/base.py:5859\u001b[0m, in \u001b[0;36mIndex._raise_if_missing\u001b[0;34m(self, key, indexer, axis_name)\u001b[0m\n\u001b[1;32m   5856\u001b[0m     \u001b[38;5;28;01mraise\u001b[39;00m \u001b[38;5;167;01mKeyError\u001b[39;00m(\u001b[38;5;124mf\u001b[39m\u001b[38;5;124m\"\u001b[39m\u001b[38;5;124mNone of [\u001b[39m\u001b[38;5;132;01m{\u001b[39;00mkey\u001b[38;5;132;01m}\u001b[39;00m\u001b[38;5;124m] are in the [\u001b[39m\u001b[38;5;132;01m{\u001b[39;00maxis_name\u001b[38;5;132;01m}\u001b[39;00m\u001b[38;5;124m]\u001b[39m\u001b[38;5;124m\"\u001b[39m)\n\u001b[1;32m   5858\u001b[0m not_found \u001b[38;5;241m=\u001b[39m \u001b[38;5;28mlist\u001b[39m(ensure_index(key)[missing_mask\u001b[38;5;241m.\u001b[39mnonzero()[\u001b[38;5;241m0\u001b[39m]]\u001b[38;5;241m.\u001b[39munique())\n\u001b[0;32m-> 5859\u001b[0m \u001b[38;5;28;01mraise\u001b[39;00m \u001b[38;5;167;01mKeyError\u001b[39;00m(\u001b[38;5;124mf\u001b[39m\u001b[38;5;124m\"\u001b[39m\u001b[38;5;132;01m{\u001b[39;00mnot_found\u001b[38;5;132;01m}\u001b[39;00m\u001b[38;5;124m not in index\u001b[39m\u001b[38;5;124m\"\u001b[39m)\n",
      "\u001b[0;31mKeyError\u001b[0m: \"['CO_MUNICIPIO_RESIDENCIA', 'NO_MUNICIPIO_RESIDENCIA', 'CO_UF_RESIDENCIA', 'SG_UF_RESIDENCIA', 'NU_IDADE', 'TP_ESCOLA'] not in index\""
     ]
    }
   ],
   "source": [
    "df_selecionado = selecao(df)\n",
    "df_selecionado"
   ]
  },
  {
   "cell_type": "markdown",
   "id": "fa6a0bc9-5a27-4d6e-9f4c-37a586ad8401",
   "metadata": {
    "tags": []
   },
   "source": [
    "## Salvar colunas selecionadas"
   ]
  },
  {
   "cell_type": "code",
   "execution_count": null,
   "id": "f32473e2-fd34-4e11-820a-58282878b364",
   "metadata": {},
   "outputs": [],
   "source": [
    "\n",
    "df_selecao.to_csv('data/selecao.csv',index=False)\n",
    "df_selecao"
   ]
  },
  {
   "cell_type": "markdown",
   "id": "c62ccc51-9410-4e3b-9747-2ac82150168f",
   "metadata": {
    "tags": []
   },
   "source": [
    "## Tirar alunos com nota 0 da selecao"
   ]
  },
  {
   "cell_type": "code",
   "execution_count": null,
   "id": "8fe7b4b5-cc07-4cff-a1ba-26a29559a2a2",
   "metadata": {
    "tags": []
   },
   "outputs": [],
   "source": [
    "\n",
    "notas_selecao = df_selecao.query(\"NU_NOTA_CH != 0 and NU_NOTA_CN != 0 and NU_NOTA_LC != 0 and NU_NOTA_MT != 0\")\n",
    "notas_selecao"
   ]
  },
  {
   "cell_type": "code",
   "execution_count": null,
   "id": "666b4047-944c-4b1c-9944-0b9cdfebe6b3",
   "metadata": {},
   "outputs": [],
   "source": [
    "# salvar a amostra filtrada em disco\n",
    "notas_selecao.to_csv('data/enem19-sem_Zzero.csv',index=False)"
   ]
  },
  {
   "cell_type": "code",
   "execution_count": null,
   "id": "a60fd4cb-8349-4b26-b202-80790a580f00",
   "metadata": {
    "tags": []
   },
   "outputs": [],
   "source": [
    "#df_selecao = df_selecao[df_selecao[\"NU_NOTA_MT\"] == 0]\n",
    "#df_selecao"
   ]
  },
  {
   "cell_type": "code",
   "execution_count": null,
   "id": "60c79e28-be25-4231-aac5-9a37b18b8048",
   "metadata": {
    "tags": []
   },
   "outputs": [],
   "source": [
    "#df_selecao = df_selecao.drop(notas_zero.index)\n",
    "#df_selecao"
   ]
  },
  {
   "cell_type": "code",
   "execution_count": null,
   "id": "908e219b-7149-406b-a4a6-deb3676b2b32",
   "metadata": {},
   "outputs": [],
   "source": [
    "#Numero pessoas que sairam da analise\n",
    "len(df_selecao)-len(notas_selecao)"
   ]
  },
  {
   "cell_type": "markdown",
   "id": "0d859ae2-cfca-4399-9045-54a7de5f134c",
   "metadata": {
    "tags": []
   },
   "source": [
    "## Salvar dataFrame sem notas 0"
   ]
  },
  {
   "cell_type": "code",
   "execution_count": null,
   "id": "5ed330f4-f8d4-4164-ad85-73e542eac258",
   "metadata": {},
   "outputs": [],
   "source": [
    "\n",
    "notas_sem_0 = \"data/notas_sem_0\"\n",
    "notas_selecao.to_csv(f'{notas_sem_0}.csv',index=False)\n"
   ]
  },
  {
   "cell_type": "code",
   "execution_count": null,
   "id": "aec8a5f0-b509-4f28-99ad-311e1443df85",
   "metadata": {},
   "outputs": [],
   "source": [
    "nome_completo = os.path.basename('../inep/enem/2010/DADOS/MICRODADOS_ENEM_2010.csv') #le o nome do arquivo que estamos usando\n",
    "apenas_ano = nome_completo[-8:-4] #separa o ano dos microdados\n",
    "apenas_ano"
   ]
  },
  {
   "cell_type": "code",
   "execution_count": null,
   "id": "f1dffb05-8005-4308-9a8d-bbbc30d4e549",
   "metadata": {},
   "outputs": [],
   "source": [
    "nome_padronizado = \"dados_limpos_enem_\" + apenas_ano\n",
    "nome_padronizado"
   ]
  },
  {
   "cell_type": "code",
   "execution_count": 251,
   "id": "891ef901-d671-466b-b754-61ddfe101e58",
   "metadata": {},
   "outputs": [
    {
     "ename": "AttributeError",
     "evalue": "'str' object has no attribute 'rename'",
     "output_type": "error",
     "traceback": [
      "\u001b[0;31m---------------------------------------------------------------------------\u001b[0m",
      "\u001b[0;31mAttributeError\u001b[0m                            Traceback (most recent call last)",
      "Cell \u001b[0;32mIn[251], line 1\u001b[0m\n\u001b[0;32m----> 1\u001b[0m \u001b[43mdf_selecao\u001b[49m\u001b[38;5;241;43m.\u001b[39;49m\u001b[43mrename\u001b[49m(nome_padronizado, axis\u001b[38;5;241m=\u001b[39m\u001b[38;5;241m1\u001b[39m, inplace\u001b[38;5;241m=\u001b[39m\u001b[38;5;28;01mTrue\u001b[39;00m)\n",
      "\u001b[0;31mAttributeError\u001b[0m: 'str' object has no attribute 'rename'"
     ]
    }
   ],
   "source": [
    "df_selecao.rename(nome_padronizado, axis=1, inplace=True)"
   ]
  },
  {
   "cell_type": "markdown",
   "id": "07acdf89-dd0c-4544-a242-7c5541612f5c",
   "metadata": {},
   "source": [
    "Não consigo ler o arquivo\n",
    "teste = pd.read_csv(\"Enem/data/notas_sem_0.csv\")\n",
    "teste\n"
   ]
  },
  {
   "cell_type": "code",
   "execution_count": 234,
   "id": "6c6b3bd5-910a-493c-99b0-38c3ff350def",
   "metadata": {},
   "outputs": [],
   "source": [
    "def limpo(nome_padronizado):\n",
    "    nome_padronizado.to_csv('data/selecao.csv',index=False)\n",
    "    print(nome_padronizado)\n",
    "    "
   ]
  },
  {
   "cell_type": "code",
   "execution_count": 266,
   "id": "71ee6940-7bab-4959-8785-595a63a90bab",
   "metadata": {},
   "outputs": [
    {
     "data": {
      "text/plain": [
       "'nome_padronizado'"
      ]
     },
     "execution_count": 266,
     "metadata": {},
     "output_type": "execute_result"
    }
   ],
   "source": [
    "df_selecao"
   ]
  },
  {
   "cell_type": "markdown",
   "id": "60161804-4495-4fc7-b9ba-363973d2da61",
   "metadata": {},
   "source": [
    "teste = os.path.abspath(df_selecao)\n",
    "print(f\"teste\")"
   ]
  },
  {
   "cell_type": "markdown",
   "id": "0221b153-6be0-4757-b049-f15c7d7eabf5",
   "metadata": {},
   "source": [
    "df_selecao.to_csv(\"df_selecao.csv\", sep =\";\")\n"
   ]
  },
  {
   "cell_type": "code",
   "execution_count": null,
   "id": "437f9c30-9fa0-498f-8e78-4ba6f89349ca",
   "metadata": {},
   "outputs": [],
   "source": []
  }
 ],
 "metadata": {
  "kernelspec": {
   "display_name": "Python 3 (ipykernel)",
   "language": "python",
   "name": "python3"
  },
  "language_info": {
   "codemirror_mode": {
    "name": "ipython",
    "version": 3
   },
   "file_extension": ".py",
   "mimetype": "text/x-python",
   "name": "python",
   "nbconvert_exporter": "python",
   "pygments_lexer": "ipython3",
   "version": "3.9.15"
  },
  "toc-autonumbering": false
 },
 "nbformat": 4,
 "nbformat_minor": 5
}
