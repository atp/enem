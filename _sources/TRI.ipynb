{
 "cells": [
  {
   "cell_type": "code",
   "execution_count": 1,
   "id": "f0fc7c49-06fd-4261-ab1e-00a9a32d28a8",
   "metadata": {
    "editable": true,
    "slideshow": {
     "slide_type": ""
    },
    "tags": [
     "hide-input"
    ]
   },
   "outputs": [],
   "source": [
    "import numpy as np\n",
    "import pandas as pd\n",
    "import seaborn as sns\n",
    "import matplotlib.pyplot as plt\n",
    "import random\n",
    "import scipy\n",
    "from scipy.stats import norm\n",
    "\n",
    "import ipywidgets as widgets\n",
    "from ipywidgets import interact, interactive, fixed, interact_manual\n"
   ]
  },
  {
   "cell_type": "code",
   "execution_count": 2,
   "id": "08591852-1e27-4288-bb86-dc199f0ee43b",
   "metadata": {
    "editable": true,
    "slideshow": {
     "slide_type": ""
    },
    "tags": [
     "hide-input"
    ]
   },
   "outputs": [],
   "source": [
    "import sys\n",
    "\n",
    "sys.path.append('/home/ewout/enem_atp/')\n",
    "from util import load_sample, load_acertos,provas,score_inep,load_padr,item_info_inep, params_inep, scalecalparams, notas_to_enem_scale\n",
    "%load_ext autoreload\n",
    "%autoreload 2"
   ]
  },
  {
   "cell_type": "markdown",
   "id": "73e380e3-2ae0-4571-8922-993311baa356",
   "metadata": {
    "editable": true,
    "slideshow": {
     "slide_type": ""
    },
    "tags": []
   },
   "source": [
    "# Como funciona a TRI\n",
    "A teoria de resposta ao item (TRI) é uma metodologia para calcular notas a partir de padrões de respostas a \"itens\" (questões). Ao invés de simplesmente somar o número de acertos, o cálculo da nota pela TRI usa todo o padrão de resposta do candidato, levando em conta as características das questões (dificuldade, poder de \"discriminação\"). Assim, como veremos abaixo, candidatos com o mesmo número de acertos podem ter notas completamente diferentes, dependendo de *quais* questões acertaram, não somente o número delas. \n",
    "\n",
    "Por um lado, a metodologia TRI tem vantagens, o principal delas sendo o fato que as notas calculadas pela TRI podem ser comparadas entre edições da prova, por exemplo em anos diferentes. É por esta razão que avaliações educacionais como o SAEB, o sistema que monitora o desempenho de alunos do ensino básico, usa TRI. Mas por outro lado, há a grande desvantagem que o cálculo da nota pela TRI é um processo opaco para o candidato. Como explicar a alguém com 10 acertos que ele recebeu, digamos, 400 pontos e um outro candidato recebeu 520 pontos?\n",
    "\n",
    "Com um pouco de esforço, é possíve abrir a caixa opaca da TRI. É possível reproduzir as notas do ENEM usando as padrões de resposta dos candidatos. Vamos começar mostrando os dados que temoss, carregando uma amostra de alguns dos milhões de candidatos que fizeram a prova de 2023.\n",
    "\n",
    "```{admonition} Microdados\n",
    "Para este projeto baixamos [os microdados do ENEM](https://www.gov.br/inep/pt-br/acesso-a-informacao/dados-abertos/microdados) disponibilizados pelo INEP. Para ver o nosso *pipeline* de processamento de dados e as funções que usamos abaixo, veja o nosso repositório de código: https://github.com/atp/enem\n",
    "```\n"
   ]
  },
  {
   "cell_type": "code",
   "execution_count": 3,
   "id": "fd494d5b-f292-43b5-a3f4-c712d5cb02a7",
   "metadata": {
    "editable": true,
    "slideshow": {
     "slide_type": ""
    },
    "tags": []
   },
   "outputs": [
    {
     "data": {
      "text/html": [
       "<div>\n",
       "<style scoped>\n",
       "    .dataframe tbody tr th:only-of-type {\n",
       "        vertical-align: middle;\n",
       "    }\n",
       "\n",
       "    .dataframe tbody tr th {\n",
       "        vertical-align: top;\n",
       "    }\n",
       "\n",
       "    .dataframe thead th {\n",
       "        text-align: right;\n",
       "    }\n",
       "</style>\n",
       "<table border=\"1\" class=\"dataframe\">\n",
       "  <thead>\n",
       "    <tr style=\"text-align: right;\">\n",
       "      <th></th>\n",
       "      <th>NU_INSCRICAO</th>\n",
       "      <th>NU_ANO</th>\n",
       "      <th>TP_FAIXA_ETARIA</th>\n",
       "      <th>TP_SEXO</th>\n",
       "      <th>TP_ESTADO_CIVIL</th>\n",
       "      <th>TP_COR_RACA</th>\n",
       "      <th>TP_NACIONALIDADE</th>\n",
       "      <th>TP_ST_CONCLUSAO</th>\n",
       "      <th>TP_ANO_CONCLUIU</th>\n",
       "      <th>TP_ESCOLA</th>\n",
       "      <th>...</th>\n",
       "      <th>Q016</th>\n",
       "      <th>Q017</th>\n",
       "      <th>Q018</th>\n",
       "      <th>Q019</th>\n",
       "      <th>Q020</th>\n",
       "      <th>Q021</th>\n",
       "      <th>Q022</th>\n",
       "      <th>Q023</th>\n",
       "      <th>Q024</th>\n",
       "      <th>Q025</th>\n",
       "    </tr>\n",
       "  </thead>\n",
       "  <tbody>\n",
       "    <tr>\n",
       "      <th>4294</th>\n",
       "      <td>210060244946</td>\n",
       "      <td>2023</td>\n",
       "      <td>4</td>\n",
       "      <td>M</td>\n",
       "      <td>1</td>\n",
       "      <td>3</td>\n",
       "      <td>1</td>\n",
       "      <td>1</td>\n",
       "      <td>2</td>\n",
       "      <td>1</td>\n",
       "      <td>...</td>\n",
       "      <td>B</td>\n",
       "      <td>A</td>\n",
       "      <td>B</td>\n",
       "      <td>D</td>\n",
       "      <td>B</td>\n",
       "      <td>A</td>\n",
       "      <td>D</td>\n",
       "      <td>A</td>\n",
       "      <td>B</td>\n",
       "      <td>B</td>\n",
       "    </tr>\n",
       "    <tr>\n",
       "      <th>16457</th>\n",
       "      <td>210060602594</td>\n",
       "      <td>2023</td>\n",
       "      <td>3</td>\n",
       "      <td>M</td>\n",
       "      <td>1</td>\n",
       "      <td>1</td>\n",
       "      <td>1</td>\n",
       "      <td>2</td>\n",
       "      <td>0</td>\n",
       "      <td>3</td>\n",
       "      <td>...</td>\n",
       "      <td>B</td>\n",
       "      <td>A</td>\n",
       "      <td>B</td>\n",
       "      <td>E</td>\n",
       "      <td>B</td>\n",
       "      <td>B</td>\n",
       "      <td>D</td>\n",
       "      <td>B</td>\n",
       "      <td>E</td>\n",
       "      <td>B</td>\n",
       "    </tr>\n",
       "    <tr>\n",
       "      <th>10345</th>\n",
       "      <td>210060080161</td>\n",
       "      <td>2023</td>\n",
       "      <td>19</td>\n",
       "      <td>M</td>\n",
       "      <td>2</td>\n",
       "      <td>3</td>\n",
       "      <td>1</td>\n",
       "      <td>1</td>\n",
       "      <td>0</td>\n",
       "      <td>1</td>\n",
       "      <td>...</td>\n",
       "      <td>A</td>\n",
       "      <td>A</td>\n",
       "      <td>B</td>\n",
       "      <td>C</td>\n",
       "      <td>B</td>\n",
       "      <td>A</td>\n",
       "      <td>C</td>\n",
       "      <td>A</td>\n",
       "      <td>C</td>\n",
       "      <td>B</td>\n",
       "    </tr>\n",
       "    <tr>\n",
       "      <th>10693</th>\n",
       "      <td>210058076047</td>\n",
       "      <td>2023</td>\n",
       "      <td>4</td>\n",
       "      <td>M</td>\n",
       "      <td>1</td>\n",
       "      <td>3</td>\n",
       "      <td>1</td>\n",
       "      <td>2</td>\n",
       "      <td>0</td>\n",
       "      <td>2</td>\n",
       "      <td>...</td>\n",
       "      <td>A</td>\n",
       "      <td>A</td>\n",
       "      <td>A</td>\n",
       "      <td>B</td>\n",
       "      <td>A</td>\n",
       "      <td>A</td>\n",
       "      <td>B</td>\n",
       "      <td>A</td>\n",
       "      <td>A</td>\n",
       "      <td>A</td>\n",
       "    </tr>\n",
       "    <tr>\n",
       "      <th>4594</th>\n",
       "      <td>210060635922</td>\n",
       "      <td>2023</td>\n",
       "      <td>2</td>\n",
       "      <td>M</td>\n",
       "      <td>1</td>\n",
       "      <td>3</td>\n",
       "      <td>1</td>\n",
       "      <td>1</td>\n",
       "      <td>1</td>\n",
       "      <td>1</td>\n",
       "      <td>...</td>\n",
       "      <td>A</td>\n",
       "      <td>A</td>\n",
       "      <td>A</td>\n",
       "      <td>A</td>\n",
       "      <td>A</td>\n",
       "      <td>A</td>\n",
       "      <td>C</td>\n",
       "      <td>A</td>\n",
       "      <td>A</td>\n",
       "      <td>A</td>\n",
       "    </tr>\n",
       "  </tbody>\n",
       "</table>\n",
       "<p>5 rows × 76 columns</p>\n",
       "</div>"
      ],
      "text/plain": [
       "       NU_INSCRICAO  NU_ANO  TP_FAIXA_ETARIA TP_SEXO  TP_ESTADO_CIVIL  \\\n",
       "4294   210060244946    2023                4       M                1   \n",
       "16457  210060602594    2023                3       M                1   \n",
       "10345  210060080161    2023               19       M                2   \n",
       "10693  210058076047    2023                4       M                1   \n",
       "4594   210060635922    2023                2       M                1   \n",
       "\n",
       "       TP_COR_RACA  TP_NACIONALIDADE  TP_ST_CONCLUSAO  TP_ANO_CONCLUIU  \\\n",
       "4294             3                 1                1                2   \n",
       "16457            1                 1                2                0   \n",
       "10345            3                 1                1                0   \n",
       "10693            3                 1                2                0   \n",
       "4594             3                 1                1                1   \n",
       "\n",
       "       TP_ESCOLA  ...  Q016  Q017  Q018 Q019  Q020 Q021  Q022  Q023  Q024  \\\n",
       "4294           1  ...     B     A     B    D     B    A     D     A     B   \n",
       "16457          3  ...     B     A     B    E     B    B     D     B     E   \n",
       "10345          1  ...     A     A     B    C     B    A     C     A     C   \n",
       "10693          2  ...     A     A     A    B     A    A     B     A     A   \n",
       "4594           1  ...     A     A     A    A     A    A     C     A     A   \n",
       "\n",
       "       Q025  \n",
       "4294      B  \n",
       "16457     B  \n",
       "10345     B  \n",
       "10693     A  \n",
       "4594      A  \n",
       "\n",
       "[5 rows x 76 columns]"
      ]
     },
     "execution_count": 3,
     "metadata": {},
     "output_type": "execute_result"
    }
   ],
   "source": [
    "load_sample(2023,5)"
   ]
  },
  {
   "cell_type": "markdown",
   "id": "c8f02dc2-d916-4abc-903e-d8433be75d56",
   "metadata": {},
   "source": [
    "Vemos que para cada candidato há informaçoes contextuais (autoreportado, na hora de fazer a inscrição do ENEM) sobre idade, sexo, cor/raça e outros variáveis. Nesta base também constam os padrões de resposta e a nota ENEM determinado pelo INEP. Transformamos estes dados numa outra tabela para facilitar as análises que vamos fazer:"
   ]
  },
  {
   "cell_type": "code",
   "execution_count": 4,
   "id": "a6c21019-9684-42d6-9207-2147bb8c99d6",
   "metadata": {},
   "outputs": [
    {
     "data": {
      "text/html": [
       "<div>\n",
       "<style scoped>\n",
       "    .dataframe tbody tr th:only-of-type {\n",
       "        vertical-align: middle;\n",
       "    }\n",
       "\n",
       "    .dataframe tbody tr th {\n",
       "        vertical-align: top;\n",
       "    }\n",
       "\n",
       "    .dataframe thead th {\n",
       "        text-align: right;\n",
       "    }\n",
       "</style>\n",
       "<table border=\"1\" class=\"dataframe\">\n",
       "  <thead>\n",
       "    <tr style=\"text-align: right;\">\n",
       "      <th></th>\n",
       "      <th>40724</th>\n",
       "      <th>60332</th>\n",
       "      <th>126604</th>\n",
       "      <th>117631</th>\n",
       "      <th>43890</th>\n",
       "      <th>85436</th>\n",
       "      <th>26042</th>\n",
       "      <th>83558</th>\n",
       "      <th>64023</th>\n",
       "      <th>87989</th>\n",
       "      <th>...</th>\n",
       "      <th>111665</th>\n",
       "      <th>84422</th>\n",
       "      <th>83378</th>\n",
       "      <th>117887</th>\n",
       "      <th>66330</th>\n",
       "      <th>48492</th>\n",
       "      <th>63155</th>\n",
       "      <th>acertos</th>\n",
       "      <th>caderno</th>\n",
       "      <th>nota_inep</th>\n",
       "    </tr>\n",
       "    <tr>\n",
       "      <th>candidato</th>\n",
       "      <th></th>\n",
       "      <th></th>\n",
       "      <th></th>\n",
       "      <th></th>\n",
       "      <th></th>\n",
       "      <th></th>\n",
       "      <th></th>\n",
       "      <th></th>\n",
       "      <th></th>\n",
       "      <th></th>\n",
       "      <th></th>\n",
       "      <th></th>\n",
       "      <th></th>\n",
       "      <th></th>\n",
       "      <th></th>\n",
       "      <th></th>\n",
       "      <th></th>\n",
       "      <th></th>\n",
       "      <th></th>\n",
       "      <th></th>\n",
       "      <th></th>\n",
       "    </tr>\n",
       "  </thead>\n",
       "  <tbody>\n",
       "    <tr>\n",
       "      <th>210060105242</th>\n",
       "      <td>1</td>\n",
       "      <td>0</td>\n",
       "      <td>1</td>\n",
       "      <td>1</td>\n",
       "      <td>1</td>\n",
       "      <td>1</td>\n",
       "      <td>1</td>\n",
       "      <td>0</td>\n",
       "      <td>0</td>\n",
       "      <td>0</td>\n",
       "      <td>...</td>\n",
       "      <td>0</td>\n",
       "      <td>0</td>\n",
       "      <td>1</td>\n",
       "      <td>0</td>\n",
       "      <td>0</td>\n",
       "      <td>0</td>\n",
       "      <td>0</td>\n",
       "      <td>15</td>\n",
       "      <td>1224</td>\n",
       "      <td>532.8</td>\n",
       "    </tr>\n",
       "    <tr>\n",
       "      <th>210060522409</th>\n",
       "      <td>0</td>\n",
       "      <td>0</td>\n",
       "      <td>0</td>\n",
       "      <td>0</td>\n",
       "      <td>0</td>\n",
       "      <td>0</td>\n",
       "      <td>0</td>\n",
       "      <td>0</td>\n",
       "      <td>0</td>\n",
       "      <td>0</td>\n",
       "      <td>...</td>\n",
       "      <td>0</td>\n",
       "      <td>0</td>\n",
       "      <td>0</td>\n",
       "      <td>0</td>\n",
       "      <td>0</td>\n",
       "      <td>1</td>\n",
       "      <td>0</td>\n",
       "      <td>6</td>\n",
       "      <td>1221</td>\n",
       "      <td>329.2</td>\n",
       "    </tr>\n",
       "    <tr>\n",
       "      <th>210061890057</th>\n",
       "      <td>0</td>\n",
       "      <td>0</td>\n",
       "      <td>0</td>\n",
       "      <td>1</td>\n",
       "      <td>0</td>\n",
       "      <td>0</td>\n",
       "      <td>0</td>\n",
       "      <td>1</td>\n",
       "      <td>0</td>\n",
       "      <td>1</td>\n",
       "      <td>...</td>\n",
       "      <td>0</td>\n",
       "      <td>0</td>\n",
       "      <td>1</td>\n",
       "      <td>0</td>\n",
       "      <td>0</td>\n",
       "      <td>1</td>\n",
       "      <td>1</td>\n",
       "      <td>11</td>\n",
       "      <td>1224</td>\n",
       "      <td>441.8</td>\n",
       "    </tr>\n",
       "    <tr>\n",
       "      <th>210059579028</th>\n",
       "      <td>0</td>\n",
       "      <td>0</td>\n",
       "      <td>0</td>\n",
       "      <td>0</td>\n",
       "      <td>0</td>\n",
       "      <td>1</td>\n",
       "      <td>0</td>\n",
       "      <td>0</td>\n",
       "      <td>1</td>\n",
       "      <td>0</td>\n",
       "      <td>...</td>\n",
       "      <td>0</td>\n",
       "      <td>0</td>\n",
       "      <td>1</td>\n",
       "      <td>1</td>\n",
       "      <td>0</td>\n",
       "      <td>0</td>\n",
       "      <td>0</td>\n",
       "      <td>9</td>\n",
       "      <td>1221</td>\n",
       "      <td>419.2</td>\n",
       "    </tr>\n",
       "    <tr>\n",
       "      <th>210058117429</th>\n",
       "      <td>0</td>\n",
       "      <td>0</td>\n",
       "      <td>1</td>\n",
       "      <td>1</td>\n",
       "      <td>0</td>\n",
       "      <td>0</td>\n",
       "      <td>0</td>\n",
       "      <td>1</td>\n",
       "      <td>0</td>\n",
       "      <td>0</td>\n",
       "      <td>...</td>\n",
       "      <td>0</td>\n",
       "      <td>0</td>\n",
       "      <td>1</td>\n",
       "      <td>0</td>\n",
       "      <td>0</td>\n",
       "      <td>0</td>\n",
       "      <td>0</td>\n",
       "      <td>5</td>\n",
       "      <td>1221</td>\n",
       "      <td>427.5</td>\n",
       "    </tr>\n",
       "  </tbody>\n",
       "</table>\n",
       "<p>5 rows × 48 columns</p>\n",
       "</div>"
      ],
      "text/plain": [
       "              40724  60332  126604  117631  43890  85436  26042  83558  64023  \\\n",
       "candidato                                                                       \n",
       "210060105242      1      0       1       1      1      1      1      0      0   \n",
       "210060522409      0      0       0       0      0      0      0      0      0   \n",
       "210061890057      0      0       0       1      0      0      0      1      0   \n",
       "210059579028      0      0       0       0      0      1      0      0      1   \n",
       "210058117429      0      0       1       1      0      0      0      1      0   \n",
       "\n",
       "              87989  ...  111665  84422  83378  117887  66330  48492  63155  \\\n",
       "candidato            ...                                                      \n",
       "210060105242      0  ...       0      0      1       0      0      0      0   \n",
       "210060522409      0  ...       0      0      0       0      0      1      0   \n",
       "210061890057      1  ...       0      0      1       0      0      1      1   \n",
       "210059579028      0  ...       0      0      1       1      0      0      0   \n",
       "210058117429      0  ...       0      0      1       0      0      0      0   \n",
       "\n",
       "              acertos  caderno  nota_inep  \n",
       "candidato                                  \n",
       "210060105242       15     1224      532.8  \n",
       "210060522409        6     1221      329.2  \n",
       "210061890057       11     1224      441.8  \n",
       "210059579028        9     1221      419.2  \n",
       "210058117429        5     1221      427.5  \n",
       "\n",
       "[5 rows x 48 columns]"
      ]
     },
     "execution_count": 4,
     "metadata": {},
     "output_type": "execute_result"
    }
   ],
   "source": [
    "load_acertos(2023,'CN',5)"
   ]
  },
  {
   "cell_type": "code",
   "execution_count": null,
   "id": "27dddbb4-98b3-4f7d-81f1-431dafbe4a4e",
   "metadata": {},
   "outputs": [],
   "source": []
  },
  {
   "cell_type": "markdown",
   "id": "0255b79f-2351-4e3b-bd83-eb2484fb5b33",
   "metadata": {},
   "source": [
    "Com os dados neste formato, podemos reproduzir as notas dadas pela INEP. Vamos transformar os 45 acertos e erros, ou \"0\"s e \"1\"s dos candidatos, em notas calculadas pelo TRI, usando os parâmetros das questões (itens, no jargão das especialistas em avaliação) fornecido pelo INEP. O resultado vai ser uma nota na \"escala ENEM\", que varia na prática entre 300 e 800 ou 900.\n",
    "\n",
    "```{admonition} Interpretação da escala ENEM\n",
    "Uma das interpretações equivocadas da escala ENEM mais comuns é equiparar as notas, ainda implicitamente, a uma nota escolar do 0 até 10. Porém, não é correto interpretar 600 ou 700 na escala ENEM como sendo \"mais ou menos satisfatória\", como faríamos com notas escolares. Ao vez disso, a interpretação correta é que 500 é a média da população referência (alunos no final do ensino médio em 2009) e 100 pontos na escala ENEM corresponde a um desvio padrão da população de referência. Assim, uma nota acima de 700 na escala ENEM seria atingido por somente 2,5% da população de referência. \n",
    "```"
   ]
  },
  {
   "cell_type": "markdown",
   "id": "668d9a28-e343-4399-b92b-263ca95ebbb4",
   "metadata": {
    "editable": true,
    "slideshow": {
     "slide_type": ""
    },
    "tags": []
   },
   "source": [
    "## A nota TRI é bem diferente do que o número de acertos\n",
    "Antes de mostrar como notas são calculadas na escala ENEM, mostramos o que todo mundo que já fez o ENEM sabe: dois candidatos com o mesmo número de acertos podem ter notas ENEM bem diferentes. Não é somente o número de acertos que conta, é também o padrão de respostas que é levado em conta:"
   ]
  },
  {
   "cell_type": "code",
   "execution_count": 5,
   "id": "09cde245-5579-49cc-a176-4205caa4f951",
   "metadata": {},
   "outputs": [
    {
     "data": {
      "text/plain": [
       "<Axes: xlabel='acertos', ylabel='nota_inep'>"
      ]
     },
     "execution_count": 5,
     "metadata": {},
     "output_type": "execute_result"
    },
    {
     "data": {
      "image/png": "[encoded data removed]",
      "text/plain": [
       "<Figure size 640x480 with 1 Axes>"
      ]
     },
     "metadata": {},
     "output_type": "display_data"
    }
   ],
   "source": [
    "ano = 2023\n",
    "area = 'CN'\n",
    "df = load_acertos(ano,area,5000)\n",
    "ax = df.plot(kind='scatter',x='acertos',y='nota_inep')\n",
    "df.query(\"acertos == 9\").plot(kind='scatter',x='acertos',y='nota_inep', color='r',ax=ax)\n",
    "df.query(\"nota_inep > 497 & nota_inep < 502\").plot(kind='scatter',x='acertos',y='nota_inep', color='k',ax=ax)"
   ]
  },
  {
   "cell_type": "markdown",
   "id": "9febdf4e-1e1d-4459-9bcf-2cb42dc29731",
   "metadata": {},
   "source": [
    "Vemos que para pessoas com 9 acertos a nota ENEM pode variar de 330 até 530, dependendo quais questões acertaram. E, para quem tirou uma nota ENEM de 500, o número de acertos pode ter sido entre 9 e 16."
   ]
  },
  {
   "cell_type": "markdown",
   "id": "7882f54a-ee61-4c30-99c0-cbdcb2b82cfe",
   "metadata": {
    "editable": true,
    "slideshow": {
     "slide_type": ""
    },
    "tags": []
   },
   "source": [
    "## O \"peso\" da questão não é sua dificuldade"
   ]
  },
  {
   "cell_type": "markdown",
   "id": "93a236a4-6103-405c-9159-e9684fa718f3",
   "metadata": {
    "editable": true,
    "slideshow": {
     "slide_type": ""
    },
    "tags": []
   },
   "source": [
    "O que explica esta diferença é o padrão de respostas dos candidatos. De uma forma geral, quem acerta de forma mais consistente ganha uma nota maior. Mas, contrário ao senso comum, não é verdade que questões mais difíceis \"pesam mais\" e levam a uma nota maior. Talvez surpreendentemente, dado um certo número de acertos, é melhor acertar itens fáceis do que acertar itens difícil. Podemos mostrar isso com candidatos reais."
   ]
  },
  {
   "cell_type": "markdown",
   "id": "30cbdfd2-21dd-43f7-9de2-41626b9c6ec5",
   "metadata": {
    "editable": true,
    "slideshow": {
     "slide_type": ""
    },
    "tags": []
   },
   "source": [
    "O INEP fornece os parâmetros dos itens, as características das questões determinadas durante o processo de testagem. O parâmetro $a$ representa a \"discriminação\" do item, $b$ é a dificuldade e $c$ a probabilidade de acerto por acaso. Mais abaixo explicamaremos melhor como interpretar estes parâmetros. Agora vamos mostrar que o parâmetro `b` *não* deve ser interpretado como o \"peso\" da questão. "
   ]
  },
  {
   "cell_type": "code",
   "execution_count": 6,
   "id": "32420ffe-6d8a-470c-b48d-3e77e034fa31",
   "metadata": {},
   "outputs": [
    {
     "data": {
      "text/html": [
       "<div>\n",
       "<style scoped>\n",
       "    .dataframe tbody tr th:only-of-type {\n",
       "        vertical-align: middle;\n",
       "    }\n",
       "\n",
       "    .dataframe tbody tr th {\n",
       "        vertical-align: top;\n",
       "    }\n",
       "\n",
       "    .dataframe thead th {\n",
       "        text-align: right;\n",
       "    }\n",
       "</style>\n",
       "<table border=\"1\" class=\"dataframe\">\n",
       "  <thead>\n",
       "    <tr style=\"text-align: right;\">\n",
       "      <th></th>\n",
       "      <th>a_inep</th>\n",
       "      <th>b_inep</th>\n",
       "      <th>c_inep</th>\n",
       "      <th>u</th>\n",
       "    </tr>\n",
       "    <tr>\n",
       "      <th>CO_ITEM</th>\n",
       "      <th></th>\n",
       "      <th></th>\n",
       "      <th></th>\n",
       "      <th></th>\n",
       "    </tr>\n",
       "  </thead>\n",
       "  <tbody>\n",
       "    <tr>\n",
       "      <th>64023</th>\n",
       "      <td>1.81427</td>\n",
       "      <td>1.41990</td>\n",
       "      <td>0.25187</td>\n",
       "      <td>1</td>\n",
       "    </tr>\n",
       "    <tr>\n",
       "      <th>97149</th>\n",
       "      <td>0.99037</td>\n",
       "      <td>1.55817</td>\n",
       "      <td>0.20321</td>\n",
       "      <td>1</td>\n",
       "    </tr>\n",
       "    <tr>\n",
       "      <th>84041</th>\n",
       "      <td>3.68114</td>\n",
       "      <td>1.27129</td>\n",
       "      <td>0.10000</td>\n",
       "      <td>1</td>\n",
       "    </tr>\n",
       "    <tr>\n",
       "      <th>66259</th>\n",
       "      <td>2.34079</td>\n",
       "      <td>1.00185</td>\n",
       "      <td>0.23885</td>\n",
       "      <td>1</td>\n",
       "    </tr>\n",
       "    <tr>\n",
       "      <th>117866</th>\n",
       "      <td>2.33748</td>\n",
       "      <td>1.77344</td>\n",
       "      <td>0.10811</td>\n",
       "      <td>1</td>\n",
       "    </tr>\n",
       "  </tbody>\n",
       "</table>\n",
       "</div>"
      ],
      "text/plain": [
       "          a_inep   b_inep   c_inep  u\n",
       "CO_ITEM                              \n",
       "64023    1.81427  1.41990  0.25187  1\n",
       "97149    0.99037  1.55817  0.20321  1\n",
       "84041    3.68114  1.27129  0.10000  1\n",
       "66259    2.34079  1.00185  0.23885  1\n",
       "117866   2.33748  1.77344  0.10811  1"
      ]
     },
     "execution_count": 6,
     "metadata": {},
     "output_type": "execute_result"
    }
   ],
   "source": [
    "prova = 1222\n",
    "params = params_inep(prova=prova)\n",
    "params[:5]"
   ]
  },
  {
   "cell_type": "markdown",
   "id": "6398268e-365e-42d7-8162-0ee0d34c9ece",
   "metadata": {
    "editable": true,
    "slideshow": {
     "slide_type": ""
    },
    "tags": []
   },
   "source": [
    "Com algumas manobras, podemos mostrar a diferença entre as padrões de resposta de dois candidatos com o mesmo número de acertos. Observe que a nota alta é obtida para quem acerto as questões mais fáceis. O padrão com acertos em itens difíceis mas erros em itens fáceis é pouco provável e o algoritmo TRI associa uma nota baixa. "
   ]
  },
  {
   "cell_type": "code",
   "execution_count": 7,
   "id": "e5d84bb0-7d8f-46ee-9d72-1075977ff9d8",
   "metadata": {
    "editable": true,
    "slideshow": {
     "slide_type": ""
    },
    "tags": [
     "hide-input"
    ]
   },
   "outputs": [
    {
     "data": {
      "application/vnd.jupyter.widget-view+json": {
       "model_id": "c2051a245e8a425a85d72b73f0e40f4d",
       "version_major": 2,
       "version_minor": 0
      },
      "text/plain": [
       "interactive(children=(IntText(value=9, description='Acertos:'), Output()), _dom_classes=('widget-interact',))"
      ]
     },
     "metadata": {},
     "output_type": "display_data"
    }
   ],
   "source": [
    "itens_a = pd.qcut(params['a_inep'],3,labels=['Baixa','Média','Alta'])\n",
    "itens_b = pd.qcut(params['b_inep'],3,labels=['Baixa','Média','Alta'])\n",
    "itens = pd.concat([itens_a,itens_b],axis=1)\n",
    "itens.columns = ['discriminação','dificuldade']\n",
    "\n",
    "def compare_padr(nacertos=9):\n",
    "    padrmin = df.loc[df.query(\"acertos == @nacertos\")['nota_inep'].idxmin()]\n",
    "    padrmax = df.loc[df.query(\"acertos == @nacertos\")['nota_inep'].idxmax()]\n",
    "    notamin,notamax = padrmin['nota_inep'], padrmax['nota_inep']\n",
    "    padrmin = padrmin[:-3]; padrmax = padrmax[:-3]\n",
    "    padrmin.index = padrmin.index.astype(str);padrmax.index = padrmax.index.astype(str)\n",
    "    result = params.join(itens).join(padrmin).join(padrmax)\n",
    "    result.columns = ['a','b','c','u','discriminação','dificuldade','nota_baixa','nota_alta']\n",
    "    result = result.sort_values(['b'],ascending=True).query(\"nota_baixa == 1 or nota_alta == 1\")\n",
    "    result.columns = ['a','b','c','u','discriminação','dificuldade',f'nota = {notamin}',f'nota = {notamax}']\n",
    "    return result\n",
    "\n",
    "iw = widgets.IntText(\n",
    "    value=9,\n",
    "    description='Acertos:',\n",
    ")\n",
    "interact(compare_padr, nacertos=iw);"
   ]
  },
  {
   "cell_type": "markdown",
   "id": "1d126e52-38f6-45fb-8490-974a0f96d00f",
   "metadata": {
    "editable": true,
    "slideshow": {
     "slide_type": ""
    },
    "tags": []
   },
   "source": [
    "Podemos também comparar dois candidatos com notas parecidas do ENEM. Vemos na figura acima que candidatos com uma nota de 500 podem ter acertado entre 6 e 15 itens. Qual é a diferença entre os padrões de resposta deste dois candidatos?\n",
    "\n",
    "Veja abaixo como o padrão de resposta é diferente para dois candidatos com essencialmente a mesma nota ENEM. O primeiro, com poucos acertos, acertou quase todas as questões fáceis. O segundo também acertou uma fração das questões fáceis, mas errou alguns. Apesar de ter acertadas itens difíceis, não adiantou. Acertar uma questão difícil sem acertar as fáceis não leva a notas maiores no TRI. "
   ]
  },
  {
   "cell_type": "code",
   "execution_count": 8,
   "id": "da0ec542-53c7-46b9-ae7d-721a29811b27",
   "metadata": {
    "editable": true,
    "slideshow": {
     "slide_type": ""
    },
    "tags": [
     "hide-input"
    ]
   },
   "outputs": [
    {
     "data": {
      "text/html": [
       "<div>\n",
       "<style scoped>\n",
       "    .dataframe tbody tr th:only-of-type {\n",
       "        vertical-align: middle;\n",
       "    }\n",
       "\n",
       "    .dataframe tbody tr th {\n",
       "        vertical-align: top;\n",
       "    }\n",
       "\n",
       "    .dataframe thead th {\n",
       "        text-align: right;\n",
       "    }\n",
       "</style>\n",
       "<table border=\"1\" class=\"dataframe\">\n",
       "  <thead>\n",
       "    <tr style=\"text-align: right;\">\n",
       "      <th></th>\n",
       "      <th>discriminação</th>\n",
       "      <th>dificuldade</th>\n",
       "      <th>acertos: 8.0, nota: 499.7</th>\n",
       "      <th>acertos: 17.0, nota = 500.4</th>\n",
       "    </tr>\n",
       "    <tr>\n",
       "      <th>CO_ITEM</th>\n",
       "      <th></th>\n",
       "      <th></th>\n",
       "      <th></th>\n",
       "      <th></th>\n",
       "    </tr>\n",
       "  </thead>\n",
       "  <tbody>\n",
       "    <tr>\n",
       "      <th>83378</th>\n",
       "      <td>Baixa</td>\n",
       "      <td>Baixa</td>\n",
       "      <td>1.0</td>\n",
       "      <td>0.0</td>\n",
       "    </tr>\n",
       "    <tr>\n",
       "      <th>40724</th>\n",
       "      <td>Baixa</td>\n",
       "      <td>Baixa</td>\n",
       "      <td>1.0</td>\n",
       "      <td>1.0</td>\n",
       "    </tr>\n",
       "    <tr>\n",
       "      <th>126604</th>\n",
       "      <td>Alta</td>\n",
       "      <td>Baixa</td>\n",
       "      <td>1.0</td>\n",
       "      <td>0.0</td>\n",
       "    </tr>\n",
       "    <tr>\n",
       "      <th>117631</th>\n",
       "      <td>Baixa</td>\n",
       "      <td>Baixa</td>\n",
       "      <td>1.0</td>\n",
       "      <td>1.0</td>\n",
       "    </tr>\n",
       "    <tr>\n",
       "      <th>141723</th>\n",
       "      <td>Média</td>\n",
       "      <td>Baixa</td>\n",
       "      <td>1.0</td>\n",
       "      <td>1.0</td>\n",
       "    </tr>\n",
       "    <tr>\n",
       "      <th>111665</th>\n",
       "      <td>Alta</td>\n",
       "      <td>Baixa</td>\n",
       "      <td>0.0</td>\n",
       "      <td>1.0</td>\n",
       "    </tr>\n",
       "    <tr>\n",
       "      <th>87989</th>\n",
       "      <td>Média</td>\n",
       "      <td>Baixa</td>\n",
       "      <td>0.0</td>\n",
       "      <td>1.0</td>\n",
       "    </tr>\n",
       "    <tr>\n",
       "      <th>47317</th>\n",
       "      <td>Média</td>\n",
       "      <td>Baixa</td>\n",
       "      <td>0.0</td>\n",
       "      <td>1.0</td>\n",
       "    </tr>\n",
       "    <tr>\n",
       "      <th>63155</th>\n",
       "      <td>Alta</td>\n",
       "      <td>Média</td>\n",
       "      <td>0.0</td>\n",
       "      <td>1.0</td>\n",
       "    </tr>\n",
       "    <tr>\n",
       "      <th>64023</th>\n",
       "      <td>Baixa</td>\n",
       "      <td>Média</td>\n",
       "      <td>0.0</td>\n",
       "      <td>1.0</td>\n",
       "    </tr>\n",
       "    <tr>\n",
       "      <th>48641</th>\n",
       "      <td>Alta</td>\n",
       "      <td>Média</td>\n",
       "      <td>0.0</td>\n",
       "      <td>1.0</td>\n",
       "    </tr>\n",
       "    <tr>\n",
       "      <th>97149</th>\n",
       "      <td>Baixa</td>\n",
       "      <td>Média</td>\n",
       "      <td>1.0</td>\n",
       "      <td>0.0</td>\n",
       "    </tr>\n",
       "    <tr>\n",
       "      <th>60332</th>\n",
       "      <td>Alta</td>\n",
       "      <td>Média</td>\n",
       "      <td>1.0</td>\n",
       "      <td>0.0</td>\n",
       "    </tr>\n",
       "    <tr>\n",
       "      <th>83552</th>\n",
       "      <td>Média</td>\n",
       "      <td>Média</td>\n",
       "      <td>0.0</td>\n",
       "      <td>1.0</td>\n",
       "    </tr>\n",
       "    <tr>\n",
       "      <th>117866</th>\n",
       "      <td>Média</td>\n",
       "      <td>Média</td>\n",
       "      <td>0.0</td>\n",
       "      <td>1.0</td>\n",
       "    </tr>\n",
       "    <tr>\n",
       "      <th>82333</th>\n",
       "      <td>Média</td>\n",
       "      <td>Alta</td>\n",
       "      <td>0.0</td>\n",
       "      <td>1.0</td>\n",
       "    </tr>\n",
       "    <tr>\n",
       "      <th>97767</th>\n",
       "      <td>Baixa</td>\n",
       "      <td>Alta</td>\n",
       "      <td>0.0</td>\n",
       "      <td>1.0</td>\n",
       "    </tr>\n",
       "    <tr>\n",
       "      <th>111466</th>\n",
       "      <td>Alta</td>\n",
       "      <td>Alta</td>\n",
       "      <td>0.0</td>\n",
       "      <td>1.0</td>\n",
       "    </tr>\n",
       "    <tr>\n",
       "      <th>54162</th>\n",
       "      <td>Baixa</td>\n",
       "      <td>Alta</td>\n",
       "      <td>1.0</td>\n",
       "      <td>1.0</td>\n",
       "    </tr>\n",
       "    <tr>\n",
       "      <th>48492</th>\n",
       "      <td>Baixa</td>\n",
       "      <td>Alta</td>\n",
       "      <td>0.0</td>\n",
       "      <td>1.0</td>\n",
       "    </tr>\n",
       "    <tr>\n",
       "      <th>66330</th>\n",
       "      <td>Baixa</td>\n",
       "      <td>Alta</td>\n",
       "      <td>0.0</td>\n",
       "      <td>1.0</td>\n",
       "    </tr>\n",
       "  </tbody>\n",
       "</table>\n",
       "</div>"
      ],
      "text/plain": [
       "        discriminação dificuldade  acertos: 8.0, nota: 499.7  \\\n",
       "CO_ITEM                                                        \n",
       "83378           Baixa       Baixa                        1.0   \n",
       "40724           Baixa       Baixa                        1.0   \n",
       "126604           Alta       Baixa                        1.0   \n",
       "117631          Baixa       Baixa                        1.0   \n",
       "141723          Média       Baixa                        1.0   \n",
       "111665           Alta       Baixa                        0.0   \n",
       "87989           Média       Baixa                        0.0   \n",
       "47317           Média       Baixa                        0.0   \n",
       "63155            Alta       Média                        0.0   \n",
       "64023           Baixa       Média                        0.0   \n",
       "48641            Alta       Média                        0.0   \n",
       "97149           Baixa       Média                        1.0   \n",
       "60332            Alta       Média                        1.0   \n",
       "83552           Média       Média                        0.0   \n",
       "117866          Média       Média                        0.0   \n",
       "82333           Média        Alta                        0.0   \n",
       "97767           Baixa        Alta                        0.0   \n",
       "111466           Alta        Alta                        0.0   \n",
       "54162           Baixa        Alta                        1.0   \n",
       "48492           Baixa        Alta                        0.0   \n",
       "66330           Baixa        Alta                        0.0   \n",
       "\n",
       "         acertos: 17.0, nota = 500.4  \n",
       "CO_ITEM                               \n",
       "83378                            0.0  \n",
       "40724                            1.0  \n",
       "126604                           0.0  \n",
       "117631                           1.0  \n",
       "141723                           1.0  \n",
       "111665                           1.0  \n",
       "87989                            1.0  \n",
       "47317                            1.0  \n",
       "63155                            1.0  \n",
       "64023                            1.0  \n",
       "48641                            1.0  \n",
       "97149                            0.0  \n",
       "60332                            0.0  \n",
       "83552                            1.0  \n",
       "117866                           1.0  \n",
       "82333                            1.0  \n",
       "97767                            1.0  \n",
       "111466                           1.0  \n",
       "54162                            1.0  \n",
       "48492                            1.0  \n",
       "66330                            1.0  "
      ]
     },
     "execution_count": 8,
     "metadata": {},
     "output_type": "execute_result"
    }
   ],
   "source": [
    "nota1, nota2 = 499,501\n",
    "dfn = df.query(\"nota_inep <= @nota2 and nota_inep > @nota1\")\n",
    "padrmin = dfn.loc[dfn['acertos'].idxmin()]\n",
    "padrmax = dfn.loc[dfn['acertos'].idxmax()]\n",
    "notamin,notamax = padrmin['nota_inep'], padrmax['nota_inep']\n",
    "acertosmin,acertosmax = padrmin['acertos'], padrmax['acertos']\n",
    "padrmin = padrmin[:-3]; padrmax = padrmax[:-3]\n",
    "padrmin.index = padrmin.index.astype(str);padrmax.index = padrmax.index.astype(str)\n",
    "result = params.join(itens).join(padrmin).join(padrmax)\n",
    "result.columns = ['a','b','c','u','discriminação','dificuldade','nota_baixa','nota_alta']\n",
    "result = result.sort_values(['b'],ascending=True).query(\"nota_baixa == 1 or nota_alta == 1\")\n",
    "result.columns = ['a','b','c','u','discriminação','dificuldade',f'acertos: {acertosmin}, nota: {notamin}',f'acertos: {acertosmax}, nota = {notamax}']\n",
    "result = result.drop(columns=['a','b','c','u'])\n",
    "result"
   ]
  },
  {
   "cell_type": "markdown",
   "id": "ee944832-761e-487a-ada0-b503e0d9c96e",
   "metadata": {
    "editable": true,
    "slideshow": {
     "slide_type": ""
    },
    "tags": []
   },
   "source": [
    "## O modelo TRI determina a probabilidade dos padrões de resposta\n",
    "A teoria de resposta ao item faz uma modelagem probabilística para as respostas de um candidato às questões da prova. Vamos chamar a habilidade (presuposto uma quantidade unidimensional nos modelos simples) $\\theta$ e os padrões de resposta $x_i = 0$ (errou) ou $1$ (acertou) para $i=1\\ldots 45$. Então o model TRI postula que um candidato com habilidade $\\theta$ tem uma certa probabilidade $P_i(x_i = 1|\\theta;a_i,b_i,c_i)$ que o candidato acertar a questão $i$. É esta \"habilidade\" $\\theta$ que vai virar a nota do ENEM.\n",
    "\n",
    "Vamos ver exemplos concretos desta função $P_i(x_i = 1|\\theta;a_i,b_i,c_i)$, usando os parâmetros das primeiras cinco questões da prova que estamos ananlisando:"
   ]
  },
  {
   "cell_type": "code",
   "execution_count": 9,
   "id": "86c7411c-ead8-475b-9dc4-140fcb18fe7d",
   "metadata": {
    "editable": true,
    "slideshow": {
     "slide_type": ""
    },
    "tags": [
     "hide-input"
    ]
   },
   "outputs": [
    {
     "data": {
      "image/png": "[encoded data removed]",
      "text/plain": [
       "<Figure size 640x480 with 1 Axes>"
      ]
     },
     "metadata": {},
     "output_type": "display_data"
    }
   ],
   "source": [
    "sns.set_context('paper',font_scale=1.4)\n",
    "\n",
    "params = params_inep(ano,area)[:5]\n",
    "theta = np.arange(-3,3,0.01)\n",
    "def P(theta,a=1,b=0,c=0):\n",
    "    return c + (1-c)*1/(1+np.exp(a*(b-theta)))\n",
    "i = 0\n",
    "for item,value in params.iterrows():\n",
    "    i += 1\n",
    "    a,b,c = value['a_inep'],value['b_inep'],value['c_inep']\n",
    "    sns.lineplot(x=theta,y=P(theta,a,b,c), label=f\"$P_{i}$: a={a:.1f}, b={b:.1f}, c={c:.2f}\")\n",
    "ax = plt.gca()\n",
    "ax.set_xlabel(r\"$\\theta$\");ax.set_ylabel(r\"$P_i(\\theta)$\");"
   ]
  },
  {
   "cell_type": "markdown",
   "id": "7be3a0a4-716e-404c-a721-ef3e56eb3945",
   "metadata": {
    "editable": true,
    "slideshow": {
     "slide_type": ""
    },
    "tags": []
   },
   "source": [
    "Vemos que a probabilidade de acertar depende da habilidade do candidato e das características das questões (parametrizado acima com três parâmetros, mas pode haver outros modelos para as características das questões). Qualquer modelo razoável vai dar uma probabilidade maior de acerto para habilidades $\\theta$ maiores. Da mesma forma, a probabilidade de acerto deve diminuir para questões mais difíceis (para uma determinada habilidade fixa). Grande parte do problema técnica da TRI é estimar, baseado em muitas padrões de resposta a provas como estas que vimos acima, as características das questões. Por agora vamos supor que esta calibração das características das questões foi feito e que conhecemos os parâmetros das questões e portanto as funções $P_i$. Agora vamos se perguntar: dado uma certa habilidade, quais serão as padrões de resposta mais prováveis? Uma vez que temos um modelo para esta pergunta, vamos inverter a questão e perguntar: dado um certo padrão de resposta, qual é a habilidade correspondente mais provável?\n",
    "\n",
    "A probabilidade de um determinado padrão de respostas $\\{x_1, x_2 \\ldots x_{45}\\} = \\{x_i\\} = \\vec{x}$, dado uma certa habilidade é\n",
    "\n",
    "$$ \\text{prob}(\\vec{x}|\\theta)= \\prod_{i=1}^{45} P_i(\\theta)^{x_i} (1-P_i(\\theta))^{1-x_{i}} $$\n",
    "\n",
    "Isso parece uma expressão complicada, mas é possível de entender. Estamos supondo que as probabilidades de acertar questões são todas independentes. Neste caso, as leis da probabilidade dizem que precisamos multiplicar as probabilidades de acerto para todas as 45 questões da prova. Vamos supor que queremos saber a probabilidade de um determinado padrão de resposta, digamos $\\{0,1,1,0\\ldots\\}$. A probabilidade de *errar* a primeira questão é $(1-P_1)$, a probabilidade de *acertar* a segunda questão é $P_2$, a terceira $P_3$, a de *errar* a quarta $(1-P_4)$, e assim até a última questão e precisamos multiplicar todas estas probabilidades. Observe que os expoentes $P_i^{x_1}$ na expressao acima é só notação que escolha $P$ para um acerto ($x_i = 1)$ e $(1-P)$ para um erro ($x_i = 0)$. \n",
    "\n",
    "A expressão acima para as $2^{45}$ probabilidades, um para cada padrão de respostas possível, é o *modelo* da TRI para as padrões de resposta. As probabilidades de cada padrão de resposta podem ser considerada como uma função da habilidade $\\theta$. Mas para determinar o $\\theta$ (a nota TRI) dado um determinado padrão de respostas, precisamos \"inverter\" a expressão acima. Conhehecendo o padrão de resposta há duas formas de determinar a habilidade $\\theta$. Primeiro vamos ver o método tradiconal em estastística, \"máxima verossimilhança\". Segundo, o método Bayesiano. \n",
    "\n",
    "## Estimar $\\theta$ por meio do método de máxima verossimilhança\n",
    "Para demonstrar como a inferência da habilidade $\\theta$ funciona, dado um padrão de respostas, vamos analisar o modelo concreto usado no ENEM. Vamos assumir que conhecemos as características das questões (as funções $P_i$, veja acima, mas para simplificar a exposição vamos usar $c=0$) e como exemplo vamos analisar um dos $2^{45}$ padrões de resposta possível: 45 cinco respostas (acertos ou erros para cada uma das questões): $\\{0,1,1,0\\ldots\\}$. \n"
   ]
  },
  {
   "cell_type": "markdown",
   "id": "81d81916-2f3c-4c65-992d-d537db690c2c",
   "metadata": {},
   "source": [
    "Vamos inicialmente imaginar que só temos informação sobre o acerto ou erro da primeira questão. No nosso exemplo, o candidato errou e $x_1 = 0$. Por enquanto, o nosso modelo diz:\n",
    "\n",
    "$$ \\text{prob}(x_1 = 0|\\theta) = P_1(\\theta)^{0} (1-P_1(\\theta)^{1-0} = 1-P_1(\\theta)$$\n"
   ]
  },
  {
   "cell_type": "code",
   "execution_count": 10,
   "id": "e02f1641-0457-4a50-81a0-4ce0813a9637",
   "metadata": {
    "editable": true,
    "slideshow": {
     "slide_type": ""
    },
    "tags": [
     "hide-input"
    ]
   },
   "outputs": [
    {
     "data": {
      "image/png": "[encoded data removed]",
      "text/plain": [
       "<Figure size 640x480 with 1 Axes>"
      ]
     },
     "metadata": {},
     "output_type": "display_data"
    }
   ],
   "source": [
    "a1,b1,c1 = params['a_inep'].iloc[0],params['b_inep'].iloc[0],0 # os parâmetros do primeiro item\n",
    "ax = sns.lineplot(x=theta,y=1-P(theta,a1,b1,c1), label=f\"$1-P_{1}$\");\n",
    "ax.set_xlabel(r\"$\\theta$\");ax.set_ylabel(r\"$\\mathrm{prob}(x_1=0|\\theta)$\");"
   ]
  },
  {
   "cell_type": "markdown",
   "id": "11cee108-dc71-45f2-8643-10dc913350a3",
   "metadata": {},
   "source": [
    "Não dá, ainda, para dizer muito sobre a provável habilidade. No método de \"máxima verossimilhança\" (ML, da sigla em inglês), com somente a informação sobre o erro na primeira questão, a única coisa para dizer é que é mais provável que a habilidade é baixa. Veremos abaixo que no método Bayesiano, que leva em conta mais informação do que somente os acertos às questões, poderíamos dizer um pouco mais. Vamos à próxima questão, era um acerto: $x_2 =1$. Agora a probabilidade desta padrão de resposta é\n",
    "\n",
    "$$\\text{prob}(x_1 = 0, x_2 = 0|\\theta) = (1-P_1(\\theta))(P_2(\\theta))$$\n",
    "\n",
    "e podemos novamente fazer um gráfico da probabilidade desta \"padrão de resposta\" de agora duas respostas:"
   ]
  },
  {
   "cell_type": "code",
   "execution_count": 11,
   "id": "4b6ad325-7784-49c1-a093-1eac2dce120c",
   "metadata": {
    "editable": true,
    "slideshow": {
     "slide_type": ""
    },
    "tags": [
     "hide-input"
    ]
   },
   "outputs": [
    {
     "data": {
      "image/png": "[encoded data removed]",
      "text/plain": [
       "<Figure size 640x480 with 1 Axes>"
      ]
     },
     "metadata": {},
     "output_type": "display_data"
    }
   ],
   "source": [
    "a2,b2,c2 = params['a_inep'].iloc[1],params['b_inep'].iloc[1],0 # os parâmetros do segundo item\n",
    "ax = sns.lineplot(x=theta,y=(1-P(theta,a1,b1,c1))*P(theta,a2,b2,c2), label=f\"$(1-P_{1})*P_2$\");\n",
    "ax.set_xlabel(r\"$\\theta$\");ax.set_ylabel(r\"$\\mathrm{prob}(x_1=0,x_2=1|\\theta$)\");"
   ]
  },
  {
   "cell_type": "markdown",
   "id": "3ac546c6-b781-48df-9fa1-c525aa758d82",
   "metadata": {},
   "source": [
    "Vemos que com duas repostas, um erro e outro acerto, já podemos fazer inferências com um pouco mais de confiança. O método de máxima verossimilhança agora estima uma habilidade próximo de 2. Vamos, para finalizar o exemplo, analisar o padrão de resposta $\\{0,1,1,0\\}$. "
   ]
  },
  {
   "cell_type": "code",
   "execution_count": 12,
   "id": "c1414486-bdbe-4e8d-8bc4-14d4bcd8a8b2",
   "metadata": {
    "editable": true,
    "slideshow": {
     "slide_type": ""
    },
    "tags": [
     "hide-input"
    ]
   },
   "outputs": [
    {
     "data": {
      "image/png": "[encoded data removed]",
      "text/plain": [
       "<Figure size 640x480 with 1 Axes>"
      ]
     },
     "metadata": {},
     "output_type": "display_data"
    }
   ],
   "source": [
    "a3,b3,c3 = params['a_inep'].iloc[2],params['b_inep'].iloc[2],0 # os parâmetros do terceiro item\n",
    "a4,b4,c4 = params['a_inep'].iloc[3],params['b_inep'].iloc[3],0 # os parâmetros do quarto item\n",
    "\n",
    "ax = sns.lineplot(x=theta,y=(1-P(theta,a1,b1,c1))*P(theta,a2,b2,c2)*P(theta,a3,b3,c3)*(1-P(theta,a4,b4,c4)), label=f\"$(1-P_{1})*P_2*P_3*(1-P_4)$\");\n",
    "ax.set_xlabel(r\"$\\theta$\");ax.set_ylabel(r\"$\\mathrm{prob}(x_1=0,x_2=1,x_3=1,x_4=0|\\theta$)\");"
   ]
  },
  {
   "cell_type": "markdown",
   "id": "aea954ed-b138-4657-9987-5c7307cabc5a",
   "metadata": {},
   "source": [
    "Vemos que na medida que temos mais informação (respostas aos itens), podemos estimar a habilidade $\\theta$ para qual a probabilidade de obter esta padrão é máxima fica cada vez mais estreita, correspondendo a uma incerteza na estimativa menor. "
   ]
  },
  {
   "cell_type": "markdown",
   "id": "c1873eb6-9d44-4e31-b479-5309898bbad7",
   "metadata": {},
   "source": [
    "Finalmente, veja um vídeo com uma animação como a probabilidade do padrão de acerto evolua analisamos os acertos e erros um por um de alguém que em total acertou 30 dos 45 questões. O ponto principal a observar é que mesmo após 45 questões, a largura do pico de probabilidade é considerável. Não podemos distinguir a habilidade com a de um outro candidato com um padrão de resposta levando a uma uma habilidade próxima suficiente (no caso do vídeo, da ordem de 0.2 desvios padrão, ou 20 pontos na escala ENEM). Isto é uma consequência inerente e inevitável da limitação ao número de questões que podemos usar num único exame.\n",
    "\n",
    "<video src=\"_static/tri30.mp4\" controls autoplay loop=\"false\" width=\"800\"></video>"
   ]
  },
  {
   "cell_type": "markdown",
   "id": "ef01406b-0a91-4f48-aea3-8520ad0f9ccb",
   "metadata": {
    "editable": true,
    "slideshow": {
     "slide_type": ""
    },
    "tags": []
   },
   "source": [
    "## Estimar $\\theta$ por métodos Bayesianos\n",
    "Uma das desvantagens do método de inferência ML explicado acima é que para candidatos com muito poucos ou muitos acertos as estimativas de $\\theta$ ficam instáveis. O ENEM usa um método de estimação da nota chamado \"Expected a Posteriori\" (EAP), que usa o teorema de Bayes para inverter o modelo para a probabilidade das padrões e a habilidade $\\theta$:\n",
    "\n",
    "$$ \\text{prob}(\\theta|\\vec{x}) = \\frac{\\text{prob}(\\vec{x}|\\theta)\\text{prob}(\\theta)}{\\text{prob}{(\\vec{x})}} $$"
   ]
  },
  {
   "cell_type": "markdown",
   "id": "dcde1a82-2830-477e-ab84-2380002b2fee",
   "metadata": {},
   "source": [
    "Na prática, o termo $\\text{prob}{(\\vec{x})}$ é só um fator de normalização para que o posterior $\\text{prob}(\\theta|\\vec{x})$ é uma probabilidade. O que importa na expressão acima é a multiplicação pelo \"prior\" $\\text{prob}(\\theta)$, uma premissa sobre como as habilidades são distribuídas na população. Multiplicando o prior com a modelo $\\text{prob}(\\vec{x}|\\theta)$ resulta no posterior que pode ser interpretado como a distribuição da probabilidade de um certo $\\theta$, dado a evidência: o padrão de respostas $\\vec{x}$.\n",
    "\n",
    "Tendo o posterior para $\\theta$, podemos resumir o resultado de várias formas. A estimativa EAP é o valor esperado do $\\theta$\n",
    "\n",
    "$$ \\theta_{\\text{EAP}} = \\int \\theta \\text{prob}(\\theta|\\vec{x}) d\\theta $$\n",
    "\n",
    "e uma estimativa para sua incerteza é o desvio padrão do posterior. \n",
    "\n",
    "No cálculo da nota do ENEM o prior é uma normal com desvio padrão 1. Calcular o posterior é surpreendemente simples na prática. É somente usar o cálculo da verossimilhança que fizeram acima, multiplacado pela função gaussiana $N(0,1)$. O resultado não é normalizado (não é uma probabilidade), mas para fins de cálculo do valor esperado podemos simplesmente usar a posterior não-normalizada como peso."
   ]
  },
  {
   "cell_type": "markdown",
   "id": "48fdebb7-f35a-424c-b66a-06dede1bfea0",
   "metadata": {},
   "source": [
    "Vamos usar um determinado padrão de respostas e tentar reproduzir a nota que o INEP forneceu, com os parâmetros das questões, também fornecidos pelo INEP. "
   ]
  },
  {
   "cell_type": "code",
   "execution_count": 13,
   "id": "61ab14f1-9486-4164-a876-8fe572025ed8",
   "metadata": {
    "editable": true,
    "slideshow": {
     "slide_type": ""
    },
    "tags": [
     "hide-input"
    ]
   },
   "outputs": [],
   "source": [
    "def displaypadr(df):\n",
    "    info = df.iloc[:,-3:]\n",
    "    df = df.iloc[:,:-3]\n",
    "    checkmap = {1: '✔',0: '✖'}  \n",
    "    df = df.map(lambda x: checkmap[x])\n",
    "    if len(df) == 1:\n",
    "        return \"\".join(list(df.values[0])) + f\"\\n acertos {info.iloc[0,0]}, nota inep {info.iloc[0,2]}\"\n",
    "    return df\n"
   ]
  },
  {
   "cell_type": "code",
   "execution_count": 14,
   "id": "34f4d827-e23a-4baa-9733-99a71f3715bf",
   "metadata": {
    "editable": true,
    "slideshow": {
     "slide_type": ""
    },
    "tags": [
     "hide-input"
    ]
   },
   "outputs": [
    {
     "name": "stdout",
     "output_type": "stream",
     "text": [
      "Um candidato de 2023, MT:\n",
      " ✖✖✖✔✖✖✔✔✖✖✖✖✖✖✖✔✖✖✖✖✔✖✖✔✖✔✖✔✖✖✖✖✖✖✖✖✖✖✔✖✖✔✖\n",
      " acertos 10, nota inep 435.3 \n",
      "\n",
      "Os primeiros cinco parâmetros das questões:\n"
     ]
    },
    {
     "data": {
      "text/html": [
       "<div>\n",
       "<style scoped>\n",
       "    .dataframe tbody tr th:only-of-type {\n",
       "        vertical-align: middle;\n",
       "    }\n",
       "\n",
       "    .dataframe tbody tr th {\n",
       "        vertical-align: top;\n",
       "    }\n",
       "\n",
       "    .dataframe thead th {\n",
       "        text-align: right;\n",
       "    }\n",
       "</style>\n",
       "<table border=\"1\" class=\"dataframe\">\n",
       "  <thead>\n",
       "    <tr style=\"text-align: right;\">\n",
       "      <th></th>\n",
       "      <th>a_inep</th>\n",
       "      <th>b_inep</th>\n",
       "      <th>c_inep</th>\n",
       "      <th>u</th>\n",
       "    </tr>\n",
       "    <tr>\n",
       "      <th>CO_ITEM</th>\n",
       "      <th></th>\n",
       "      <th></th>\n",
       "      <th></th>\n",
       "      <th></th>\n",
       "    </tr>\n",
       "  </thead>\n",
       "  <tbody>\n",
       "    <tr>\n",
       "      <th>81742</th>\n",
       "      <td>1.63418</td>\n",
       "      <td>1.34475</td>\n",
       "      <td>0.13956</td>\n",
       "      <td>1</td>\n",
       "    </tr>\n",
       "    <tr>\n",
       "      <th>28932</th>\n",
       "      <td>2.39434</td>\n",
       "      <td>1.98395</td>\n",
       "      <td>0.11508</td>\n",
       "      <td>1</td>\n",
       "    </tr>\n",
       "    <tr>\n",
       "      <th>37441</th>\n",
       "      <td>3.01304</td>\n",
       "      <td>2.67185</td>\n",
       "      <td>0.08455</td>\n",
       "      <td>1</td>\n",
       "    </tr>\n",
       "    <tr>\n",
       "      <th>86783</th>\n",
       "      <td>3.58609</td>\n",
       "      <td>3.00088</td>\n",
       "      <td>0.19242</td>\n",
       "      <td>1</td>\n",
       "    </tr>\n",
       "    <tr>\n",
       "      <th>14410</th>\n",
       "      <td>2.38237</td>\n",
       "      <td>1.88674</td>\n",
       "      <td>0.10321</td>\n",
       "      <td>1</td>\n",
       "    </tr>\n",
       "  </tbody>\n",
       "</table>\n",
       "</div>"
      ],
      "text/plain": [
       "          a_inep   b_inep   c_inep  u\n",
       "CO_ITEM                              \n",
       "81742    1.63418  1.34475  0.13956  1\n",
       "28932    2.39434  1.98395  0.11508  1\n",
       "37441    3.01304  2.67185  0.08455  1\n",
       "86783    3.58609  3.00088  0.19242  1\n",
       "14410    2.38237  1.88674  0.10321  1"
      ]
     },
     "execution_count": 14,
     "metadata": {},
     "output_type": "execute_result"
    }
   ],
   "source": [
    "ano = 2023\n",
    "area = 'MT'\n",
    "padr = load_acertos(ano,area,1)\n",
    "print(f\"Um candidato de {ano}, {area}:\\n\",displaypadr(padr),'\\n')\n",
    "params = params_inep(ano,area) # os parâmetros TRI fornecidos pelo INEP\n",
    "print(\"Os primeiros cinco parâmetros das questões:\")\n",
    "params[:5]"
   ]
  },
  {
   "cell_type": "markdown",
   "id": "9417ba4f-c5f2-4f50-a4bc-ee4fc919e72b",
   "metadata": {},
   "source": [
    "A conta para reproduzir a nota a partir destas informações não é complexo. Abre a célula abaixo se quiser ver os detalhes. Calculamos o array `lh`(\"likelihood\"), de $\\theta = $ -3 até 3, multiplando 45 vezes pelo $P_i(a_i,b_i,c_i;\\theta)$ ou $1-P_i(a_i,b_i,c_i;\\theta)$, conforme se o candidato acertou ou errou, respectivamente. Depois de ter a curva `lh`, a nota é simplesmente o valor onde este é um máximo (`lh.argmax()`). Se usar o método EAP (Bayesiano), multiplica pelo a priori, uma curva normal no nosso caso, e calculo o valor esperado de $\\theta$. Nenhum bixo de sete cabeças, abrimos a caixa opaca da nota ENEM calculado pelo TRI!"
   ]
  },
  {
   "cell_type": "code",
   "execution_count": 26,
   "id": "e339e07c-0641-488e-a20a-8baf0f6e1816",
   "metadata": {
    "editable": true,
    "slideshow": {
     "slide_type": ""
    },
    "tags": [
     "hide-input"
    ]
   },
   "outputs": [
    {
     "data": {
      "image/png": "[encoded data removed]",
      "text/plain": [
       "<Figure size 1600x600 with 2 Axes>"
      ]
     },
     "metadata": {},
     "output_type": "display_data"
    }
   ],
   "source": [
    "params = params.join(padr.reset_index().T).rename(columns={0:'acertou'})\n",
    "theta = np.arange(-3,3,0.01)\n",
    "\n",
    "def P(theta,a=1,b=0,c=0):\n",
    "    'O modelo 3PL'\n",
    "    return c + (1-c)*1/(1+np.exp(a*(b-theta)))\n",
    "\n",
    "\n",
    "lh = np.ones(len(theta))\n",
    "for item,value in params.iterrows():    \n",
    "    acertou = int(value.iloc[-1])\n",
    "    if acertou:\n",
    "        lh = lh*P(theta,a=value['a_inep'],b=value['b_inep'],c=value['c_inep'])\n",
    "    else:\n",
    "        lh = lh*(1-P(theta,a=value['a_inep'],b=value['b_inep'],c=value['c_inep']))\n",
    "\n",
    "    nota_ml = (-3+lh.argmax()*0.01)\n",
    "    posterior = lh*norm.pdf(theta)\n",
    "    nota_eap = np.average(theta, weights=posterior)\n",
    "\n",
    "\n",
    "\n",
    "with sns.axes_style(\"whitegrid\"):\n",
    "        fig,axs = plt.subplots(1,2,sharex=True,figsize = (16,6))\n",
    "        ax1 = axs[0]; ax2 = axs[1]\n",
    "        sns.lineplot(x=theta,y=lh,ax=ax1);\n",
    "        ax1.set_xlabel(r\"$\\theta$\");ax.set_ylabel(r\"$\\mathrm{prob}(\\vec{x_i}|\\theta)$\");\n",
    "        ax1.set_title(f\"Máxima verossimilhança: nota = {nota_ml:.2f} ({notas_to_enem_scale(nota_ml,area):.1f})\");\n",
    "        ax1.grid(axis='y')\n",
    "        sns.lineplot(x=theta,y=posterior,ax=ax2);\n",
    "        ax2.set_xlabel(r\"$\\theta$\");ax.set_ylabel(r\"Posterior\");\n",
    "        ax2.set_title(f\"Expected a Posteriori: nota = {nota_eap:.2f} ({notas_to_enem_scale(nota_eap,area):.1f})\");\n",
    "        ax2.grid(axis='y')\n"
   ]
  },
  {
   "cell_type": "markdown",
   "id": "18eaec63-570f-4782-a6a5-7f3af93ccd13",
   "metadata": {},
   "source": [
    "Vemos que o método EAP \"encolhe\" as notas um pouco para a média (0 na escala TRI, 500 na escala ENEM). Este efeito é maior para notas altas (acima de 2 desvios padrão ou 700) e notas baixas. "
   ]
  },
  {
   "cell_type": "markdown",
   "id": "82dc0531-a587-40ea-8d3b-b576326455de",
   "metadata": {},
   "source": [
    "## Curiosidades\n",
    "Agora que sabemos calcular notas ENEM a partir de qualquer padrão de respostas, podemos responder algumas perguntas. \n",
    "\n",
    "### Notas máximas e mínimas\n",
    "Por exemplo, o que seria a nota máxima ou mínima possível? É fácil de ver que se usar o método de máxima verossimilhança (gráfica da esquerda acima), não vamos conseguir uma estimativa para padrões $\\{0,0,0\\ldots\\}$ (errou tudo) ou $\\{1,1,1\\ldots\\}$ (acertou tudo). A razão é que uma multiplicação (45 vezes) de uma curva $P(\\theta)$ do tipo que temos usado, só vai ter um máximo ou mínimo em $\\theta = \\pm \\infty$. \n",
    "\n",
    "Mas para o método EAP, multiplicamos estas curvas pela Gaussiana $\\N(0,1)$ e isso vai levar a um $\\theta_\\text{EAP}$ finito, que vai depender dos parâmetros $a_i,b_i,c_i$, que são diferentes para cada ano e area. Vamos calcular as notas máximas e mínimas:"
   ]
  },
  {
   "cell_type": "code",
   "execution_count": 53,
   "id": "1334fd4a-972f-4365-bc72-f1e2f78cd263",
   "metadata": {
    "editable": true,
    "slideshow": {
     "slide_type": ""
    },
    "tags": [
     "hide-input"
    ]
   },
   "outputs": [
    {
     "data": {
      "text/html": [
       "<div>\n",
       "<style scoped>\n",
       "    .dataframe tbody tr th:only-of-type {\n",
       "        vertical-align: middle;\n",
       "    }\n",
       "\n",
       "    .dataframe tbody tr th {\n",
       "        vertical-align: top;\n",
       "    }\n",
       "\n",
       "    .dataframe thead th {\n",
       "        text-align: right;\n",
       "    }\n",
       "</style>\n",
       "<table border=\"1\" class=\"dataframe\">\n",
       "  <thead>\n",
       "    <tr style=\"text-align: right;\">\n",
       "      <th></th>\n",
       "      <th>ano</th>\n",
       "      <th>area</th>\n",
       "      <th>notamax</th>\n",
       "      <th>notamin</th>\n",
       "    </tr>\n",
       "  </thead>\n",
       "  <tbody>\n",
       "    <tr>\n",
       "      <th>0</th>\n",
       "      <td>2009</td>\n",
       "      <td>MT</td>\n",
       "      <td>1016.761411</td>\n",
       "      <td>345.818891</td>\n",
       "    </tr>\n",
       "    <tr>\n",
       "      <th>1</th>\n",
       "      <td>2009</td>\n",
       "      <td>CN</td>\n",
       "      <td>922.204722</td>\n",
       "      <td>262.845780</td>\n",
       "    </tr>\n",
       "    <tr>\n",
       "      <th>2</th>\n",
       "      <td>2009</td>\n",
       "      <td>CH</td>\n",
       "      <td>901.327787</td>\n",
       "      <td>299.842564</td>\n",
       "    </tr>\n",
       "    <tr>\n",
       "      <th>3</th>\n",
       "      <td>2010</td>\n",
       "      <td>MT</td>\n",
       "      <td>998.916715</td>\n",
       "      <td>313.346480</td>\n",
       "    </tr>\n",
       "    <tr>\n",
       "      <th>4</th>\n",
       "      <td>2010</td>\n",
       "      <td>CN</td>\n",
       "      <td>848.549583</td>\n",
       "      <td>297.149151</td>\n",
       "    </tr>\n",
       "    <tr>\n",
       "      <th>5</th>\n",
       "      <td>2010</td>\n",
       "      <td>CH</td>\n",
       "      <td>894.924351</td>\n",
       "      <td>297.597095</td>\n",
       "    </tr>\n",
       "    <tr>\n",
       "      <th>6</th>\n",
       "      <td>2011</td>\n",
       "      <td>MT</td>\n",
       "      <td>964.295942</td>\n",
       "      <td>321.480177</td>\n",
       "    </tr>\n",
       "    <tr>\n",
       "      <th>7</th>\n",
       "      <td>2011</td>\n",
       "      <td>CN</td>\n",
       "      <td>875.761136</td>\n",
       "      <td>268.655945</td>\n",
       "    </tr>\n",
       "    <tr>\n",
       "      <th>8</th>\n",
       "      <td>2011</td>\n",
       "      <td>CH</td>\n",
       "      <td>794.110416</td>\n",
       "      <td>252.429531</td>\n",
       "    </tr>\n",
       "    <tr>\n",
       "      <th>9</th>\n",
       "      <td>2012</td>\n",
       "      <td>MT</td>\n",
       "      <td>970.541001</td>\n",
       "      <td>277.010799</td>\n",
       "    </tr>\n",
       "    <tr>\n",
       "      <th>10</th>\n",
       "      <td>2012</td>\n",
       "      <td>CN</td>\n",
       "      <td>869.963005</td>\n",
       "      <td>319.178839</td>\n",
       "    </tr>\n",
       "    <tr>\n",
       "      <th>11</th>\n",
       "      <td>2012</td>\n",
       "      <td>CH</td>\n",
       "      <td>884.293994</td>\n",
       "      <td>302.454736</td>\n",
       "    </tr>\n",
       "    <tr>\n",
       "      <th>12</th>\n",
       "      <td>2013</td>\n",
       "      <td>MT</td>\n",
       "      <td>995.059685</td>\n",
       "      <td>326.746201</td>\n",
       "    </tr>\n",
       "    <tr>\n",
       "      <th>13</th>\n",
       "      <td>2013</td>\n",
       "      <td>CN</td>\n",
       "      <td>923.309502</td>\n",
       "      <td>334.008898</td>\n",
       "    </tr>\n",
       "    <tr>\n",
       "      <th>14</th>\n",
       "      <td>2013</td>\n",
       "      <td>CH</td>\n",
       "      <td>907.339133</td>\n",
       "      <td>299.309006</td>\n",
       "    </tr>\n",
       "    <tr>\n",
       "      <th>15</th>\n",
       "      <td>2014</td>\n",
       "      <td>MT</td>\n",
       "      <td>1001.208075</td>\n",
       "      <td>318.445032</td>\n",
       "    </tr>\n",
       "    <tr>\n",
       "      <th>16</th>\n",
       "      <td>2014</td>\n",
       "      <td>CN</td>\n",
       "      <td>882.968913</td>\n",
       "      <td>341.875013</td>\n",
       "    </tr>\n",
       "    <tr>\n",
       "      <th>17</th>\n",
       "      <td>2014</td>\n",
       "      <td>CH</td>\n",
       "      <td>867.882627</td>\n",
       "      <td>330.090411</td>\n",
       "    </tr>\n",
       "    <tr>\n",
       "      <th>18</th>\n",
       "      <td>2015</td>\n",
       "      <td>MT</td>\n",
       "      <td>1095.125447</td>\n",
       "      <td>311.510013</td>\n",
       "    </tr>\n",
       "    <tr>\n",
       "      <th>19</th>\n",
       "      <td>2015</td>\n",
       "      <td>CN</td>\n",
       "      <td>882.714238</td>\n",
       "      <td>336.414462</td>\n",
       "    </tr>\n",
       "    <tr>\n",
       "      <th>20</th>\n",
       "      <td>2015</td>\n",
       "      <td>CH</td>\n",
       "      <td>853.986093</td>\n",
       "      <td>341.111533</td>\n",
       "    </tr>\n",
       "    <tr>\n",
       "      <th>21</th>\n",
       "      <td>2016</td>\n",
       "      <td>MT</td>\n",
       "      <td>1040.605028</td>\n",
       "      <td>331.194058</td>\n",
       "    </tr>\n",
       "    <tr>\n",
       "      <th>22</th>\n",
       "      <td>2016</td>\n",
       "      <td>CN</td>\n",
       "      <td>876.237390</td>\n",
       "      <td>361.142055</td>\n",
       "    </tr>\n",
       "    <tr>\n",
       "      <th>23</th>\n",
       "      <td>2016</td>\n",
       "      <td>CH</td>\n",
       "      <td>865.465649</td>\n",
       "      <td>319.817032</td>\n",
       "    </tr>\n",
       "    <tr>\n",
       "      <th>24</th>\n",
       "      <td>2017</td>\n",
       "      <td>MT</td>\n",
       "      <td>1047.254980</td>\n",
       "      <td>349.097776</td>\n",
       "    </tr>\n",
       "    <tr>\n",
       "      <th>25</th>\n",
       "      <td>2017</td>\n",
       "      <td>CN</td>\n",
       "      <td>894.671131</td>\n",
       "      <td>374.945702</td>\n",
       "    </tr>\n",
       "    <tr>\n",
       "      <th>26</th>\n",
       "      <td>2017</td>\n",
       "      <td>CH</td>\n",
       "      <td>876.839541</td>\n",
       "      <td>331.781623</td>\n",
       "    </tr>\n",
       "    <tr>\n",
       "      <th>27</th>\n",
       "      <td>2018</td>\n",
       "      <td>MT</td>\n",
       "      <td>1050.545159</td>\n",
       "      <td>369.318729</td>\n",
       "    </tr>\n",
       "    <tr>\n",
       "      <th>28</th>\n",
       "      <td>2018</td>\n",
       "      <td>CN</td>\n",
       "      <td>876.099578</td>\n",
       "      <td>362.115955</td>\n",
       "    </tr>\n",
       "    <tr>\n",
       "      <th>29</th>\n",
       "      <td>2018</td>\n",
       "      <td>CH</td>\n",
       "      <td>853.733614</td>\n",
       "      <td>394.452590</td>\n",
       "    </tr>\n",
       "    <tr>\n",
       "      <th>30</th>\n",
       "      <td>2019</td>\n",
       "      <td>MT</td>\n",
       "      <td>1009.610283</td>\n",
       "      <td>358.818257</td>\n",
       "    </tr>\n",
       "    <tr>\n",
       "      <th>31</th>\n",
       "      <td>2019</td>\n",
       "      <td>CN</td>\n",
       "      <td>866.609674</td>\n",
       "      <td>327.755286</td>\n",
       "    </tr>\n",
       "    <tr>\n",
       "      <th>32</th>\n",
       "      <td>2019</td>\n",
       "      <td>CH</td>\n",
       "      <td>837.714870</td>\n",
       "      <td>315.774476</td>\n",
       "    </tr>\n",
       "    <tr>\n",
       "      <th>33</th>\n",
       "      <td>2020</td>\n",
       "      <td>MT</td>\n",
       "      <td>995.065465</td>\n",
       "      <td>326.976060</td>\n",
       "    </tr>\n",
       "    <tr>\n",
       "      <th>34</th>\n",
       "      <td>2020</td>\n",
       "      <td>CN</td>\n",
       "      <td>864.530783</td>\n",
       "      <td>332.537772</td>\n",
       "    </tr>\n",
       "    <tr>\n",
       "      <th>35</th>\n",
       "      <td>2020</td>\n",
       "      <td>CH</td>\n",
       "      <td>868.646012</td>\n",
       "      <td>328.287146</td>\n",
       "    </tr>\n",
       "    <tr>\n",
       "      <th>36</th>\n",
       "      <td>2021</td>\n",
       "      <td>MT</td>\n",
       "      <td>966.255031</td>\n",
       "      <td>353.788416</td>\n",
       "    </tr>\n",
       "    <tr>\n",
       "      <th>37</th>\n",
       "      <td>2021</td>\n",
       "      <td>CN</td>\n",
       "      <td>873.558846</td>\n",
       "      <td>339.644722</td>\n",
       "    </tr>\n",
       "    <tr>\n",
       "      <th>38</th>\n",
       "      <td>2021</td>\n",
       "      <td>CH</td>\n",
       "      <td>850.506098</td>\n",
       "      <td>328.792706</td>\n",
       "    </tr>\n",
       "    <tr>\n",
       "      <th>39</th>\n",
       "      <td>2022</td>\n",
       "      <td>MT</td>\n",
       "      <td>1025.001122</td>\n",
       "      <td>336.741927</td>\n",
       "    </tr>\n",
       "    <tr>\n",
       "      <th>40</th>\n",
       "      <td>2022</td>\n",
       "      <td>CN</td>\n",
       "      <td>883.047218</td>\n",
       "      <td>360.510753</td>\n",
       "    </tr>\n",
       "    <tr>\n",
       "      <th>41</th>\n",
       "      <td>2022</td>\n",
       "      <td>CH</td>\n",
       "      <td>842.829733</td>\n",
       "      <td>304.920054</td>\n",
       "    </tr>\n",
       "    <tr>\n",
       "      <th>42</th>\n",
       "      <td>2023</td>\n",
       "      <td>MT</td>\n",
       "      <td>970.854947</td>\n",
       "      <td>328.107295</td>\n",
       "    </tr>\n",
       "    <tr>\n",
       "      <th>43</th>\n",
       "      <td>2023</td>\n",
       "      <td>CN</td>\n",
       "      <td>873.290164</td>\n",
       "      <td>323.231423</td>\n",
       "    </tr>\n",
       "    <tr>\n",
       "      <th>44</th>\n",
       "      <td>2023</td>\n",
       "      <td>CH</td>\n",
       "      <td>825.632931</td>\n",
       "      <td>293.363495</td>\n",
       "    </tr>\n",
       "  </tbody>\n",
       "</table>\n",
       "</div>"
      ],
      "text/plain": [
       "     ano area      notamax     notamin\n",
       "0   2009   MT  1016.761411  345.818891\n",
       "1   2009   CN   922.204722  262.845780\n",
       "2   2009   CH   901.327787  299.842564\n",
       "3   2010   MT   998.916715  313.346480\n",
       "4   2010   CN   848.549583  297.149151\n",
       "5   2010   CH   894.924351  297.597095\n",
       "6   2011   MT   964.295942  321.480177\n",
       "7   2011   CN   875.761136  268.655945\n",
       "8   2011   CH   794.110416  252.429531\n",
       "9   2012   MT   970.541001  277.010799\n",
       "10  2012   CN   869.963005  319.178839\n",
       "11  2012   CH   884.293994  302.454736\n",
       "12  2013   MT   995.059685  326.746201\n",
       "13  2013   CN   923.309502  334.008898\n",
       "14  2013   CH   907.339133  299.309006\n",
       "15  2014   MT  1001.208075  318.445032\n",
       "16  2014   CN   882.968913  341.875013\n",
       "17  2014   CH   867.882627  330.090411\n",
       "18  2015   MT  1095.125447  311.510013\n",
       "19  2015   CN   882.714238  336.414462\n",
       "20  2015   CH   853.986093  341.111533\n",
       "21  2016   MT  1040.605028  331.194058\n",
       "22  2016   CN   876.237390  361.142055\n",
       "23  2016   CH   865.465649  319.817032\n",
       "24  2017   MT  1047.254980  349.097776\n",
       "25  2017   CN   894.671131  374.945702\n",
       "26  2017   CH   876.839541  331.781623\n",
       "27  2018   MT  1050.545159  369.318729\n",
       "28  2018   CN   876.099578  362.115955\n",
       "29  2018   CH   853.733614  394.452590\n",
       "30  2019   MT  1009.610283  358.818257\n",
       "31  2019   CN   866.609674  327.755286\n",
       "32  2019   CH   837.714870  315.774476\n",
       "33  2020   MT   995.065465  326.976060\n",
       "34  2020   CN   864.530783  332.537772\n",
       "35  2020   CH   868.646012  328.287146\n",
       "36  2021   MT   966.255031  353.788416\n",
       "37  2021   CN   873.558846  339.644722\n",
       "38  2021   CH   850.506098  328.792706\n",
       "39  2022   MT  1025.001122  336.741927\n",
       "40  2022   CN   883.047218  360.510753\n",
       "41  2022   CH   842.829733  304.920054\n",
       "42  2023   MT   970.854947  328.107295\n",
       "43  2023   CN   873.290164  323.231423\n",
       "44  2023   CH   825.632931  293.363495"
      ]
     },
     "execution_count": 53,
     "metadata": {},
     "output_type": "execute_result"
    }
   ],
   "source": [
    "l=[]\n",
    "for ano in range(2009,2024):\n",
    "    for area in ['MT','CN','CH']:\n",
    "        itens = params_inep(ano,area).index\n",
    "        padrmin = pd.DataFrame(np.zeros((1,len(itens))),columns = itens,index=[0])\n",
    "        padrmax = pd.DataFrame(np.ones((1,len(itens))),columns = itens,index=[0])\n",
    "        notamax = score_inep(padrmax,ano,area,enemscale=True).iloc[0,0]\n",
    "        notamin = score_inep(padrmin,ano,area,enemscale=True).iloc[0,0]\n",
    "        l.append([ano,area,notamax,notamin])\n",
    "df = pd.DataFrame(l,columns = ['ano','area','notamax','notamin'])\n",
    "df"
   ]
  },
  {
   "cell_type": "markdown",
   "id": "22f09bc4-413a-4cfe-ab2e-cef666b3db76",
   "metadata": {
    "editable": true,
    "slideshow": {
     "slide_type": ""
    },
    "tags": []
   },
   "source": [
    "### Respostas aleatórias\n",
    "Finalmente, mostramos a distribuição das notas para candidatos que respondem aleatoriamente. O histograma na esquerda simula o que acontece para escolhas aleatórias mesmo (há 5 alternativas nas provas do ENEM). O histograma da direita mostra o resultado para candidatos que para cada questão conseguem eliminar 3 alternativas erradas e escolhem ao acaso entre as duas outras alternativas. \n",
    "\n",
    "(Há uma grande chance que alguns destes últimos candidatos seriam admitidos em cursos bastante seletivos, com notas de corte maior que 700 pontos) "
   ]
  },
  {
   "cell_type": "code",
   "execution_count": 62,
   "id": "e8da8a30-9829-45d4-8ed2-18c03f80e0c9",
   "metadata": {
    "editable": true,
    "slideshow": {
     "slide_type": ""
    },
    "tags": [
     "hide-input"
    ]
   },
   "outputs": [
    {
     "data": {
      "text/plain": [
       "Text(0.5, 0.01, 'Nota (escala ENEM')"
      ]
     },
     "execution_count": 62,
     "metadata": {},
     "output_type": "execute_result"
    },
    {
     "data": {
      "image/png": "[encoded data removed]",
      "text/plain": [
       "<Figure size 1600x600 with 2 Axes>"
      ]
     },
     "metadata": {},
     "output_type": "display_data"
    }
   ],
   "source": [
    "def padr_random(prova,p=0.2,N=1):\n",
    "    itens = item_info_inep(prova=prova).query(\"IN_ITEM_ABAN == 0\")['CO_ITEM']\n",
    "    cols = itens.astype(int).sort_values().values\n",
    "    padr = np.random.default_rng().random(size=(N,len(itens))) < p\n",
    "    #padr = np.random.randint(0,2,size=(N,len(itens)))\n",
    "    df = pd.DataFrame(padr,columns = cols)\n",
    "    return df.astype(int)\n",
    "    \n",
    "fig,axs = plt.subplots(1,2,sharex=True,figsize = (16,6))\n",
    "ax1 = axs[0]; ax2 = axs[1]\n",
    "padr = padr_random(1075,.2,5000)\n",
    "scores = score_inep(padr,2022,'MT',enemscale=True)\n",
    "sns.histplot(scores,x='nota',ax=ax1,label='Probabilidade de acerto 0.2')\n",
    "ax1.legend()\n",
    "padr = padr_random(1075,.5,5000)\n",
    "scores = score_inep(padr,2022,'MT',enemscale=True)\n",
    "sns.histplot(scores,x='nota',ax=ax2,label='Probabilidade de acerto 0.5')\n",
    "ax1.set_ylabel(\"\")\n",
    "ax1.set_yticks([])\n",
    "ax1.legend()\n",
    "fig.supxlabel(\"Nota (escala ENEM\");"
   ]
  },
  {
   "cell_type": "code",
   "execution_count": null,
   "id": "9c752ac9-9237-414d-8a0a-3b45778a00e4",
   "metadata": {},
   "outputs": [],
   "source": []
  }
 ],
 "metadata": {
  "kernelspec": {
   "display_name": "Python 3 (ipykernel)",
   "language": "python",
   "name": "python3"
  },
  "language_info": {
   "codemirror_mode": {
    "name": "ipython",
    "version": 3
   },
   "file_extension": ".py",
   "mimetype": "text/x-python",
   "name": "python",
   "nbconvert_exporter": "python",
   "pygments_lexer": "ipython3",
   "version": "3.11.2"
  }
 },
 "nbformat": 4,
 "nbformat_minor": 5
}
