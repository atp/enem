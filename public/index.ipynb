{
 "cells": [
  {
   "cell_type": "markdown",
   "id": "04d696ba-9a1f-4379-bff1-bfb2ce690f95",
   "metadata": {},
   "source": [
    "# ENEM: notas e incertezas\n",
    "Uma coleção de *notebooks* interativos para explorar as propriedades do ENEM e o algorítmo usado para calcular as notas: TRI"
   ]
  },
  {
   "cell_type": "markdown",
   "id": "daf6a916-677e-40b0-b549-af4d0bd2037b",
   "metadata": {},
   "source": [
    "## Análise dos itens\n",
    "Neste notebook mostramos as características dos itens (questões) do ENEM, para todas edições de 2009 até 2022\n",
    "[Test](../enem_atp/An%C3%A1lise%20dos%20Itens.ipynb)"
   ]
  },
  {
   "cell_type": "code",
   "execution_count": null,
   "id": "92f57135-2725-43bb-a09e-099e1df65f77",
   "metadata": {},
   "outputs": [],
   "source": []
  }
 ],
 "metadata": {
  "kernelspec": {
   "display_name": "Python 3 (ipykernel)",
   "language": "python",
   "name": "python3"
  },
  "language_info": {
   "codemirror_mode": {
    "name": "ipython",
    "version": 3
   },
   "file_extension": ".py",
   "mimetype": "text/x-python",
   "name": "python",
   "nbconvert_exporter": "python",
   "pygments_lexer": "ipython3",
   "version": "3.9.15"
  }
 },
 "nbformat": 4,
 "nbformat_minor": 5
}
