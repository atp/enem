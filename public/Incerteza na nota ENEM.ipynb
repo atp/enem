{
 "cells": [
  {
   "cell_type": "code",
   "execution_count": 1,
   "id": "340b0539-870e-43fc-99ab-c74778d2d5d9",
   "metadata": {},
   "outputs": [],
   "source": [
    "import numpy as np\n",
    "import pandas as pd\n",
    "import seaborn as sns\n",
    "import matplotlib.pyplot as plt\n",
    "import ipywidgets as widgets\n",
    "from ipywidgets import interact, interactive, fixed, interact_manual\n",
    "\n",
    "import sys, random\n",
    "\n",
    "%load_ext autoreload\n",
    "%autoreload 2\n",
    "\n",
    "sys.path.append('..')\n",
    "from util import provas,load_padr,score_inep"
   ]
  },
  {
   "cell_type": "code",
   "execution_count": 8,
   "id": "f1a000f2-a292-4dab-b4d1-bc65ba1b87ed",
   "metadata": {},
   "outputs": [],
   "source": [
    "def random_candidate(ano,area):\n",
    "    'return a random candidate, their answers and their score given by INEP'\n",
    "\n",
    "    prova = random.choice(provas(ano,area))\n",
    "    padr, nota_inep = load_padr(prova,1,True)\n",
    "    nota = nota_inep['nota_inep'].iloc[0]\n",
    "    return padr, prova, nota\n",
    "\n",
    "padr, prova, nota_inep = random_candidate(2022,'MT')\n",
    "nota = score_inep(padr,prova,method='EAP',enemscale=True)\n",
    "\n",
    "#display(padr,prova,nota_inep,nota)"
   ]
  },
  {
   "cell_type": "code",
   "execution_count": 5,
   "id": "5e0f598e-3228-498c-a51f-8f586454d023",
   "metadata": {},
   "outputs": [],
   "source": [
    "def flip_item(padr,item):\n",
    "    padr2 = padr.copy()\n",
    "    padr2[item] = 1 - padr[item] # flip the answers of one item\n",
    "    return padr2\n"
   ]
  },
  {
   "cell_type": "code",
   "execution_count": 22,
   "id": "bacc644e-c8cb-4ebf-9c25-911db0fc755f",
   "metadata": {},
   "outputs": [
    {
     "data": {
      "application/vnd.jupyter.widget-view+json": {
       "model_id": "6b1596544a3c428083d818f9111ffbca",
       "version_major": 2,
       "version_minor": 0
      },
      "text/plain": [
       "Button(button_style='info', description='Atualizar candidato', icon='check', style=ButtonStyle(), tooltip='Atu…"
      ]
     },
     "metadata": {},
     "output_type": "display_data"
    },
    {
     "data": {
      "application/vnd.jupyter.widget-view+json": {
       "model_id": "81f07a71790d4cd18fcff77caf894768",
       "version_major": 2,
       "version_minor": 0
      },
      "text/plain": [
       "Output()"
      ]
     },
     "metadata": {},
     "output_type": "display_data"
    }
   ],
   "source": [
    "button = widgets.Button(\n",
    "    description='Atualizar candidato',\n",
    "    disabled=False,\n",
    "    button_style='info', # 'success', 'info', 'warning', 'danger' or ''\n",
    "    tooltip='Atualizar',\n",
    "    icon='check' # (FontAwesome names without the `fa-` prefix)\n",
    ")\n",
    "output = widgets.Output()\n",
    "\n",
    "ano = 2022\n",
    "area = 'CN'\n",
    "padr, prova, nota_inep = random_candidate(2022,'CN')\n",
    "\n",
    "\n",
    "display(button, output)\n",
    "button.on_click(novo_candidato)\n"
   ]
  },
  {
   "cell_type": "code",
   "execution_count": 25,
   "id": "df299198-a0c6-4b57-93f2-481470781f67",
   "metadata": {},
   "outputs": [
    {
     "data": {
      "application/vnd.jupyter.widget-view+json": {
       "model_id": "6561cde9fadf4444ad57b21134339149",
       "version_major": 2,
       "version_minor": 0
      },
      "text/plain": [
       "interactive(children=(Dropdown(description='Item do flip:', options=('', 18228, 28034, 28632, 31313, 31381, 37…"
      ]
     },
     "metadata": {},
     "output_type": "display_data"
    }
   ],
   "source": [
    "def notaenem(item_to_flip='',method='EAP'):\n",
    "    if item_to_flip:\n",
    "        padr1 = flip_item(padr,item_to_flip)\n",
    "    else:\n",
    "        padr1 = padr\n",
    "    display('Padrão de respostas original',padr)\n",
    "    display('Padrão de respostas flipped',padr1)\n",
    "    print('Prova: ',prova)\n",
    "    print(\"Nota do INEP\",nota_inep)\n",
    "    \n",
    "    nota = score_inep(padr,prova,method=method,enemscale=True)\n",
    "    nota1 = score_inep(padr1,prova,method=method,enemscale=True)\n",
    "    print('Nota calculado pelo ATP\\n',nota)\n",
    "    print('\\nNota com um item flipado\\n',nota1)\n",
    "\n",
    "    \n",
    "\n",
    "areawidg = widgets.Dropdown(\n",
    "    options=['CN','CH','MT'],\n",
    "    value='CN',\n",
    "    description='Area:',\n",
    ")\n",
    "anowidg = widgets.Dropdown(\n",
    "    options=range(2009,2023),\n",
    "    value=2022,\n",
    "    description='Ano:',\n",
    ")\n",
    "\n",
    "metwdg = widgets.Dropdown(\n",
    "    options=['EAP','MAP'],\n",
    "    value='EAP',\n",
    "    description='Método:'\n",
    ")\n",
    "\n",
    "cols = padr.columns\n",
    "cols = cols.insert(0,'')\n",
    "itemwidg = widgets.Dropdown(\n",
    "    options=cols,\n",
    "    value='',\n",
    "    description='Item do flip:',\n",
    ")\n",
    "\n",
    "def novo_candidato(b):\n",
    "    global padr, ano, area, prova, nota_inep\n",
    "    padr, prova, nota_inep = random_candidate(ano,area)\n",
    "    return\n",
    "\n",
    "\n",
    "interact(notaenem,ano=anowidg,area=areawidg,item_to_flip=itemwidg,method = metwdg);"
   ]
  },
  {
   "cell_type": "code",
   "execution_count": null,
   "id": "f13a1c98-8b91-49ec-a3ca-7b12895f85a3",
   "metadata": {},
   "outputs": [],
   "source": []
  }
 ],
 "metadata": {
  "kernelspec": {
   "display_name": "Python 3 (ipykernel)",
   "language": "python",
   "name": "python3"
  },
  "language_info": {
   "codemirror_mode": {
    "name": "ipython",
    "version": 3
   },
   "file_extension": ".py",
   "mimetype": "text/x-python",
   "name": "python",
   "nbconvert_exporter": "python",
   "pygments_lexer": "ipython3",
   "version": "3.9.15"
  }
 },
 "nbformat": 4,
 "nbformat_minor": 5
}
