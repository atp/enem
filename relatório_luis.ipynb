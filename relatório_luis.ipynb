{
 "cells": [
  {
   "cell_type": "markdown",
   "id": "b8a778aa-011d-4049-bec5-f58d9ace014f",
   "metadata": {},
   "source": [
    "# Relatório semestral Inicição científica\n"
   ]
  },
  {
   "cell_type": "markdown",
   "id": "49a9f90f-3ad3-4fa6-8bac-9738b40a9a66",
   "metadata": {},
   "source": [
    "## Identificação\n",
    "Código do projeto: 2023-430\n",
    "\n",
    "Período: 26/09/2023 a 25/09/2024\n",
    "\n",
    "Orientador: Prof. Dr. Ewout Ter Haar\n",
    "\n",
    "Aluno: Luis Felipe Betinassi Martins de Souza\n",
    "\n",
    "Projeto: Os limites e possibilidades de testes padronizadas em larga escala para fins de processos de seleção para o ensino superior\n"
   ]
  },
  {
   "cell_type": "code",
   "execution_count": null,
   "id": "9eadf7c1-ff33-4157-bd27-d8861e87d3f7",
   "metadata": {},
   "outputs": [],
   "source": [
    "##"
   ]
  }
 ],
 "metadata": {
  "kernelspec": {
   "display_name": "Python 3 (ipykernel)",
   "language": "python",
   "name": "python3"
  },
  "language_info": {
   "codemirror_mode": {
    "name": "ipython",
    "version": 3
   },
   "file_extension": ".py",
   "mimetype": "text/x-python",
   "name": "python",
   "nbconvert_exporter": "python",
   "pygments_lexer": "ipython3",
   "version": "3.9.15"
  }
 },
 "nbformat": 4,
 "nbformat_minor": 5
}
