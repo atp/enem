{
 "cells": [
  {
   "cell_type": "code",
   "execution_count": 5,
   "id": "30784f64-22e4-495a-ad37-ece66b166a16",
   "metadata": {},
   "outputs": [],
   "source": [
    "import pandas as pd\n",
    "import matplotlib as mpl\n",
    "import seaborn as sns\n",
    "import os\n",
    "import matplotlib.pyplot as plt"
   ]
  },
  {
   "cell_type": "code",
   "execution_count": 6,
   "id": "d43a1f72-c2e5-425f-9867-d05d02d68c41",
   "metadata": {},
   "outputs": [],
   "source": [
    "df_2009 = pd.read_csv(\"data/enem_1_2009.csv\")\n",
    "df_2010 = pd.read_csv(\"data/enem_1_2010.csv\")\n",
    "df_2011 = pd.read_csv(\"data/enem_1_2011.csv\")\n",
    "df_2012 = pd.read_csv(\"data/enem_1_2012.csv\")\n",
    "df_2013 = pd.read_csv(\"data/enem_1_2013.csv\")\n",
    "df_2014 = pd.read_csv(\"data/enem_1_2014.csv\")\n",
    "df_2015 = pd.read_csv(\"data/enem_1_2015.csv\")"
   ]
  },
  {
   "cell_type": "code",
   "execution_count": 16,
   "id": "1c860d58-2a33-48f3-8be6-2ab326135d77",
   "metadata": {
    "collapsed": true,
    "jupyter": {
     "outputs_hidden": true
    }
   },
   "outputs": [
    {
     "name": "stdout",
     "output_type": "stream",
     "text": [
      "NU_INSCRICAO\n",
      "NU_ANO\n",
      "TP_FAIXA_ETARIA\n",
      "TP_SEXO\n",
      "TP_ST_CONCLUSAO\n",
      "TP_ENSINO\n",
      "CO_MUNICIPIO_ESC\n",
      "NO_MUNICIPIO_ESC\n",
      "CO_UF_ESC\n",
      "SG_UF_ESC\n",
      "TP_DEPENDENCIA_ADM_ESC\n",
      "TP_LOCALIZACAO_ESC\n",
      "TP_SIT_FUNC_ESC\n",
      "CO_MUNICIPIO_PROVA\n",
      "NO_MUNICIPIO_PROVA\n",
      "CO_UF_PROVA\n",
      "SG_UF_PROVA\n",
      "TP_PRESENCA_CN\n",
      "TP_PRESENCA_CH\n",
      "TP_PRESENCA_LC\n",
      "TP_PRESENCA_MT\n",
      "NU_NOTA_CN\n",
      "NU_NOTA_CH\n",
      "NU_NOTA_LC\n",
      "NU_NOTA_MT\n",
      "TX_RESPOSTAS_CN\n",
      "TX_RESPOSTAS_CH\n",
      "TX_RESPOSTAS_LC\n",
      "TX_RESPOSTAS_MT\n",
      "CO_PROVA_CN\n",
      "CO_PROVA_CH\n",
      "CO_PROVA_LC\n",
      "CO_PROVA_MT\n",
      "TX_GABARITO_CN\n",
      "TX_GABARITO_CH\n",
      "TX_GABARITO_LC\n",
      "TX_GABARITO_MT\n",
      "TP_STATUS_REDACAO\n",
      "NU_NOTA_COMP1\n",
      "NU_NOTA_COMP2\n",
      "NU_NOTA_COMP3\n",
      "NU_NOTA_COMP4\n",
      "NU_NOTA_COMP5\n",
      "NU_NOTA_REDACAO\n",
      "IN_CERTIFICADO\n",
      "IN_QSE\n",
      "Q1\n",
      "Q2\n",
      "Q3\n",
      "Q4\n",
      "Q5\n",
      "Q6\n",
      "Q7\n",
      "Q8\n",
      "Q9\n",
      "Q10\n",
      "Q11\n",
      "Q12\n",
      "Q13\n",
      "Q14\n",
      "Q15\n",
      "Q16\n",
      "Q17\n",
      "Q18\n",
      "Q19\n",
      "Q20\n",
      "Q21\n",
      "Q22\n",
      "Q23\n",
      "Q24\n",
      "Q25\n",
      "Q26\n",
      "Q27\n",
      "Q28\n",
      "Q29\n",
      "Q30\n",
      "Q31\n",
      "Q32\n",
      "Q33\n",
      "Q34\n",
      "Q35\n",
      "Q36\n",
      "Q37\n",
      "Q38\n",
      "Q39\n",
      "Q40\n",
      "Q41\n",
      "Q42\n",
      "Q43\n",
      "Q44\n",
      "Q45\n",
      "Q46\n",
      "Q47\n",
      "Q48\n",
      "Q49\n",
      "Q50\n",
      "Q51\n",
      "Q52\n",
      "Q53\n",
      "Q54\n",
      "Q55\n",
      "Q56\n",
      "Q57\n",
      "Q58\n",
      "Q59\n",
      "Q60\n",
      "Q61\n",
      "Q62\n",
      "Q63\n",
      "Q64\n",
      "Q65\n",
      "Q66\n",
      "Q67\n",
      "Q68\n",
      "Q69\n",
      "Q70\n",
      "Q71\n",
      "Q72\n",
      "Q73\n",
      "Q74\n",
      "Q75\n",
      "Q76\n",
      "Q77\n",
      "Q78\n",
      "Q79\n",
      "Q80\n",
      "Q81\n",
      "Q82\n",
      "Q83\n",
      "Q84\n",
      "Q85\n",
      "Q86\n",
      "Q87\n",
      "Q88\n",
      "Q89\n",
      "Q90\n",
      "Q91\n",
      "Q92\n",
      "Q93\n",
      "Q94\n",
      "Q95\n",
      "Q96\n",
      "Q97\n",
      "Q98\n",
      "Q99\n",
      "Q100\n",
      "Q101\n",
      "Q102\n",
      "Q103\n",
      "Q104\n",
      "Q105\n",
      "Q106\n",
      "Q107\n",
      "Q108\n",
      "Q109\n",
      "Q110\n",
      "Q111\n",
      "Q112\n",
      "Q113\n",
      "Q114\n",
      "Q115\n",
      "Q116\n",
      "Q117\n",
      "Q118\n",
      "Q119\n",
      "Q120\n",
      "Q121\n",
      "Q122\n",
      "Q123\n",
      "Q124\n",
      "Q125\n",
      "Q126\n",
      "Q127\n",
      "Q128\n",
      "Q129\n",
      "Q130\n",
      "Q131\n",
      "Q132\n",
      "Q133\n",
      "Q134\n",
      "Q135\n",
      "Q136\n",
      "Q137\n",
      "Q138\n",
      "Q139\n",
      "Q140\n",
      "Q141\n",
      "Q142\n",
      "Q143\n",
      "Q144\n",
      "Q145\n",
      "Q146\n",
      "Q147\n",
      "Q148\n",
      "Q149\n",
      "Q150\n",
      "Q151\n",
      "Q152\n",
      "Q153\n",
      "Q154\n",
      "Q155\n",
      "Q156\n",
      "Q157\n",
      "Q158\n",
      "Q159\n",
      "Q160\n",
      "Q161\n",
      "Q162\n",
      "Q163\n",
      "Q164\n",
      "Q165\n",
      "Q166\n",
      "Q167\n",
      "Q168\n",
      "Q169\n",
      "Q170\n",
      "Q171\n",
      "Q172\n",
      "Q173\n",
      "Q174\n",
      "Q175\n",
      "Q176\n",
      "Q177\n",
      "Q178\n",
      "Q179\n",
      "Q180\n",
      "Q181\n",
      "Q182\n",
      "Q183\n",
      "Q184\n",
      "Q185\n",
      "Q186\n",
      "Q187\n",
      "Q188\n",
      "Q189\n",
      "Q190\n",
      "Q191\n",
      "Q192\n",
      "Q193\n",
      "Q194\n",
      "Q195\n",
      "Q196\n",
      "Q197\n",
      "Q198\n",
      "Q199\n",
      "Q200\n",
      "Q201\n",
      "Q202\n",
      "Q203\n",
      "Q204\n",
      "Q205\n",
      "Q206\n",
      "Q207\n",
      "Q208\n",
      "Q209\n",
      "Q210\n",
      "Q211\n",
      "Q212\n",
      "Q213\n",
      "Q214\n",
      "Q215\n",
      "Q216\n",
      "Q217\n",
      "Q218\n",
      "Q219\n",
      "Q220\n",
      "Q221\n",
      "Q222\n",
      "Q223\n",
      "Q224\n",
      "Q225\n",
      "Q226\n",
      "Q227\n",
      "Q228\n",
      "Q229\n",
      "Q230\n",
      "Q231\n",
      "Q232\n",
      "Q233\n",
      "Q234\n",
      "Q235\n",
      "Q236\n",
      "Q237\n",
      "Q238\n",
      "Q239\n",
      "Q240\n",
      "Q241\n",
      "Q242\n",
      "Q243\n",
      "Q244\n",
      "Q245\n",
      "Q246\n",
      "Q247\n",
      "Q248\n",
      "Q249\n",
      "Q250\n",
      "Q251\n",
      "Q252\n",
      "Q253\n",
      "Q254\n",
      "Q255\n",
      "Q256\n",
      "Q257\n",
      "Q258\n",
      "Q259\n",
      "Q260\n",
      "Q261\n",
      "Q262\n",
      "Q263\n",
      "Q264\n",
      "Q265\n",
      "Q266\n",
      "Q267\n",
      "Q268\n",
      "Q269\n",
      "Q270\n",
      "Q271\n",
      "Q272\n",
      "Q273\n",
      "Q274\n",
      "Q275\n",
      "Q276\n",
      "Q277\n",
      "Q278\n",
      "Q279\n",
      "Q280\n",
      "Q281\n",
      "Q282\n",
      "Q283\n",
      "Q284\n",
      "Q285\n",
      "Q286\n",
      "Q287\n",
      "Q288\n",
      "Q289\n",
      "Q290\n",
      "Q291\n",
      "Q292\n",
      "Q293\n"
     ]
    }
   ],
   "source": [
    "for i in df_2009.columns:\n",
    "    print(i)\n"
   ]
  },
  {
   "cell_type": "code",
   "execution_count": 20,
   "id": "2cce512d-d018-4ac8-9094-15eec843b6f8",
   "metadata": {},
   "outputs": [],
   "source": [
    "for ano in range(2009, 2016):\n",
    "    df_year = globals()[f'df_{ano}']  # Access the DataFrame for the specific year\n",
    "    df_year['media'] = (df_year['NU_NOTA_CN'] + df_year['NU_NOTA_CH'] +\n",
    "                        df_year['NU_NOTA_LC'] + df_year['NU_NOTA_MT']) / 4\n"
   ]
  },
  {
   "cell_type": "markdown",
   "id": "9e48e0cd-25e3-4c78-a780-043df118a4ab",
   "metadata": {},
   "source": [
    "## Análise do tipo de ensino"
   ]
  },
  {
   "cell_type": "code",
   "execution_count": 22,
   "id": "3ccd82d1-4142-4de2-8a3d-66ff6b4d6f8a",
   "metadata": {
    "collapsed": true,
    "jupyter": {
     "outputs_hidden": true
    },
    "scrolled": true
   },
   "outputs": [
    {
     "name": "stderr",
     "output_type": "stream",
     "text": [
      "/opt/miniconda3/lib/python3.9/site-packages/seaborn/_oldcore.py:1498: FutureWarning: is_categorical_dtype is deprecated and will be removed in a future version. Use isinstance(dtype, CategoricalDtype) instead\n",
      "  if pd.api.types.is_categorical_dtype(vector):\n",
      "/opt/miniconda3/lib/python3.9/site-packages/seaborn/_oldcore.py:1498: FutureWarning: is_categorical_dtype is deprecated and will be removed in a future version. Use isinstance(dtype, CategoricalDtype) instead\n",
      "  if pd.api.types.is_categorical_dtype(vector):\n",
      "/opt/miniconda3/lib/python3.9/site-packages/seaborn/_oldcore.py:1498: FutureWarning: is_categorical_dtype is deprecated and will be removed in a future version. Use isinstance(dtype, CategoricalDtype) instead\n",
      "  if pd.api.types.is_categorical_dtype(vector):\n"
     ]
    },
    {
     "data": {
      "text/plain": [
       "<AxesSubplot:xlabel='TP_ENSINO', ylabel='media'>"
      ]
     },
     "execution_count": 22,
     "metadata": {},
     "output_type": "execute_result"
    },
    {
     "data": {
      "image/png": "[encoded data removed]",
      "text/plain": [
       "<Figure size 640x480 with 1 Axes>"
      ]
     },
     "metadata": {},
     "output_type": "display_data"
    }
   ],
   "source": [
    "sns.boxplot(x='TP_ENSINO',y='media',data=df_2009)"
   ]
  },
  {
   "cell_type": "code",
   "execution_count": 24,
   "id": "d66e8d58-9f92-494f-b973-0a17a47d0c6c",
   "metadata": {
    "collapsed": true,
    "jupyter": {
     "outputs_hidden": true
    }
   },
   "outputs": [
    {
     "name": "stderr",
     "output_type": "stream",
     "text": [
      "/opt/miniconda3/lib/python3.9/site-packages/seaborn/_oldcore.py:1498: FutureWarning: is_categorical_dtype is deprecated and will be removed in a future version. Use isinstance(dtype, CategoricalDtype) instead\n",
      "  if pd.api.types.is_categorical_dtype(vector):\n",
      "/opt/miniconda3/lib/python3.9/site-packages/seaborn/_oldcore.py:1498: FutureWarning: is_categorical_dtype is deprecated and will be removed in a future version. Use isinstance(dtype, CategoricalDtype) instead\n",
      "  if pd.api.types.is_categorical_dtype(vector):\n",
      "/opt/miniconda3/lib/python3.9/site-packages/seaborn/_oldcore.py:1498: FutureWarning: is_categorical_dtype is deprecated and will be removed in a future version. Use isinstance(dtype, CategoricalDtype) instead\n",
      "  if pd.api.types.is_categorical_dtype(vector):\n"
     ]
    },
    {
     "data": {
      "text/plain": [
       "<AxesSubplot:xlabel='TP_ENSINO', ylabel='media'>"
      ]
     },
     "execution_count": 24,
     "metadata": {},
     "output_type": "execute_result"
    },
    {
     "data": {
      "image/png": "[encoded data removed]",
      "text/plain": [
       "<Figure size 640x480 with 1 Axes>"
      ]
     },
     "metadata": {},
     "output_type": "display_data"
    }
   ],
   "source": [
    "sns.boxplot(x='TP_ENSINO',y='media',data=df_2015)"
   ]
  },
  {
   "cell_type": "code",
   "execution_count": 26,
   "id": "f67c41a6-812c-4581-ad95-2c4496757c38",
   "metadata": {},
   "outputs": [
    {
     "name": "stderr",
     "output_type": "stream",
     "text": [
      "/opt/miniconda3/lib/python3.9/site-packages/seaborn/_oldcore.py:1498: FutureWarning: is_categorical_dtype is deprecated and will be removed in a future version. Use isinstance(dtype, CategoricalDtype) instead\n",
      "  if pd.api.types.is_categorical_dtype(vector):\n",
      "/opt/miniconda3/lib/python3.9/site-packages/seaborn/_oldcore.py:1498: FutureWarning: is_categorical_dtype is deprecated and will be removed in a future version. Use isinstance(dtype, CategoricalDtype) instead\n",
      "  if pd.api.types.is_categorical_dtype(vector):\n",
      "/opt/miniconda3/lib/python3.9/site-packages/seaborn/_oldcore.py:1498: FutureWarning: is_categorical_dtype is deprecated and will be removed in a future version. Use isinstance(dtype, CategoricalDtype) instead\n",
      "  if pd.api.types.is_categorical_dtype(vector):\n",
      "/opt/miniconda3/lib/python3.9/site-packages/seaborn/_oldcore.py:1498: FutureWarning: is_categorical_dtype is deprecated and will be removed in a future version. Use isinstance(dtype, CategoricalDtype) instead\n",
      "  if pd.api.types.is_categorical_dtype(vector):\n",
      "/opt/miniconda3/lib/python3.9/site-packages/seaborn/_oldcore.py:1498: FutureWarning: is_categorical_dtype is deprecated and will be removed in a future version. Use isinstance(dtype, CategoricalDtype) instead\n",
      "  if pd.api.types.is_categorical_dtype(vector):\n",
      "/opt/miniconda3/lib/python3.9/site-packages/seaborn/_oldcore.py:1498: FutureWarning: is_categorical_dtype is deprecated and will be removed in a future version. Use isinstance(dtype, CategoricalDtype) instead\n",
      "  if pd.api.types.is_categorical_dtype(vector):\n"
     ]
    },
    {
     "data": {
      "image/png": "[encoded data removed]",
      "text/plain": [
       "<Figure size 1200x600 with 2 Axes>"
      ]
     },
     "metadata": {},
     "output_type": "display_data"
    }
   ],
   "source": [
    "fig, axes = plt.subplots(1, 2, figsize=(12, 6))\n",
    "\n",
    "sns.boxplot(x='TP_ENSINO', y='media', data=df_2009, ax=axes[0])\n",
    "axes[0].set_title('Boxplot - 2009')\n",
    "\n",
    "sns.boxplot(x='TP_ENSINO', y='media', data=df_2015, ax=axes[1])\n",
    "axes[1].set_title('Boxplot - 2016')\n",
    "\n",
    "plt.tight_layout()\n",
    "\n",
    "plt.show()\n"
   ]
  },
  {
   "cell_type": "code",
   "execution_count": null,
   "id": "bb149d67-da6b-4a3d-b8d6-7e1d3f7d03c9",
   "metadata": {},
   "outputs": [],
   "source": [
    "### Diferença das médias de escola publica e escola particular"
   ]
  },
  {
   "cell_type": "code",
   "execution_count": 40,
   "id": "e95f6423-63c6-4cc2-9638-35055ab9487b",
   "metadata": {},
   "outputs": [
    {
     "data": {
      "text/plain": [
       "count    1684.000000\n",
       "mean      477.018750\n",
       "std        67.707407\n",
       "min       319.075000\n",
       "25%       426.387500\n",
       "50%       471.562500\n",
       "75%       520.112500\n",
       "max       708.725000\n",
       "Name: media, dtype: float64"
      ]
     },
     "execution_count": 40,
     "metadata": {},
     "output_type": "execute_result"
    }
   ],
   "source": [
    "df_2009[df_2009['TP_ENSINO'] == 2]['media'].describe()\n"
   ]
  },
  {
   "cell_type": "code",
   "execution_count": 41,
   "id": "7449d876-2aae-48c1-bb3e-98d930a29fc8",
   "metadata": {},
   "outputs": [
    {
     "data": {
      "text/plain": [
       "count    1368.000000\n",
       "mean      517.752376\n",
       "std        77.252988\n",
       "min       330.700000\n",
       "25%       464.275000\n",
       "50%       510.150000\n",
       "75%       565.843750\n",
       "max       771.450000\n",
       "Name: media, dtype: float64"
      ]
     },
     "execution_count": 41,
     "metadata": {},
     "output_type": "execute_result"
    }
   ],
   "source": [
    "df_2009[df_2009['TP_ENSINO'] == 3]['media'].describe()\n"
   ]
  },
  {
   "cell_type": "code",
   "execution_count": 42,
   "id": "1e0ff3bd-d14e-4f5e-83a5-7c9a1726f91a",
   "metadata": {},
   "outputs": [
    {
     "name": "stderr",
     "output_type": "stream",
     "text": [
      "/tmp/ipykernel_122331/3910567014.py:1: UserWarning: Boolean Series key will be reindexed to match DataFrame index.\n",
      "  df_2009[df_2015['TP_ENSINO'] == 2]['media'].describe()\n"
     ]
    },
    {
     "data": {
      "text/plain": [
       "count     45.000000\n",
       "mean     526.326667\n",
       "std       84.859770\n",
       "min      368.675000\n",
       "25%      466.600000\n",
       "50%      509.575000\n",
       "75%      564.700000\n",
       "max      768.275000\n",
       "Name: media, dtype: float64"
      ]
     },
     "execution_count": 42,
     "metadata": {},
     "output_type": "execute_result"
    }
   ],
   "source": [
    "df_2009[df_2015['TP_ENSINO'] == 2]['media'].describe()"
   ]
  },
  {
   "cell_type": "code",
   "execution_count": 43,
   "id": "47dd5bc0-c074-462f-bd8e-eb58772985d0",
   "metadata": {},
   "outputs": [
    {
     "name": "stderr",
     "output_type": "stream",
     "text": [
      "/tmp/ipykernel_122331/4262941671.py:1: UserWarning: Boolean Series key will be reindexed to match DataFrame index.\n",
      "  df_2009[df_2015['TP_ENSINO'] == 3]['media'].describe()\n"
     ]
    },
    {
     "data": {
      "text/plain": [
       "count    501.000000\n",
       "mean     505.900399\n",
       "std       86.245277\n",
       "min      348.450000\n",
       "25%      441.875000\n",
       "50%      489.575000\n",
       "75%      558.275000\n",
       "max      780.950000\n",
       "Name: media, dtype: float64"
      ]
     },
     "execution_count": 43,
     "metadata": {},
     "output_type": "execute_result"
    }
   ],
   "source": [
    "df_2009[df_2015['TP_ENSINO'] == 3]['media'].describe()\n"
   ]
  },
  {
   "cell_type": "code",
   "execution_count": null,
   "id": "f789c06a-efab-4a18-a283-6be3ab80ee0a",
   "metadata": {},
   "outputs": [],
   "source": []
  }
 ],
 "metadata": {
  "kernelspec": {
   "display_name": "Python 3 (ipykernel)",
   "language": "python",
   "name": "python3"
  },
  "language_info": {
   "codemirror_mode": {
    "name": "ipython",
    "version": 3
   },
   "file_extension": ".py",
   "mimetype": "text/x-python",
   "name": "python",
   "nbconvert_exporter": "python",
   "pygments_lexer": "ipython3",
   "version": "3.9.15"
  }
 },
 "nbformat": 4,
 "nbformat_minor": 5
}
