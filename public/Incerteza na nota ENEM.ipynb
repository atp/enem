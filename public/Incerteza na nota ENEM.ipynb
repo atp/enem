{
 "cells": [
  {
   "cell_type": "code",
   "execution_count": 1,
   "id": "340b0539-870e-43fc-99ab-c74778d2d5d9",
   "metadata": {},
   "outputs": [],
   "source": [
    "import numpy as np\n",
    "import pandas as pd\n",
    "import seaborn as sns\n",
    "import matplotlib.pyplot as plt\n",
    "from scipy import stats as stats\n",
    "import ipywidgets as widgets\n",
    "from ipywidgets import interact, interactive, fixed, interact_manual\n",
    "\n",
    "import sys, random\n",
    "\n",
    "%load_ext autoreload\n",
    "%autoreload 2\n",
    "\n",
    "sys.path.append('..')\n",
    "from util import provas,load_padr,score_inep, notas_sisu, params_inep\n"
   ]
  },
  {
   "cell_type": "markdown",
   "id": "af8b79ed-0c5b-4531-a594-5c9a43863fed",
   "metadata": {},
   "source": [
    "# 1. Escolhe uma prova e um candidato"
   ]
  },
  {
   "cell_type": "code",
   "execution_count": 10,
   "id": "f1a000f2-a292-4dab-b4d1-bc65ba1b87ed",
   "metadata": {},
   "outputs": [
    {
     "data": {
      "application/vnd.jupyter.widget-view+json": {
       "model_id": "d2db5f0d8fdf4e6db994869bee4e6093",
       "version_major": 2,
       "version_minor": 0
      },
      "text/plain": [
       "interactive(children=(Dropdown(description='Ano:', index=13, options=(2009, 2010, 2011, 2012, 2013, 2014, 2015…"
      ]
     },
     "metadata": {},
     "output_type": "display_data"
    }
   ],
   "source": [
    "areawidg = widgets.Dropdown(\n",
    "    options=['CN','CH','MT'],\n",
    "    value='CN',\n",
    "    description='Area:',\n",
    ")\n",
    "anowidg = widgets.Dropdown(\n",
    "    options=range(2009,2023),\n",
    "    value=2022,\n",
    "    description='Ano:',\n",
    ")\n",
    "\n",
    "decilewdg = widgets.BoundedIntText(\n",
    "    value=90,\n",
    "    min=1,\n",
    "    max=100,\n",
    "    step=1,\n",
    "    description='Percentil:',\n",
    "    disabled=False,\n",
    ")\n",
    "\n",
    "\n",
    "def random_candidate(ano=2022,area='CH',percentil=60):\n",
    "    'return a random candidate, their answers and their score given by INEP'\n",
    "\n",
    "    global prova, padr, itens, params, itemwdg,itemwdg_elim\n",
    "    prova = random.choice(provas(ano,area))\n",
    "    params = params_inep(prova)\n",
    "\n",
    "    itens_a = pd.qcut(params['a_inep'],3,labels=['Baixa','Média','Alta'])\n",
    "    itens_b = pd.qcut(params['b_inep'],3,labels=['Baixa','Média','Alta'])\n",
    "    itens = pd.concat([itens_a,itens_b],axis=1)\n",
    "    itens = itens.sort_values(['a_inep','b_inep'])\n",
    "    \n",
    "    item_options = [(f\"Discriminação {row['a_inep']}, Difficuldade {row['b_inep']}\",index) for index, row in itens.iterrows()]\n",
    "    item_options.insert(0,('',''))\n",
    "    itemwdg = widgets.Dropdown(\n",
    "        placeholder='Escolhe um item',\n",
    "        options=item_options,\n",
    "        description='Flip:',\n",
    "        ensure_option=False,\n",
    "        disabled=False,\n",
    "        )\n",
    "    itemwdg_elim = widgets.Dropdown(\n",
    "        placeholder='Escolhe um item',\n",
    "        options=item_options,\n",
    "        description='Cancelar:',\n",
    "        ensure_option=False,\n",
    "        disabled=False,\n",
    "        )\n",
    "    \n",
    "    padr, nota_inep = load_padr(prova,1,True,percentil=percentil)\n",
    "    \n",
    "    padr = nota_inep.join(padr)\n",
    "    nota = padr['nota_inep'].iloc[0]\n",
    "    print(f\"Prova: {prova}, nota segundo o INEP: {nota}\")\n",
    "\n",
    "    display(padr)\n",
    "    return\n",
    "\n",
    "\n",
    "interact(random_candidate,area=areawidg,ano=anowidg,percentil=decilewdg);\n"
   ]
  },
  {
   "cell_type": "code",
   "execution_count": 11,
   "id": "d837b919-253a-4333-a5f1-a3490b1c12bc",
   "metadata": {},
   "outputs": [],
   "source": [
    "def flip_item(padr,item):\n",
    "    padr2 = padr.copy()\n",
    "    padr2[item] = 1 - padr[item] # flip the answers of one item\n",
    "    return padr2\n",
    "\n",
    "def elim_item(padr,item):\n",
    "    padr2 = padr.copy()\n",
    "    return padr2.drop(columns=[item])\n"
   ]
  },
  {
   "cell_type": "code",
   "execution_count": 15,
   "id": "df299198-a0c6-4b57-93f2-481470781f67",
   "metadata": {},
   "outputs": [
    {
     "data": {
      "application/vnd.jupyter.widget-view+json": {
       "model_id": "c48ce2eebaa342cd8156d0c6c5b62f18",
       "version_major": 2,
       "version_minor": 0
      },
      "text/plain": [
       "interactive(children=(Dropdown(description='Flip:', options=(('', ''), ('Discriminação Baixa, Difficuldade Bai…"
      ]
     },
     "metadata": {},
     "output_type": "display_data"
    }
   ],
   "source": [
    "def notaenem(flip='',elim='',method='EAP',curso = \"ENGENHARIA CIVIL\"):\n",
    "    padr1 = padr.copy()\n",
    "    params1 = params.copy()\n",
    "    if flip:\n",
    "        padr1 = flip_item(padr1,flip)\n",
    "    if elim:\n",
    "        padr1 = elim_item(padr1,elim)\n",
    "        params1 = params_inep(prova).drop(elim).copy()\n",
    "    \n",
    "    nota1 = score_inep(padr1.iloc[:,3:],prova=prova,params=params1,method=method,enemscale=True)\n",
    "\n",
    "    nota = padr.iloc[0,2]\n",
    "    notanova = nota1.iloc[0,0]\n",
    "    se = nota1.iloc[0,1]\n",
    "    diff = notanova - nota\n",
    "    print(f\"Nota dado pelo INEP: {nota}\")\n",
    "    print(f\"\\nNota nova: {notanova:.1f} ± {se:.1f}\")\n",
    "    print(f\"Diferença: {diff:.1f}\")\n",
    "    \n",
    "    cursos = notas_sisu(2024,1)\n",
    "    cursos = cursos.query(\"curso == @curso\").sort_values('notacorte',ascending=False)\n",
    "    cursosok = cursos.query(\"@notanova >= notacorte\")\n",
    "    cursosnok = cursos.query(\"@notanova < notacorte\")\n",
    "\n",
    "    print(f\"Cursos que pode cursar: {len(cursosok)} (de um total de {len(cursos)} cursos)\")\n",
    "    print(f\"Cursos que não pode cursar: {len(cursosnok)} (de um total de {len(cursos)} cursos)\")\n",
    "\n",
    "    print(\"Alguns cursos que pode cursar:\")\n",
    "    if len(cursosok) > 0:\n",
    "        display(cursosok.sample(min(10,len(cursosok))))\n",
    "    else:\n",
    "        print(\"não há curso que pode cursar\")\n",
    "\n",
    "    \n",
    "metwdg = widgets.Dropdown(\n",
    "    options=['EAP','MAP','ML'],\n",
    "    value='EAP',\n",
    "    description='Método:'\n",
    ")\n",
    "\n",
    "cursowdg = widgets.Dropdown(\n",
    "    options=['ENGENHARIA CIVIL','DIREITO','MEDICINA'],\n",
    "    value='MEDICINA',\n",
    "    description='Curso:'\n",
    ")\n",
    "\n",
    "interact(notaenem,flip=itemwdg,elim=itemwdg_elim,method = metwdg,curso=cursowdg);"
   ]
  },
  {
   "cell_type": "code",
   "execution_count": null,
   "id": "81673705-fc7d-4b0e-99da-66469267555f",
   "metadata": {},
   "outputs": [],
   "source": []
  },
  {
   "cell_type": "code",
   "execution_count": null,
   "id": "ccc9a630-df83-4d6e-b8bc-3c84b699f2a2",
   "metadata": {},
   "outputs": [],
   "source": []
  }
 ],
 "metadata": {
  "kernelspec": {
   "display_name": "Python 3 (ipykernel)",
   "language": "python",
   "name": "python3"
  },
  "language_info": {
   "codemirror_mode": {
    "name": "ipython",
    "version": 3
   },
   "file_extension": ".py",
   "mimetype": "text/x-python",
   "name": "python",
   "nbconvert_exporter": "python",
   "pygments_lexer": "ipython3",
   "version": "3.11.2"
  }
 },
 "nbformat": 4,
 "nbformat_minor": 5
}
