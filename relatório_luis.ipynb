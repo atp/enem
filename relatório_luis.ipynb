{
 "cells": [
  {
   "cell_type": "markdown",
   "id": "68ddc53a-c067-4285-9b36-287f36e7454d",
   "metadata": {},
   "source": [
    "# Relatório semestral Inicição científica\n"
   ]
  },
  {
   "cell_type": "markdown",
   "id": "49a9f90f-3ad3-4fa6-8bac-9738b40a9a66",
   "metadata": {},
   "source": [
    "## Identificação"
   ]
  },
  {
   "cell_type": "markdown",
   "id": "f990452f-c469-4c93-be7b-19e67169d016",
   "metadata": {},
   "source": [
    "Código do projeto: 2023-430\n",
    "\n",
    "Período: 26/09/2023 a 25/09/2024\n",
    "\n",
    "Orientador: Prof. Dr. Ewout Ter Haar\n",
    "\n",
    "Aluno: Luis Felipe Betinassi Martins de Souza\n",
    "\n",
    "Projeto: Os limites e possibilidades de testes padronizadas em larga escala para fins de processos de seleção para o ensino superior\n"
   ]
  },
  {
   "cell_type": "markdown",
   "id": "0ad9b0cb-70ac-4e57-bd20-1970bcd85760",
   "metadata": {},
   "source": [
    "## Objetivo do projeto"
   ]
  },
  {
   "cell_type": "code",
   "execution_count": null,
   "id": "a9e94a93-f850-43f8-90fe-4bc5e0790b7d",
   "metadata": {},
   "outputs": [],
   "source": [
    "Neste projeto buscamos"
   ]
  }
 ],
 "metadata": {
  "kernelspec": {
   "display_name": "Python 3 (ipykernel)",
   "language": "python",
   "name": "python3"
  },
  "language_info": {
   "codemirror_mode": {
    "name": "ipython",
    "version": 3
   },
   "file_extension": ".py",
   "mimetype": "text/x-python",
   "name": "python",
   "nbconvert_exporter": "python",
   "pygments_lexer": "ipython3",
   "version": "3.9.15"
  }
 },
 "nbformat": 4,
 "nbformat_minor": 5
}
