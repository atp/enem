{
 "cells": [
  {
   "cell_type": "code",
   "execution_count": 10,
   "id": "340b0539-870e-43fc-99ab-c74778d2d5d9",
   "metadata": {},
   "outputs": [
    {
     "name": "stdout",
     "output_type": "stream",
     "text": [
      "The autoreload extension is already loaded. To reload it, use:\n",
      "  %reload_ext autoreload\n"
     ]
    }
   ],
   "source": [
    "import numpy as np\n",
    "import pandas as pd\n",
    "import seaborn as sns\n",
    "import matplotlib.pyplot as plt\n",
    "from scipy import stats as stats\n",
    "import ipywidgets as widgets\n",
    "from ipywidgets import interact, interactive, fixed, interact_manual\n",
    "\n",
    "import sys, random\n",
    "\n",
    "%load_ext autoreload\n",
    "%autoreload 2\n",
    "\n",
    "sys.path.append('..')\n",
    "from util import provas,load_padr,score_inep, notas_sisu, params_inep"
   ]
  },
  {
   "cell_type": "markdown",
   "id": "af8b79ed-0c5b-4531-a594-5c9a43863fed",
   "metadata": {},
   "source": [
    "# 1. Escolhe uma prova e um candidato"
   ]
  },
  {
   "cell_type": "code",
   "execution_count": 11,
   "id": "f1a000f2-a292-4dab-b4d1-bc65ba1b87ed",
   "metadata": {},
   "outputs": [
    {
     "data": {
      "application/vnd.jupyter.widget-view+json": {
       "model_id": "d65a9047a7d243908eea538d544ecc90",
       "version_major": 2,
       "version_minor": 0
      },
      "text/plain": [
       "interactive(children=(Dropdown(description='Ano:', index=13, options=(2009, 2010, 2011, 2012, 2013, 2014, 2015…"
      ]
     },
     "metadata": {},
     "output_type": "display_data"
    }
   ],
   "source": [
    "areawidg = widgets.Dropdown(\n",
    "    options=['CN','CH','MT'],\n",
    "    value='CN',\n",
    "    description='Area:',\n",
    ")\n",
    "anowidg = widgets.Dropdown(\n",
    "    options=range(2009,2023),\n",
    "    value=2022,\n",
    "    description='Ano:',\n",
    ")\n",
    "\n",
    "notawdg = widgets.IntRangeSlider(\n",
    "    value=[300, 1000],\n",
    "    min=300,\n",
    "    max=1000,\n",
    "    step=20,\n",
    "    description='Notas min/max:',\n",
    "    disabled=False,\n",
    "    continuous_update=False,\n",
    "    orientation='horizontal',\n",
    "    readout=True,\n",
    "    readout_format='d',\n",
    ")\n",
    "\n",
    "\n",
    "def random_candidates(ano=2022,area='CH',N=1,notaminmax=[300,1000]):\n",
    "    'return a random candidate, their answers and their score given by INEP'\n",
    "\n",
    "    global prova, padr, itens, params, itemwdg,itemwdg_elim\n",
    "    prova = random.choice(provas(ano,area))\n",
    "    params = params_inep(prova)\n",
    "\n",
    "    itens_a = pd.qcut(params['a_inep'],3,labels=['Baixa','Média','Alta'])\n",
    "    itens_b = pd.qcut(params['b_inep'],3,labels=['Baixa','Média','Alta'])\n",
    "    itens = pd.concat([itens_a,itens_b],axis=1)\n",
    "    item_options = [(f\"Discriminação {row['a_inep']}, Difficuldade {row['b_inep']}\",index) for index, row in itens.iterrows()]\n",
    "    item_options.insert(0,('',''))\n",
    "    itemwdg = widgets.Dropdown(\n",
    "        placeholder='Escolhe um item',\n",
    "        options=item_options,\n",
    "        description='Flip:',\n",
    "        ensure_option=False,\n",
    "        disabled=False,\n",
    "        )\n",
    "    itemwdg_elim = widgets.Dropdown(\n",
    "        placeholder='Escolhe um item',\n",
    "        options=item_options,\n",
    "        description='Cancelar:',\n",
    "        ensure_option=False,\n",
    "        disabled=False,\n",
    "        )\n",
    "    \n",
    "    padr, nota_inep = load_padr(prova,3000,True)\n",
    "    notamin,notamax = notaminmax[0],notaminmax[1]\n",
    "    \n",
    "    nota_inep = nota_inep.query(\"nota_inep > @notamin and nota_inep < @notamax\")\n",
    "    cands = nota_inep.sample(N)\n",
    "    padr = cands.join(padr)\n",
    "    nota = padr['nota_inep'].iloc[0]\n",
    "    print(f\"Prova: {prova}, nota segundo o INEP: {nota}\")\n",
    "\n",
    "    #display(padr)\n",
    "    return\n",
    "\n",
    "\n",
    "interact(random_candidates,area=areawidg,ano=anowidg,notaminmax=notawdg);\n",
    "\n",
    "#padr, prova = random_candidates(2022,'CN',5)"
   ]
  },
  {
   "cell_type": "code",
   "execution_count": 12,
   "id": "d837b919-253a-4333-a5f1-a3490b1c12bc",
   "metadata": {},
   "outputs": [],
   "source": [
    "def flip_item(padr,item):\n",
    "    padr2 = padr.copy()\n",
    "    padr2[item] = 1 - padr[item] # flip the answers of one item\n",
    "    return padr2\n",
    "\n",
    "def elim_item(padr,item):\n",
    "    padr2 = padr.copy()\n",
    "    return padr2.drop(columns=[item])\n"
   ]
  },
  {
   "cell_type": "code",
   "execution_count": 73,
   "id": "df299198-a0c6-4b57-93f2-481470781f67",
   "metadata": {},
   "outputs": [
    {
     "data": {
      "application/vnd.jupyter.widget-view+json": {
       "model_id": "75faa8800d72442eb4b22bc17bf0a9bc",
       "version_major": 2,
       "version_minor": 0
      },
      "text/plain": [
       "interactive(children=(Dropdown(description='Flip:', options=(('', ''), ('Discriminação Média, Difficuldade Méd…"
      ]
     },
     "metadata": {},
     "output_type": "display_data"
    }
   ],
   "source": [
    "def notaenem(flip='',elim='',method='EAP'):\n",
    "    padr1 = padr.copy()\n",
    "    params1 = params.copy()\n",
    "    if flip:\n",
    "        padr1 = flip_item(padr1,flip)\n",
    "    if elim:\n",
    "        padr1 = elim_item(padr1,elim)\n",
    "        params1 = params_inep(prova).drop(elim).copy()\n",
    "    \n",
    "    nota1 = score_inep(padr1.iloc[:,3:],prova=prova,params=params1,method=method,enemscale=True)\n",
    "\n",
    "    nota = padr.iloc[0,2]\n",
    "    notanova = nota1.iloc[0,0]\n",
    "    se = nota1.iloc[0,1]\n",
    "    diff = notanova - nota\n",
    "    print(f\"Nota dado pelo INEP: {nota}\")\n",
    "    print(f\"\\nNota nova: {notanova:.1f} ± {se:.1f}\")\n",
    "    print(f\"Diferença: {diff:.1f}\")\n",
    "    \n",
    "    cursos = notas_sisu(2024,1)\n",
    "    cursosok = cursos.query(\"@notanova >= notacorte\")\n",
    "    cursosnok = cursos.query(\"@notanova < notacorte\")\n",
    "\n",
    "    print(f\"Cursos que pode cursar: {len(cursosok)} (de um total de {len(cursos)} cursos)\")\n",
    "    print(f\"Cursos que não pode cursar: {len(cursosnok)} (de um total de {len(cursos)} cursos)\")\n",
    "\n",
    "    print(\"Alguns cursos que pode cursar:\")\n",
    "    display(cursosok.sample(10))\n",
    "\n",
    "    \n",
    "metwdg = widgets.Dropdown(\n",
    "    options=['EAP','MAP','ML'],\n",
    "    value='EAP',\n",
    "    description='Método:'\n",
    ")\n",
    "\n",
    "interact(notaenem,flip=itemwdg,elim=itemwdg_elim,method = metwdg);"
   ]
  },
  {
   "cell_type": "code",
   "execution_count": 31,
   "id": "92eded00-5662-4eab-8636-2e122f96eafe",
   "metadata": {},
   "outputs": [
    {
     "data": {
      "text/plain": [
       "<generator object DataFrame.items at 0x7fbabd3d1900>"
      ]
     },
     "execution_count": 31,
     "metadata": {},
     "output_type": "execute_result"
    }
   ],
   "source": [
    "padr_c = padr.iloc[:,3:]\n",
    "padr_c.items()"
   ]
  },
  {
   "cell_type": "code",
   "execution_count": 72,
   "id": "a9ad69f7-aede-4c91-9e4d-cb4ba35e3cb5",
   "metadata": {},
   "outputs": [
    {
     "data": {
      "text/plain": [
       "18228"
      ]
     },
     "metadata": {},
     "output_type": "display_data"
    },
    {
     "data": {
      "application/vnd.jupyter.widget-view+json": {
       "model_id": "d817cbeb76df4f44806624e326b012ef",
       "version_major": 2,
       "version_minor": 0
      },
      "text/plain": [
       "Checkbox(value=False, indent=False)"
      ]
     },
     "metadata": {},
     "output_type": "display_data"
    },
    {
     "data": {
      "text/plain": [
       "28034"
      ]
     },
     "metadata": {},
     "output_type": "display_data"
    },
    {
     "data": {
      "application/vnd.jupyter.widget-view+json": {
       "model_id": "c964defa0baf4467b781ce926988ebf3",
       "version_major": 2,
       "version_minor": 0
      },
      "text/plain": [
       "Checkbox(value=False, indent=False)"
      ]
     },
     "metadata": {},
     "output_type": "display_data"
    },
    {
     "data": {
      "text/plain": [
       "28632"
      ]
     },
     "metadata": {},
     "output_type": "display_data"
    },
    {
     "data": {
      "application/vnd.jupyter.widget-view+json": {
       "model_id": "b590618904b3429a8ad6c8b344d7824d",
       "version_major": 2,
       "version_minor": 0
      },
      "text/plain": [
       "Checkbox(value=True, indent=False)"
      ]
     },
     "metadata": {},
     "output_type": "display_data"
    },
    {
     "data": {
      "text/plain": [
       "31313"
      ]
     },
     "metadata": {},
     "output_type": "display_data"
    },
    {
     "data": {
      "application/vnd.jupyter.widget-view+json": {
       "model_id": "7d3eeb2c0738462fa4b7aa4357a13fcc",
       "version_major": 2,
       "version_minor": 0
      },
      "text/plain": [
       "Checkbox(value=True, indent=False)"
      ]
     },
     "metadata": {},
     "output_type": "display_data"
    },
    {
     "data": {
      "text/plain": [
       "31381"
      ]
     },
     "metadata": {},
     "output_type": "display_data"
    },
    {
     "data": {
      "application/vnd.jupyter.widget-view+json": {
       "model_id": "68219ad5889940a881c7a4a9b54907c2",
       "version_major": 2,
       "version_minor": 0
      },
      "text/plain": [
       "Checkbox(value=False, indent=False)"
      ]
     },
     "metadata": {},
     "output_type": "display_data"
    },
    {
     "data": {
      "text/plain": [
       "37769"
      ]
     },
     "metadata": {},
     "output_type": "display_data"
    },
    {
     "data": {
      "application/vnd.jupyter.widget-view+json": {
       "model_id": "5ba4886d620d47ada1550f4a4aaacf37",
       "version_major": 2,
       "version_minor": 0
      },
      "text/plain": [
       "Checkbox(value=False, indent=False)"
      ]
     },
     "metadata": {},
     "output_type": "display_data"
    },
    {
     "data": {
      "text/plain": [
       "41054"
      ]
     },
     "metadata": {},
     "output_type": "display_data"
    },
    {
     "data": {
      "application/vnd.jupyter.widget-view+json": {
       "model_id": "917d071a8ff145c28d059a811e1ab596",
       "version_major": 2,
       "version_minor": 0
      },
      "text/plain": [
       "Checkbox(value=True, indent=False)"
      ]
     },
     "metadata": {},
     "output_type": "display_data"
    },
    {
     "data": {
      "text/plain": [
       "43073"
      ]
     },
     "metadata": {},
     "output_type": "display_data"
    },
    {
     "data": {
      "application/vnd.jupyter.widget-view+json": {
       "model_id": "90cebfcd1a1942e1b002f0aba4c5d1e4",
       "version_major": 2,
       "version_minor": 0
      },
      "text/plain": [
       "Checkbox(value=True, indent=False)"
      ]
     },
     "metadata": {},
     "output_type": "display_data"
    },
    {
     "data": {
      "text/plain": [
       "44969"
      ]
     },
     "metadata": {},
     "output_type": "display_data"
    },
    {
     "data": {
      "application/vnd.jupyter.widget-view+json": {
       "model_id": "9b845875ba4b4b2e8221accd657ee2bf",
       "version_major": 2,
       "version_minor": 0
      },
      "text/plain": [
       "Checkbox(value=False, indent=False)"
      ]
     },
     "metadata": {},
     "output_type": "display_data"
    },
    {
     "data": {
      "text/plain": [
       "78377"
      ]
     },
     "metadata": {},
     "output_type": "display_data"
    },
    {
     "data": {
      "application/vnd.jupyter.widget-view+json": {
       "model_id": "e801c6a4c89544eba0636b9d0ce584ec",
       "version_major": 2,
       "version_minor": 0
      },
      "text/plain": [
       "Checkbox(value=False, indent=False)"
      ]
     },
     "metadata": {},
     "output_type": "display_data"
    },
    {
     "data": {
      "text/plain": [
       "78716"
      ]
     },
     "metadata": {},
     "output_type": "display_data"
    },
    {
     "data": {
      "application/vnd.jupyter.widget-view+json": {
       "model_id": "a987ed80ed3d44bab23896d1bca3c40c",
       "version_major": 2,
       "version_minor": 0
      },
      "text/plain": [
       "Checkbox(value=True, indent=False)"
      ]
     },
     "metadata": {},
     "output_type": "display_data"
    },
    {
     "data": {
      "text/plain": [
       "81969"
      ]
     },
     "metadata": {},
     "output_type": "display_data"
    },
    {
     "data": {
      "application/vnd.jupyter.widget-view+json": {
       "model_id": "95ce76420db346a499d64aed249a5fd7",
       "version_major": 2,
       "version_minor": 0
      },
      "text/plain": [
       "Checkbox(value=False, indent=False)"
      ]
     },
     "metadata": {},
     "output_type": "display_data"
    },
    {
     "data": {
      "text/plain": [
       "82765"
      ]
     },
     "metadata": {},
     "output_type": "display_data"
    },
    {
     "data": {
      "application/vnd.jupyter.widget-view+json": {
       "model_id": "100644daf8df411eaa4f561bf24cc199",
       "version_major": 2,
       "version_minor": 0
      },
      "text/plain": [
       "Checkbox(value=False, indent=False)"
      ]
     },
     "metadata": {},
     "output_type": "display_data"
    },
    {
     "data": {
      "text/plain": [
       "83901"
      ]
     },
     "metadata": {},
     "output_type": "display_data"
    },
    {
     "data": {
      "application/vnd.jupyter.widget-view+json": {
       "model_id": "b751bc78a32b4992b1f5cdaabcc2ee2b",
       "version_major": 2,
       "version_minor": 0
      },
      "text/plain": [
       "Checkbox(value=False, indent=False)"
      ]
     },
     "metadata": {},
     "output_type": "display_data"
    },
    {
     "data": {
      "text/plain": [
       "85445"
      ]
     },
     "metadata": {},
     "output_type": "display_data"
    },
    {
     "data": {
      "application/vnd.jupyter.widget-view+json": {
       "model_id": "77bfff9ab77744e09dfb253f7e9692ac",
       "version_major": 2,
       "version_minor": 0
      },
      "text/plain": [
       "Checkbox(value=True, indent=False)"
      ]
     },
     "metadata": {},
     "output_type": "display_data"
    },
    {
     "data": {
      "text/plain": [
       "85860"
      ]
     },
     "metadata": {},
     "output_type": "display_data"
    },
    {
     "data": {
      "application/vnd.jupyter.widget-view+json": {
       "model_id": "97a01718d15f40bcb040e16d7236a576",
       "version_major": 2,
       "version_minor": 0
      },
      "text/plain": [
       "Checkbox(value=False, indent=False)"
      ]
     },
     "metadata": {},
     "output_type": "display_data"
    },
    {
     "data": {
      "text/plain": [
       "87998"
      ]
     },
     "metadata": {},
     "output_type": "display_data"
    },
    {
     "data": {
      "application/vnd.jupyter.widget-view+json": {
       "model_id": "09e62b3c5b5d4213acf0cd74c8f582b4",
       "version_major": 2,
       "version_minor": 0
      },
      "text/plain": [
       "Checkbox(value=False, indent=False)"
      ]
     },
     "metadata": {},
     "output_type": "display_data"
    },
    {
     "data": {
      "text/plain": [
       "88655"
      ]
     },
     "metadata": {},
     "output_type": "display_data"
    },
    {
     "data": {
      "application/vnd.jupyter.widget-view+json": {
       "model_id": "1d8438fb0b874b7fa315ddbccad4fa09",
       "version_major": 2,
       "version_minor": 0
      },
      "text/plain": [
       "Checkbox(value=True, indent=False)"
      ]
     },
     "metadata": {},
     "output_type": "display_data"
    },
    {
     "data": {
      "text/plain": [
       "90130"
      ]
     },
     "metadata": {},
     "output_type": "display_data"
    },
    {
     "data": {
      "application/vnd.jupyter.widget-view+json": {
       "model_id": "c1a71b4555c242eebe5da476acc026d0",
       "version_major": 2,
       "version_minor": 0
      },
      "text/plain": [
       "Checkbox(value=True, indent=False)"
      ]
     },
     "metadata": {},
     "output_type": "display_data"
    },
    {
     "data": {
      "text/plain": [
       "96189"
      ]
     },
     "metadata": {},
     "output_type": "display_data"
    },
    {
     "data": {
      "application/vnd.jupyter.widget-view+json": {
       "model_id": "551836ed65cd47919572a0f2187638a2",
       "version_major": 2,
       "version_minor": 0
      },
      "text/plain": [
       "Checkbox(value=True, indent=False)"
      ]
     },
     "metadata": {},
     "output_type": "display_data"
    },
    {
     "data": {
      "text/plain": [
       "96244"
      ]
     },
     "metadata": {},
     "output_type": "display_data"
    },
    {
     "data": {
      "application/vnd.jupyter.widget-view+json": {
       "model_id": "43a28a1017ad47c6baafe0793778550c",
       "version_major": 2,
       "version_minor": 0
      },
      "text/plain": [
       "Checkbox(value=False, indent=False)"
      ]
     },
     "metadata": {},
     "output_type": "display_data"
    },
    {
     "data": {
      "text/plain": [
       "97727"
      ]
     },
     "metadata": {},
     "output_type": "display_data"
    },
    {
     "data": {
      "application/vnd.jupyter.widget-view+json": {
       "model_id": "371da33671544e9682ed63c4c28aec60",
       "version_major": 2,
       "version_minor": 0
      },
      "text/plain": [
       "Checkbox(value=False, indent=False)"
      ]
     },
     "metadata": {},
     "output_type": "display_data"
    },
    {
     "data": {
      "text/plain": [
       "97761"
      ]
     },
     "metadata": {},
     "output_type": "display_data"
    },
    {
     "data": {
      "application/vnd.jupyter.widget-view+json": {
       "model_id": "3a31bf97f049489e8ac974cf513cd796",
       "version_major": 2,
       "version_minor": 0
      },
      "text/plain": [
       "Checkbox(value=True, indent=False)"
      ]
     },
     "metadata": {},
     "output_type": "display_data"
    },
    {
     "data": {
      "text/plain": [
       "97915"
      ]
     },
     "metadata": {},
     "output_type": "display_data"
    },
    {
     "data": {
      "application/vnd.jupyter.widget-view+json": {
       "model_id": "9f09f3864d61417eb635d27b462f31b1",
       "version_major": 2,
       "version_minor": 0
      },
      "text/plain": [
       "Checkbox(value=False, indent=False)"
      ]
     },
     "metadata": {},
     "output_type": "display_data"
    },
    {
     "data": {
      "text/plain": [
       "98106"
      ]
     },
     "metadata": {},
     "output_type": "display_data"
    },
    {
     "data": {
      "application/vnd.jupyter.widget-view+json": {
       "model_id": "22b70cfbb0c8495a8a237eef2a04e482",
       "version_major": 2,
       "version_minor": 0
      },
      "text/plain": [
       "Checkbox(value=True, indent=False)"
      ]
     },
     "metadata": {},
     "output_type": "display_data"
    },
    {
     "data": {
      "text/plain": [
       "111431"
      ]
     },
     "metadata": {},
     "output_type": "display_data"
    },
    {
     "data": {
      "application/vnd.jupyter.widget-view+json": {
       "model_id": "53a31d3e8a16420a92ed083dc92ce20e",
       "version_major": 2,
       "version_minor": 0
      },
      "text/plain": [
       "Checkbox(value=False, indent=False)"
      ]
     },
     "metadata": {},
     "output_type": "display_data"
    },
    {
     "data": {
      "text/plain": [
       "111558"
      ]
     },
     "metadata": {},
     "output_type": "display_data"
    },
    {
     "data": {
      "application/vnd.jupyter.widget-view+json": {
       "model_id": "af806d957d044630a01178773cc7c73c",
       "version_major": 2,
       "version_minor": 0
      },
      "text/plain": [
       "Checkbox(value=False, indent=False)"
      ]
     },
     "metadata": {},
     "output_type": "display_data"
    },
    {
     "data": {
      "text/plain": [
       "111613"
      ]
     },
     "metadata": {},
     "output_type": "display_data"
    },
    {
     "data": {
      "application/vnd.jupyter.widget-view+json": {
       "model_id": "1cc04267f5cc40f780a7d18ae46f98d6",
       "version_major": 2,
       "version_minor": 0
      },
      "text/plain": [
       "Checkbox(value=True, indent=False)"
      ]
     },
     "metadata": {},
     "output_type": "display_data"
    },
    {
     "data": {
      "text/plain": [
       "111668"
      ]
     },
     "metadata": {},
     "output_type": "display_data"
    },
    {
     "data": {
      "application/vnd.jupyter.widget-view+json": {
       "model_id": "0799588f9a1042dd877f3bad91f6b372",
       "version_major": 2,
       "version_minor": 0
      },
      "text/plain": [
       "Checkbox(value=False, indent=False)"
      ]
     },
     "metadata": {},
     "output_type": "display_data"
    },
    {
     "data": {
      "text/plain": [
       "111694"
      ]
     },
     "metadata": {},
     "output_type": "display_data"
    },
    {
     "data": {
      "application/vnd.jupyter.widget-view+json": {
       "model_id": "c1be2643815642a09590a87ea4cb2244",
       "version_major": 2,
       "version_minor": 0
      },
      "text/plain": [
       "Checkbox(value=False, indent=False)"
      ]
     },
     "metadata": {},
     "output_type": "display_data"
    },
    {
     "data": {
      "text/plain": [
       "117854"
      ]
     },
     "metadata": {},
     "output_type": "display_data"
    },
    {
     "data": {
      "application/vnd.jupyter.widget-view+json": {
       "model_id": "bff46d7f0af04484b6e1fee5e9af2d41",
       "version_major": 2,
       "version_minor": 0
      },
      "text/plain": [
       "Checkbox(value=False, indent=False)"
      ]
     },
     "metadata": {},
     "output_type": "display_data"
    },
    {
     "data": {
      "text/plain": [
       "126560"
      ]
     },
     "metadata": {},
     "output_type": "display_data"
    },
    {
     "data": {
      "application/vnd.jupyter.widget-view+json": {
       "model_id": "5809c8a33a9444e082be91f084618654",
       "version_major": 2,
       "version_minor": 0
      },
      "text/plain": [
       "Checkbox(value=True, indent=False)"
      ]
     },
     "metadata": {},
     "output_type": "display_data"
    },
    {
     "data": {
      "text/plain": [
       "141503"
      ]
     },
     "metadata": {},
     "output_type": "display_data"
    },
    {
     "data": {
      "application/vnd.jupyter.widget-view+json": {
       "model_id": "9e59a8ad1a384fcba199672b7a876833",
       "version_major": 2,
       "version_minor": 0
      },
      "text/plain": [
       "Checkbox(value=True, indent=False)"
      ]
     },
     "metadata": {},
     "output_type": "display_data"
    },
    {
     "data": {
      "text/plain": [
       "141545"
      ]
     },
     "metadata": {},
     "output_type": "display_data"
    },
    {
     "data": {
      "application/vnd.jupyter.widget-view+json": {
       "model_id": "72ba96b5ddb94feb8d0db936b0127ada",
       "version_major": 2,
       "version_minor": 0
      },
      "text/plain": [
       "Checkbox(value=False, indent=False)"
      ]
     },
     "metadata": {},
     "output_type": "display_data"
    },
    {
     "data": {
      "text/plain": [
       "141547"
      ]
     },
     "metadata": {},
     "output_type": "display_data"
    },
    {
     "data": {
      "application/vnd.jupyter.widget-view+json": {
       "model_id": "21079743663241348d30bbfbe47545d5",
       "version_major": 2,
       "version_minor": 0
      },
      "text/plain": [
       "Checkbox(value=True, indent=False)"
      ]
     },
     "metadata": {},
     "output_type": "display_data"
    },
    {
     "data": {
      "text/plain": [
       "141574"
      ]
     },
     "metadata": {},
     "output_type": "display_data"
    },
    {
     "data": {
      "application/vnd.jupyter.widget-view+json": {
       "model_id": "b319a43a5d3046c9812b1ff6e9a14c6b",
       "version_major": 2,
       "version_minor": 0
      },
      "text/plain": [
       "Checkbox(value=True, indent=False)"
      ]
     },
     "metadata": {},
     "output_type": "display_data"
    },
    {
     "data": {
      "text/plain": [
       "141597"
      ]
     },
     "metadata": {},
     "output_type": "display_data"
    },
    {
     "data": {
      "application/vnd.jupyter.widget-view+json": {
       "model_id": "c284df4d95a046b980f8d17504814080",
       "version_major": 2,
       "version_minor": 0
      },
      "text/plain": [
       "Checkbox(value=False, indent=False)"
      ]
     },
     "metadata": {},
     "output_type": "display_data"
    },
    {
     "data": {
      "text/plain": [
       "141712"
      ]
     },
     "metadata": {},
     "output_type": "display_data"
    },
    {
     "data": {
      "application/vnd.jupyter.widget-view+json": {
       "model_id": "dd9763517f934f5789093caaaf55a783",
       "version_major": 2,
       "version_minor": 0
      },
      "text/plain": [
       "Checkbox(value=True, indent=False)"
      ]
     },
     "metadata": {},
     "output_type": "display_data"
    },
    {
     "data": {
      "text/plain": [
       "141725"
      ]
     },
     "metadata": {},
     "output_type": "display_data"
    },
    {
     "data": {
      "application/vnd.jupyter.widget-view+json": {
       "model_id": "30e8f8abd01948ad9892e7e2d8e5b075",
       "version_major": 2,
       "version_minor": 0
      },
      "text/plain": [
       "Checkbox(value=False, indent=False)"
      ]
     },
     "metadata": {},
     "output_type": "display_data"
    },
    {
     "data": {
      "text/plain": [
       "141726"
      ]
     },
     "metadata": {},
     "output_type": "display_data"
    },
    {
     "data": {
      "application/vnd.jupyter.widget-view+json": {
       "model_id": "720a028c0f8846f8bdc81b841af9c016",
       "version_major": 2,
       "version_minor": 0
      },
      "text/plain": [
       "Checkbox(value=False, indent=False)"
      ]
     },
     "metadata": {},
     "output_type": "display_data"
    },
    {
     "data": {
      "text/plain": [
       "141731"
      ]
     },
     "metadata": {},
     "output_type": "display_data"
    },
    {
     "data": {
      "application/vnd.jupyter.widget-view+json": {
       "model_id": "8f0fd42b2237417dbc8bd50c95d93109",
       "version_major": 2,
       "version_minor": 0
      },
      "text/plain": [
       "Checkbox(value=False, indent=False)"
      ]
     },
     "metadata": {},
     "output_type": "display_data"
    }
   ],
   "source": [
    "def wf(value):\n",
    "    itemwdg = widgets.Checkbox(\n",
    "        value=value,\n",
    "        description='',\n",
    "        disabled=False,\n",
    "        indent=False\n",
    "    )\n",
    "    return itemwdg\n",
    "\n",
    "def makepadr():\n",
    "    global prova, padr\n",
    "    padr_c = padr.iloc[:,3:]\n",
    "    for name,s in padr_c.items():\n",
    "        display(name,wf(bool(s.iloc[0])))\n",
    "        \n",
    "    #nota = score_inep(padr_c,prova,enemscale=True)\n",
    "    #print(\"nota = \",nota)\n",
    "    return\n",
    "makepadr()"
   ]
  },
  {
   "cell_type": "code",
   "execution_count": 8,
   "id": "c425b081-7a3e-4c58-9e28-460d648e8c9c",
   "metadata": {},
   "outputs": [
    {
     "data": {
      "application/vnd.jupyter.widget-view+json": {
       "model_id": "7efb709ad23849ce8db9f99dcc9ea7ab",
       "version_major": 2,
       "version_minor": 0
      },
      "text/plain": [
       "Checkbox(value=False, description='Check me')"
      ]
     },
     "metadata": {},
     "output_type": "display_data"
    }
   ],
   "source": [
    "itemwdg = widgets.Checkbox(\n",
    "    value=False,\n",
    "    description='Check me',\n",
    "    disabled=False,\n",
    "    indent=False\n",
    ")\n",
    "\n",
    "display(itemwdg)"
   ]
  }
 ],
 "metadata": {
  "kernelspec": {
   "display_name": "Python 3 (ipykernel)",
   "language": "python",
   "name": "python3"
  },
  "language_info": {
   "codemirror_mode": {
    "name": "ipython",
    "version": 3
   },
   "file_extension": ".py",
   "mimetype": "text/x-python",
   "name": "python",
   "nbconvert_exporter": "python",
   "pygments_lexer": "ipython3",
   "version": "3.9.15"
  }
 },
 "nbformat": 4,
 "nbformat_minor": 5
}
