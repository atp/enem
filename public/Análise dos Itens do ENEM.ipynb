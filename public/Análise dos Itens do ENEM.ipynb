{
 "cells": [
  {
   "cell_type": "code",
   "execution_count": 1,
   "id": "9e0fb639-971f-4ffd-b8cb-93c359c346ea",
   "metadata": {},
   "outputs": [],
   "source": [
    "import numpy as np\n",
    "import pandas as pd\n",
    "import seaborn as sns\n",
    "import matplotlib.pyplot as plt\n",
    "import random\n",
    "\n",
    "\n",
    "import ipywidgets as widgets\n",
    "from ipywidgets import interact, interactive, fixed, interact_manual\n",
    "\n",
    "%load_ext autoreload\n",
    "%autoreload 2\n",
    "\n",
    "def make_clickable(val):\n",
    "    return f'<a href=\"{val}\">link</a>'"
   ]
  },
  {
   "cell_type": "code",
   "execution_count": 3,
   "id": "5d9a15a3-a764-4f00-aa5b-a17b7a191776",
   "metadata": {},
   "outputs": [],
   "source": [
    "import sys\n",
    "\n",
    "sys.path.append('..')\n",
    "from util import load_sample,load_acertos,item_info_inep,item_stats,item_url, irt_params_to_enem_scale"
   ]
  },
  {
   "cell_type": "code",
   "execution_count": 5,
   "id": "e1f90025-5886-470a-9ef4-96006e1d4c09",
   "metadata": {
    "editable": true,
    "slideshow": {
     "slide_type": ""
    },
    "tags": []
   },
   "outputs": [],
   "source": [
    "sns.set_theme(\n",
    "    context='notebook',\n",
    "    style='darkgrid',\n",
    "    palette='deep',\n",
    "    font='sans-serif',\n",
    "    font_scale=1.3,\n",
    "    color_codes=True,\n",
    "    rc=None,\n",
    ")\n",
    "pd.options.display.float_format = '{:,.2f}'.format"
   ]
  },
  {
   "cell_type": "markdown",
   "id": "807154f6-c4f6-402a-9534-db05fd235884",
   "metadata": {
    "editable": true,
    "slideshow": {
     "slide_type": ""
    },
    "tags": []
   },
   "source": [
    "# Análise dos item\n",
    "Aqui analisamos e apresentamos os parâmetros dos itens do ENEM, como foram divulgados pelo INEP junto com os microdados do ENEM.\n",
    "\n",
    "## Primeiro"
   ]
  },
  {
   "cell_type": "code",
   "execution_count": 4,
   "id": "50100985-f263-410c-ad6f-39507c5ea0cc",
   "metadata": {
    "editable": true,
    "scrolled": true,
    "slideshow": {
     "slide_type": ""
    },
    "tags": [
     "hide"
    ]
   },
   "outputs": [],
   "source": [
    "# rodar primeiro as células da seção Calcular estatísticas TCT dos itens em 00-PrepareData\n",
    "\n",
    "def istats(ano,area,sort_by='total.r',return_styled=False):\n",
    "    istats = pd.read_csv(f'../data/istats-{ano}-{area}.csv')\n",
    "    istats = istats.drop_duplicates('item')\n",
    "    istats = istats.rename(columns={'CO_POSICAO':'pos','SG_AREA':'area','TX_GABARITO':'gab',\n",
    "                                   'CO_HABILIDADE':'habilidade','IN_ITEM_ABAN':'aban',\n",
    "                                   'TX_MOTIVO_ABAN':'motivo','NU_PARAM_A':'a','NU_PARAM_B':'b','NU_PARAM_C':'c',\n",
    "                                   'TX_COR':'cor','CO_PROVA':'prova','TP_LINGUA':'ling',\n",
    "                                   'IN_ITEM_ADAPTADO':'adaptado','TP_VERSAO_DIGITAL':'digital'})\n",
    "    istats = istats.sort_values(sort_by)\n",
    "    if return_styled:\n",
    "        return istats.style.format({'url':make_clickable,\n",
    "                                'mean':'{:.2f}','sd':'{:.2f}','total.r':'{:.3f}',\n",
    "                               'habilidade':'{:.0f}'})\n",
    "    return istats\n",
    "# istats(2009,'MT')"
   ]
  },
  {
   "cell_type": "code",
   "execution_count": 6,
   "id": "8e7cdd83-6218-46f9-a04e-64c3aeff7a0c",
   "metadata": {},
   "outputs": [
    {
     "data": {
      "application/vnd.jupyter.widget-view+json": {
       "model_id": "a3e860ac9e6b44b28179b6b60f7c27ea",
       "version_major": 2,
       "version_minor": 0
      },
      "text/plain": [
       "interactive(children=(Dropdown(description='Ano:', index=13, options=(2009, 2010, 2011, 2012, 2013, 2014, 2015…"
      ]
     },
     "metadata": {},
     "output_type": "display_data"
    },
    {
     "data": {
      "text/plain": [
       "<function __main__.istats(ano, area, sort_by='total.r', return_styled=False)>"
      ]
     },
     "execution_count": 6,
     "metadata": {},
     "output_type": "execute_result"
    }
   ],
   "source": [
    "areawidg = widgets.Dropdown(\n",
    "    options=['CN','CH','MT'],\n",
    "    value='CN',\n",
    "    description='Area:',\n",
    ")\n",
    "anowidg = widgets.Dropdown(\n",
    "    options=range(2009,2024),\n",
    "    value=2022,\n",
    "    description='Ano:',\n",
    ")\n",
    "cols = istats(2009,'MT').columns\n",
    "sbw = widgets.Dropdown(\n",
    "    options=cols,\n",
    "    value='total.r',\n",
    "    description='Sort by:',\n",
    ")\n",
    "\n",
    "interact(istats,ano=anowidg,area=areawidg,sort_by=sbw,return_styled=True);"
   ]
  }
 ],
 "metadata": {
  "kernelspec": {
   "display_name": "Python 3 (ipykernel)",
   "language": "python",
   "name": "python3"
  },
  "language_info": {
   "codemirror_mode": {
    "name": "ipython",
    "version": 3
   },
   "file_extension": ".py",
   "mimetype": "text/x-python",
   "name": "python",
   "nbconvert_exporter": "python",
   "pygments_lexer": "ipython3",
   "version": "3.11.2"
  }
 },
 "nbformat": 4,
 "nbformat_minor": 5
}
