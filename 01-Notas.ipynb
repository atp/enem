{
 "cells": [
  {
   "cell_type": "code",
   "execution_count": 1,
   "id": "2e463c6a-c99f-4ddd-925c-b61564198c75",
   "metadata": {},
   "outputs": [],
   "source": [
    "import numpy as np\n",
    "import pandas as pd\n",
    "import seaborn as sns\n",
    "import matplotlib as mpl\n",
    "import random"
   ]
  },
  {
   "cell_type": "code",
   "execution_count": 2,
   "id": "963d11db-6415-4ef6-ab31-8fe1bb3e7111",
   "metadata": {},
   "outputs": [],
   "source": [
    "#Ler a\n",
    "df = pd.read_csv('data/enem19-1perc.csv')\n",
    "df_selecao = pd.read_csv('data/selecao.csv')"
   ]
  },
  {
   "cell_type": "code",
   "execution_count": null,
   "id": "42e5c1cc-6201-43ac-96db-d9c5dc4e95cd",
   "metadata": {},
   "outputs": [],
   "source": []
  },
  {
   "cell_type": "markdown",
   "id": "c2f5519a-fb20-4fda-9e26-9382bb4ae6e8",
   "metadata": {},
   "source": [
    "# Algumas análises preliminares"
   ]
  },
  {
   "cell_type": "code",
   "execution_count": 14,
   "id": "35fac674-179a-40f6-8620-1de4ddc503a5",
   "metadata": {},
   "outputs": [
    {
     "data": {
      "image/png": "[encoded data removed]",
      "text/plain": [
       "<Figure size 640x480 with 1 Axes>"
      ]
     },
     "metadata": {},
     "output_type": "display_data"
    }
   ],
   "source": [
    "mt = df['NU_NOTA_MT']\n",
    "ax = mt.hist(bins=100)\n",
    "\n"
   ]
  },
  {
   "cell_type": "code",
   "execution_count": 5,
   "id": "cfe31f89-b894-45b0-af9f-440f7b1d5e8a",
   "metadata": {},
   "outputs": [
    {
     "data": {
      "text/plain": [
       "F    18638\n",
       "M    13020\n",
       "Name: TP_SEXO, dtype: int64"
      ]
     },
     "execution_count": 5,
     "metadata": {},
     "output_type": "execute_result"
    }
   ],
   "source": [
    "df['TP_SEXO'].value_counts()"
   ]
  },
  {
   "cell_type": "code",
   "execution_count": 6,
   "id": "ee95ac54-fc2d-46ba-ad78-f0dd7cc6185b",
   "metadata": {},
   "outputs": [
    {
     "data": {
      "text/plain": [
       "3    14796\n",
       "1    11066\n",
       "2     4213\n",
       "4      791\n",
       "0      596\n",
       "5      196\n",
       "Name: TP_COR_RACA, dtype: int64"
      ]
     },
     "execution_count": 6,
     "metadata": {},
     "output_type": "execute_result"
    }
   ],
   "source": [
    "df['TP_COR_RACA'].value_counts()"
   ]
  },
  {
   "cell_type": "code",
   "execution_count": 8,
   "id": "3b495555-17e9-4d83-95f5-15d3c2c2ba06",
   "metadata": {},
   "outputs": [
    {
     "data": {
      "text/plain": [
       "count    31658.000000\n",
       "mean       520.918185\n",
       "std        110.046439\n",
       "min          0.000000\n",
       "25%        432.300000\n",
       "50%        497.700000\n",
       "75%        594.600000\n",
       "max        984.200000\n",
       "Name: NU_NOTA_MT, dtype: float64"
      ]
     },
     "execution_count": 8,
     "metadata": {},
     "output_type": "execute_result"
    }
   ],
   "source": [
    "df[\"NU_NOTA_MT\"].describe()"
   ]
  },
  {
   "cell_type": "code",
   "execution_count": 12,
   "id": "757e63a8-ae6d-4955-a9b9-54c5cb3c0ec2",
   "metadata": {},
   "outputs": [
    {
     "data": {
      "text/plain": [
       "count    18638.000000\n",
       "mean       503.156868\n",
       "std        100.835328\n",
       "min          0.000000\n",
       "25%        424.500000\n",
       "50%        479.400000\n",
       "75%        564.600000\n",
       "max        975.200000\n",
       "Name: NU_NOTA_MT, dtype: float64"
      ]
     },
     "execution_count": 12,
     "metadata": {},
     "output_type": "execute_result"
    }
   ],
   "source": [
    "df.query(\"TP_SEXO == 'F'\")[\"NU_NOTA_MT\"].describe()"
   ]
  },
  {
   "cell_type": "code",
   "execution_count": 4,
   "id": "b97c1e8c-c467-498c-88cc-8138a648c4fb",
   "metadata": {},
   "outputs": [
    {
     "data": {
      "text/html": [
       "<div>\n",
       "<style scoped>\n",
       "    .dataframe tbody tr th:only-of-type {\n",
       "        vertical-align: middle;\n",
       "    }\n",
       "\n",
       "    .dataframe tbody tr th {\n",
       "        vertical-align: top;\n",
       "    }\n",
       "\n",
       "    .dataframe thead th {\n",
       "        text-align: right;\n",
       "    }\n",
       "</style>\n",
       "<table border=\"1\" class=\"dataframe\">\n",
       "  <thead>\n",
       "    <tr style=\"text-align: right;\">\n",
       "      <th></th>\n",
       "      <th>30053</th>\n",
       "      <th>85228</th>\n",
       "      <th>86466</th>\n",
       "      <th>43182</th>\n",
       "      <th>47309</th>\n",
       "      <th>53461</th>\n",
       "      <th>85013</th>\n",
       "      <th>117973</th>\n",
       "      <th>10500</th>\n",
       "      <th>63646</th>\n",
       "      <th>...</th>\n",
       "      <th>82581</th>\n",
       "      <th>31516</th>\n",
       "      <th>68369</th>\n",
       "      <th>60441</th>\n",
       "      <th>117886</th>\n",
       "      <th>95676</th>\n",
       "      <th>19807</th>\n",
       "      <th>acertos</th>\n",
       "      <th>caderno</th>\n",
       "      <th>nota_inep</th>\n",
       "    </tr>\n",
       "  </thead>\n",
       "  <tbody>\n",
       "    <tr>\n",
       "      <th>2075</th>\n",
       "      <td>1</td>\n",
       "      <td>1</td>\n",
       "      <td>1</td>\n",
       "      <td>1</td>\n",
       "      <td>1</td>\n",
       "      <td>1</td>\n",
       "      <td>1</td>\n",
       "      <td>1</td>\n",
       "      <td>1</td>\n",
       "      <td>1</td>\n",
       "      <td>...</td>\n",
       "      <td>1</td>\n",
       "      <td>1</td>\n",
       "      <td>1</td>\n",
       "      <td>1</td>\n",
       "      <td>0</td>\n",
       "      <td>1</td>\n",
       "      <td>1</td>\n",
       "      <td>40</td>\n",
       "      <td>1077</td>\n",
       "      <td>972.0</td>\n",
       "    </tr>\n",
       "    <tr>\n",
       "      <th>6508</th>\n",
       "      <td>1</td>\n",
       "      <td>1</td>\n",
       "      <td>1</td>\n",
       "      <td>1</td>\n",
       "      <td>0</td>\n",
       "      <td>1</td>\n",
       "      <td>1</td>\n",
       "      <td>1</td>\n",
       "      <td>1</td>\n",
       "      <td>1</td>\n",
       "      <td>...</td>\n",
       "      <td>1</td>\n",
       "      <td>1</td>\n",
       "      <td>1</td>\n",
       "      <td>1</td>\n",
       "      <td>0</td>\n",
       "      <td>1</td>\n",
       "      <td>1</td>\n",
       "      <td>40</td>\n",
       "      <td>1078</td>\n",
       "      <td>972.0</td>\n",
       "    </tr>\n",
       "    <tr>\n",
       "      <th>1807</th>\n",
       "      <td>1</td>\n",
       "      <td>1</td>\n",
       "      <td>1</td>\n",
       "      <td>1</td>\n",
       "      <td>0</td>\n",
       "      <td>1</td>\n",
       "      <td>1</td>\n",
       "      <td>1</td>\n",
       "      <td>1</td>\n",
       "      <td>1</td>\n",
       "      <td>...</td>\n",
       "      <td>1</td>\n",
       "      <td>1</td>\n",
       "      <td>1</td>\n",
       "      <td>1</td>\n",
       "      <td>0</td>\n",
       "      <td>1</td>\n",
       "      <td>1</td>\n",
       "      <td>40</td>\n",
       "      <td>1077</td>\n",
       "      <td>968.6</td>\n",
       "    </tr>\n",
       "    <tr>\n",
       "      <th>3105</th>\n",
       "      <td>1</td>\n",
       "      <td>1</td>\n",
       "      <td>1</td>\n",
       "      <td>1</td>\n",
       "      <td>1</td>\n",
       "      <td>1</td>\n",
       "      <td>1</td>\n",
       "      <td>1</td>\n",
       "      <td>1</td>\n",
       "      <td>1</td>\n",
       "      <td>...</td>\n",
       "      <td>1</td>\n",
       "      <td>0</td>\n",
       "      <td>1</td>\n",
       "      <td>1</td>\n",
       "      <td>1</td>\n",
       "      <td>1</td>\n",
       "      <td>1</td>\n",
       "      <td>41</td>\n",
       "      <td>1077</td>\n",
       "      <td>968.0</td>\n",
       "    </tr>\n",
       "    <tr>\n",
       "      <th>4637</th>\n",
       "      <td>1</td>\n",
       "      <td>1</td>\n",
       "      <td>1</td>\n",
       "      <td>1</td>\n",
       "      <td>1</td>\n",
       "      <td>1</td>\n",
       "      <td>1</td>\n",
       "      <td>1</td>\n",
       "      <td>1</td>\n",
       "      <td>1</td>\n",
       "      <td>...</td>\n",
       "      <td>1</td>\n",
       "      <td>0</td>\n",
       "      <td>1</td>\n",
       "      <td>1</td>\n",
       "      <td>1</td>\n",
       "      <td>1</td>\n",
       "      <td>1</td>\n",
       "      <td>41</td>\n",
       "      <td>1077</td>\n",
       "      <td>965.6</td>\n",
       "    </tr>\n",
       "    <tr>\n",
       "      <th>...</th>\n",
       "      <td>...</td>\n",
       "      <td>...</td>\n",
       "      <td>...</td>\n",
       "      <td>...</td>\n",
       "      <td>...</td>\n",
       "      <td>...</td>\n",
       "      <td>...</td>\n",
       "      <td>...</td>\n",
       "      <td>...</td>\n",
       "      <td>...</td>\n",
       "      <td>...</td>\n",
       "      <td>...</td>\n",
       "      <td>...</td>\n",
       "      <td>...</td>\n",
       "      <td>...</td>\n",
       "      <td>...</td>\n",
       "      <td>...</td>\n",
       "      <td>...</td>\n",
       "      <td>...</td>\n",
       "      <td>...</td>\n",
       "      <td>...</td>\n",
       "    </tr>\n",
       "    <tr>\n",
       "      <th>13940</th>\n",
       "      <td>0</td>\n",
       "      <td>0</td>\n",
       "      <td>1</td>\n",
       "      <td>0</td>\n",
       "      <td>0</td>\n",
       "      <td>0</td>\n",
       "      <td>0</td>\n",
       "      <td>0</td>\n",
       "      <td>0</td>\n",
       "      <td>0</td>\n",
       "      <td>...</td>\n",
       "      <td>0</td>\n",
       "      <td>0</td>\n",
       "      <td>0</td>\n",
       "      <td>0</td>\n",
       "      <td>0</td>\n",
       "      <td>0</td>\n",
       "      <td>0</td>\n",
       "      <td>4</td>\n",
       "      <td>1076</td>\n",
       "      <td>337.5</td>\n",
       "    </tr>\n",
       "    <tr>\n",
       "      <th>9116</th>\n",
       "      <td>0</td>\n",
       "      <td>0</td>\n",
       "      <td>0</td>\n",
       "      <td>0</td>\n",
       "      <td>0</td>\n",
       "      <td>1</td>\n",
       "      <td>1</td>\n",
       "      <td>0</td>\n",
       "      <td>0</td>\n",
       "      <td>0</td>\n",
       "      <td>...</td>\n",
       "      <td>0</td>\n",
       "      <td>0</td>\n",
       "      <td>0</td>\n",
       "      <td>0</td>\n",
       "      <td>0</td>\n",
       "      <td>0</td>\n",
       "      <td>0</td>\n",
       "      <td>4</td>\n",
       "      <td>1078</td>\n",
       "      <td>337.4</td>\n",
       "    </tr>\n",
       "    <tr>\n",
       "      <th>15297</th>\n",
       "      <td>0</td>\n",
       "      <td>0</td>\n",
       "      <td>0</td>\n",
       "      <td>0</td>\n",
       "      <td>0</td>\n",
       "      <td>1</td>\n",
       "      <td>0</td>\n",
       "      <td>0</td>\n",
       "      <td>0</td>\n",
       "      <td>0</td>\n",
       "      <td>...</td>\n",
       "      <td>0</td>\n",
       "      <td>0</td>\n",
       "      <td>0</td>\n",
       "      <td>0</td>\n",
       "      <td>0</td>\n",
       "      <td>0</td>\n",
       "      <td>0</td>\n",
       "      <td>3</td>\n",
       "      <td>1075</td>\n",
       "      <td>337.0</td>\n",
       "    </tr>\n",
       "    <tr>\n",
       "      <th>2604</th>\n",
       "      <td>0</td>\n",
       "      <td>0</td>\n",
       "      <td>0</td>\n",
       "      <td>0</td>\n",
       "      <td>0</td>\n",
       "      <td>1</td>\n",
       "      <td>0</td>\n",
       "      <td>0</td>\n",
       "      <td>0</td>\n",
       "      <td>0</td>\n",
       "      <td>...</td>\n",
       "      <td>0</td>\n",
       "      <td>0</td>\n",
       "      <td>0</td>\n",
       "      <td>0</td>\n",
       "      <td>0</td>\n",
       "      <td>0</td>\n",
       "      <td>0</td>\n",
       "      <td>1</td>\n",
       "      <td>1077</td>\n",
       "      <td>336.9</td>\n",
       "    </tr>\n",
       "    <tr>\n",
       "      <th>17182</th>\n",
       "      <td>0</td>\n",
       "      <td>0</td>\n",
       "      <td>0</td>\n",
       "      <td>0</td>\n",
       "      <td>0</td>\n",
       "      <td>0</td>\n",
       "      <td>0</td>\n",
       "      <td>0</td>\n",
       "      <td>0</td>\n",
       "      <td>0</td>\n",
       "      <td>...</td>\n",
       "      <td>0</td>\n",
       "      <td>0</td>\n",
       "      <td>0</td>\n",
       "      <td>0</td>\n",
       "      <td>0</td>\n",
       "      <td>0</td>\n",
       "      <td>0</td>\n",
       "      <td>1</td>\n",
       "      <td>1075</td>\n",
       "      <td>336.9</td>\n",
       "    </tr>\n",
       "  </tbody>\n",
       "</table>\n",
       "<p>18720 rows × 46 columns</p>\n",
       "</div>"
      ],
      "text/plain": [
       "       30053  85228  86466  43182  47309  53461  85013  117973  10500  63646  \\\n",
       "2075       1      1      1      1      1      1      1       1      1      1   \n",
       "6508       1      1      1      1      0      1      1       1      1      1   \n",
       "1807       1      1      1      1      0      1      1       1      1      1   \n",
       "3105       1      1      1      1      1      1      1       1      1      1   \n",
       "4637       1      1      1      1      1      1      1       1      1      1   \n",
       "...      ...    ...    ...    ...    ...    ...    ...     ...    ...    ...   \n",
       "13940      0      0      1      0      0      0      0       0      0      0   \n",
       "9116       0      0      0      0      0      1      1       0      0      0   \n",
       "15297      0      0      0      0      0      1      0       0      0      0   \n",
       "2604       0      0      0      0      0      1      0       0      0      0   \n",
       "17182      0      0      0      0      0      0      0       0      0      0   \n",
       "\n",
       "       ...  82581  31516  68369  60441  117886  95676  19807  acertos  \\\n",
       "2075   ...      1      1      1      1       0      1      1       40   \n",
       "6508   ...      1      1      1      1       0      1      1       40   \n",
       "1807   ...      1      1      1      1       0      1      1       40   \n",
       "3105   ...      1      0      1      1       1      1      1       41   \n",
       "4637   ...      1      0      1      1       1      1      1       41   \n",
       "...    ...    ...    ...    ...    ...     ...    ...    ...      ...   \n",
       "13940  ...      0      0      0      0       0      0      0        4   \n",
       "9116   ...      0      0      0      0       0      0      0        4   \n",
       "15297  ...      0      0      0      0       0      0      0        3   \n",
       "2604   ...      0      0      0      0       0      0      0        1   \n",
       "17182  ...      0      0      0      0       0      0      0        1   \n",
       "\n",
       "       caderno  nota_inep  \n",
       "2075      1077      972.0  \n",
       "6508      1078      972.0  \n",
       "1807      1077      968.6  \n",
       "3105      1077      968.0  \n",
       "4637      1077      965.6  \n",
       "...        ...        ...  \n",
       "13940     1076      337.5  \n",
       "9116      1078      337.4  \n",
       "15297     1075      337.0  \n",
       "2604      1077      336.9  \n",
       "17182     1075      336.9  \n",
       "\n",
       "[18720 rows x 46 columns]"
      ]
     },
     "execution_count": 4,
     "metadata": {},
     "output_type": "execute_result"
    }
   ],
   "source": [
    "acertos = pd.read_csv('data/ac_1_2022_MT.csv')\n",
    "acertos.sort_values('nota_inep',ascending=False)"
   ]
  },
  {
   "cell_type": "code",
   "execution_count": 5,
   "id": "bf99d060-dd5d-49a0-bded-4135169dc3f8",
   "metadata": {},
   "outputs": [
    {
     "data": {
      "text/plain": [
       "<AxesSubplot:xlabel='acertos', ylabel='nota_inep'>"
      ]
     },
     "execution_count": 5,
     "metadata": {},
     "output_type": "execute_result"
    },
    {
     "data": {
      "image/png": "[encoded data removed]",
      "text/plain": [
       "<Figure size 640x480 with 1 Axes>"
      ]
     },
     "metadata": {},
     "output_type": "display_data"
    }
   ],
   "source": [
    "acertos.plot(x='acertos',y='nota_inep',kind='scatter')"
   ]
  },
  {
   "cell_type": "code",
   "execution_count": 7,
   "id": "e3aa7350-91a6-479a-acb3-eef4160490c1",
   "metadata": {},
   "outputs": [
    {
     "data": {
      "text/plain": [
       "count    18720.000000\n",
       "mean        13.043910\n",
       "std          5.535784\n",
       "min          1.000000\n",
       "25%          9.000000\n",
       "50%         12.000000\n",
       "75%         15.000000\n",
       "max         41.000000\n",
       "Name: acertos, dtype: float64"
      ]
     },
     "execution_count": 7,
     "metadata": {},
     "output_type": "execute_result"
    }
   ],
   "source": [
    "acertos['acertos'].describe()"
   ]
  }
 ],
 "metadata": {
  "kernelspec": {
   "display_name": "Python 3 (ipykernel)",
   "language": "python",
   "name": "python3"
  },
  "language_info": {
   "codemirror_mode": {
    "name": "ipython",
    "version": 3
   },
   "file_extension": ".py",
   "mimetype": "text/x-python",
   "name": "python",
   "nbconvert_exporter": "python",
   "pygments_lexer": "ipython3",
   "version": "3.9.15"
  }
 },
 "nbformat": 4,
 "nbformat_minor": 5
}
